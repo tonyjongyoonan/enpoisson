{
 "cells": [
  {
   "cell_type": "code",
   "execution_count": 2,
   "metadata": {},
   "outputs": [],
   "source": [
    "# combine csv with dask\n",
    "import dask.dataframe as dd\n",
    "import pandas as pd\n",
    "import os\n",
    "import time\n",
    "import glob\n",
    "\n",
    "def combine_csv_dask():\n",
    "    start = time.time()\n",
    "    # read csv files\n",
    "    df = dd.read_csv(['haha_longer-oct.csv', 'haha_longer-nov.csv', 'haha_longer-dec.csv'])\n",
    "    # combine csv files\n",
    "    df = df.compute()\n",
    "    # save to csv\n",
    "    df.to_csv('haha-longer-oct-dec.csv', index=False)\n",
    "    end = time.time()\n",
    "    print('dask:', end - start)\n",
    "\n",
    "combine_csv_dask()"
   ]
  }
 ],
 "metadata": {
  "kernelspec": {
   "display_name": "Python 3",
   "language": "python",
   "name": "python3"
  },
  "language_info": {
   "codemirror_mode": {
    "name": "ipython",
    "version": 3
   },
   "file_extension": ".py",
   "mimetype": "text/x-python",
   "name": "python",
   "nbconvert_exporter": "python",
   "pygments_lexer": "ipython3",
   "version": "3.8.10"
  }
 },
 "nbformat": 4,
 "nbformat_minor": 2
}
