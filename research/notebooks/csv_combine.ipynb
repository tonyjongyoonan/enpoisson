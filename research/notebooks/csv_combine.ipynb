{
 "cells": [
  {
   "cell_type": "code",
   "execution_count": 1,
   "metadata": {},
   "outputs": [],
   "source": [
    "# combine csv with dask\n",
    "import dask.dataframe as dd\n",
    "import pandas as pd\n",
    "import os\n",
    "import time\n",
    "import glob\n",
    "\n",
    "def combine_csv_dask():\n",
    "    start = time.time()\n",
    "    # read csv files\n",
    "    df = dd.read_csv(['haha_longer-oct.csv', 'haha_longer-nov.csv', 'haha_longer-dec.csv'])\n",
    "    # combine csv files\n",
    "    df = df.compute()\n",
    "    # save to csv\n",
    "    df.to_csv('haha-longer-oct-dec.csv', index=False)\n",
    "    end = time.time()\n",
    "    print('dask:', end - start)\n",
    "\n",
    "# combine_csv_dask()"
   ]
  },
  {
   "cell_type": "code",
   "execution_count": 3,
   "metadata": {},
   "outputs": [
    {
     "name": "stdout",
     "output_type": "stream",
     "text": [
      "dask: 23.855341911315918\n"
     ]
    }
   ],
   "source": [
    "def combine_csv_dask_two():\n",
    "    start = time.time()\n",
    "    # read csv files\n",
    "    df = dd.read_csv(['./../data/black-data/jan/fens.csv', \n",
    "                      './../data/black-data/feb/fens.csv', \n",
    "                      './../data/black-data/march/fens.csv',\n",
    "                      './../data/black-data/apr-jun/fens.csv',\n",
    "                      './../data/black-data/july-sept/fens.csv',\n",
    "                      './../data/black-data/oct-dec/fens.csv'])\n",
    "    # combine csv files\n",
    "    df = df.compute()\n",
    "    # save to csv\n",
    "    df.to_csv('./../data/black-data/combined/fens.csv', index=False)\n",
    "    end = time.time()\n",
    "    print('dask:', end - start)\n",
    "\n",
    "combine_csv_dask_two()"
   ]
  },
  {
   "cell_type": "code",
   "execution_count": 3,
   "metadata": {},
   "outputs": [
    {
     "name": "stdout",
     "output_type": "stream",
     "text": [
      "dask: 24.87512707710266\n"
     ]
    }
   ],
   "source": [
    "def combine_csv_dask_three():\n",
    "    start = time.time()\n",
    "    # read csv files\n",
    "    df = dd.read_csv(['./../data/2100-jan-mar.csv', \n",
    "                      './../data/2100-apr-jun.csv'])\n",
    "    # combine csv files\n",
    "    df = df.compute()\n",
    "    # save to csv\n",
    "    df.to_csv('./../data/2100-jan-jun.csv', index=False)\n",
    "    end = time.time()\n",
    "    print('dask:', end - start)\n",
    "\n",
    "combine_csv_dask_three()"
   ]
  },
  {
   "cell_type": "code",
   "execution_count": 3,
   "metadata": {},
   "outputs": [
    {
     "name": "stdout",
     "output_type": "stream",
     "text": [
      "dask: 16.105119943618774\n"
     ]
    }
   ],
   "source": [
    "def combine_csv_dask_four():\n",
    "    start = time.time()\n",
    "    # read csv files\n",
    "    df = dd.read_csv(['./../data/2100-apr.csv', \n",
    "                      './../data/2100-may.csv',\n",
    "                        './../data/2100-jun.csv'])\n",
    "    # combine csv files\n",
    "    df = df.compute()\n",
    "    # save to csv\n",
    "    df.to_csv('./../data/2100-apr-jun.csv', index=False)\n",
    "    end = time.time()\n",
    "    print('dask:', end - start)\n",
    "\n",
    "combine_csv_dask_four()"
   ]
  }
 ],
 "metadata": {
  "kernelspec": {
   "display_name": "Python 3",
   "language": "python",
   "name": "python3"
  },
  "language_info": {
   "codemirror_mode": {
    "name": "ipython",
    "version": 3
   },
   "file_extension": ".py",
   "mimetype": "text/x-python",
   "name": "python",
   "nbconvert_exporter": "python",
   "pygments_lexer": "ipython3",
   "version": "3.10.9"
  }
 },
 "nbformat": 4,
 "nbformat_minor": 2
}
