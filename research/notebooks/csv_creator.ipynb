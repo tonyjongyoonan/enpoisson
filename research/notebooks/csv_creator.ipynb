{
 "cells": [
  {
   "cell_type": "markdown",
   "metadata": {},
   "source": [
    "# First notebook for experimentation. \n",
    "Portions of this notebook has been cleaned and the function's been moved to utils.py for readability. "
   ]
  },
  {
   "cell_type": "code",
   "execution_count": 1,
   "metadata": {},
   "outputs": [],
   "source": [
    "import pandas as pd \n",
    "import torch \n",
    "from torch.utils.data import Dataset\n",
    "import numpy as np\n",
    "import torch.nn as nn\n",
    "import importlib\n",
    "import utils\n",
    "importlib.reload(utils)\n",
    "from utils import *\n",
    "import models\n",
    "importlib.reload(models)\n",
    "from models import *\n",
    "from torch.nn.utils.rnn import pack_padded_sequence, pad_packed_sequence\n",
    "\n",
    "device = torch.device(\"cuda\" if torch.cuda.is_available() else \"cpu\")"
   ]
  },
  {
   "cell_type": "code",
   "execution_count": 2,
   "metadata": {},
   "outputs": [],
   "source": [
    "\n",
    "def process_raw_csv(filepath, elo_min = 2100, elo_max = 2199):\n",
    "    # Import CSV File (from Maia: http://csslab.cs.toronto.edu/datasets/#monthly_chess_csv)\n",
    "    # The CSV has 151,072,060 rows\n",
    "    data_types ={'clock': 'float32',\n",
    "        'cp': 'object',\n",
    "        'opp_clock': 'float32',\n",
    "        'opp_clock_percent': 'float32'}\n",
    "    df = dd.read_csv(filepath, blocksize='64e6', dtype= data_types, low_memory=False)\n",
    "\n",
    "    # Filter out quick games (Bullet and HyperBullet) and take out moves that happened in the last XX seconds (this won't affect how many games we import but the # of moves we look at)\n",
    "    condition_time_control = ~df['time_control'].isin(['Bullet', 'HyperBullet'])\n",
    "    condition_clock = df['clock'] > 45\n",
    "    # condition_plays = df['num_ply'] < 80\n",
    "    filtered_df = df[condition_time_control & condition_clock]\n",
    "\n",
    "    # Select Relevant Columns\n",
    "    selected_columns = ['game_id','white_elo','black_elo','move','white_active','board']\n",
    "    filtered_df = filtered_df[selected_columns]\n",
    "\n",
    "    # Filter only games of Elo 1100-1199\n",
    "    filtered_df = filtered_df[(filtered_df['white_elo'].between(elo_min, elo_max)) & (filtered_df['black_elo'].between(elo_min, elo_max))]\n",
    "\n",
    "    # Group Same Games Together \n",
    "    def aggregate_moves(group):\n",
    "        moves = ' '.join(group['move'])  # Concatenate moves into a single string\n",
    "        white_elo = group['white_elo'].iloc[0]  # Get the first white_elo\n",
    "        black_elo = group['black_elo'].iloc[0]  # Get the first black_elo\n",
    "        white_active = group['white_active'].iloc[0]  # Get the first num_ply\n",
    "        board = '*'.join(group['board'])  # Get the first num_ply\n",
    "        import pandas as pd\n",
    "        return pd.Series({'moves': moves, 'white_elo': white_elo, 'black_elo': black_elo, 'white_active': white_active, 'board': board})\n",
    "\n",
    "    grouped_df = filtered_df.groupby('game_id',sort=True).apply(aggregate_moves, meta={'moves': 'str', 'white_elo': 'int', 'black_elo': 'int', 'white_active': 'str', 'board': 'str'}).compute()\n",
    "\n",
    "    # This gives us 99,300 Games when we don't filter games with more than 80 half-moves\n",
    "    return grouped_df"
   ]
  },
  {
   "cell_type": "code",
   "execution_count": 9,
   "metadata": {},
   "outputs": [],
   "source": [
    "# Run this cell only if you don't have haha_longer.csv\n",
    "grouped_df = process_raw_csv('../data/lichess_db_standard_rated_2019-12.csv', elo_min=2000, elo_max=2199)\n",
    "grouped_df.to_csv('2100-dec.csv')"
   ]
  }
 ],
 "metadata": {
  "kernelspec": {
   "display_name": ".venv",
   "language": "python",
   "name": "python3"
  },
  "language_info": {
   "codemirror_mode": {
    "name": "ipython",
    "version": 3
   },
   "file_extension": ".py",
   "mimetype": "text/x-python",
   "name": "python",
   "nbconvert_exporter": "python",
   "pygments_lexer": "ipython3",
   "version": "3.10.14"
  }
 },
 "nbformat": 4,
 "nbformat_minor": 2
}
