{
 "cells": [
  {
   "cell_type": "markdown",
   "metadata": {},
   "source": [
    "# Experimenting with CNNs \n",
    "\n",
    "This notebook has lots of experiments and random snippets of code as this is where we make a lot of efforts to innovate and play around."
   ]
  },
  {
   "cell_type": "code",
   "execution_count": 25,
   "metadata": {},
   "outputs": [],
   "source": [
    "import pandas as pd \n",
    "import torch \n",
    "\n",
    "import matplotlib.pyplot as plt\n",
    "from torch.utils.data import Dataset, DataLoader, Subset\n",
    "import torch.optim as optim\n",
    "from torch.optim.swa_utils import AveragedModel\n",
    "\n",
    "import dask.dataframe as dd \n",
    "import numpy as np\n",
    "import torch.nn as nn\n",
    "import importlib\n",
    "import pickle\n",
    "import utils\n",
    "import models\n",
    "importlib.reload(utils)\n",
    "from utils import *\n",
    "importlib.reload(models)\n",
    "from models import *\n",
    "from sys import getsizeof\n",
    "\n",
    "\n",
    "device = torch.device(\"cuda\" if torch.cuda.is_available() else \"cpu\")"
   ]
  },
  {
   "cell_type": "code",
   "execution_count": 2,
   "metadata": {},
   "outputs": [
    {
     "name": "stdout",
     "output_type": "stream",
     "text": [
      "         game_id                                              moves  \\\n",
      "0       00VRM44j  e2e4 g8f6 e4e5 f6g8 f1b5 f7f6 e5e6 c7c6 e6d7 c...   \n",
      "1       0MG5pz3L  c2c4 g7g6 e2e4 f8g7 d2d3 d7d6 f1e2 g8f6 g1f3 e...   \n",
      "2       0MV7dmua  e2e4 e7e5 f2f4 e5f4 g1f3 d7d5 e4d5 d8d5 b1c3 d...   \n",
      "3       0UNsyqEb  d2d4 d7d5 c2c4 g8f6 b1c3 c8f5 c1g5 e7e6 e2e3 h...   \n",
      "4       10mypbCS  d2d4 g7g6 c1h6 f8h6 g1f3 g8f6 e2e3 b8c6 f1b5 d...   \n",
      "...          ...                                                ...   \n",
      "466483  yT5CKw8c  g1f3 e7e6 b1c3 d7d5 d2d4 g8f6 c1g5 c7c5 e2e3 h...   \n",
      "466484  yxAYsxBu  e2e4 e7e5 d2d4 e5d4 c2c3 d4c3 f1c4 c3b2 c1b2 f...   \n",
      "466485  zLOF4boA  d2d4 c7c5 d4c5 b8c6 a2a3 g7g6 g1f3 f8g7 c2c3 e...   \n",
      "466486  zimmRKoi  e2e4 e7e5 g1f3 d7d6 f1c4 c7c6 h2h3 d8e7 e1g1 c...   \n",
      "466487  zzidHYZH  e2e4 e7e6 d2d4 d7d5 e4e5 c7c5 c2c3 d8b6 g1f3 b...   \n",
      "\n",
      "        white_elo  black_elo  white_active  \\\n",
      "0            1523       1500          True   \n",
      "1            1538       1580          True   \n",
      "2            1587       1575          True   \n",
      "3            1507       1545          True   \n",
      "4            1500       1500          True   \n",
      "...           ...        ...           ...   \n",
      "466483       1537       1598          True   \n",
      "466484       1569       1536          True   \n",
      "466485       1535       1594          True   \n",
      "466486       1587       1536          True   \n",
      "466487       1597       1587          True   \n",
      "\n",
      "                                                    board  \n",
      "0       rnbqkbnr/pppppppp/8/8/8/8/PPPPPPPP/RNBQKBNR w ...  \n",
      "1       rnbqkbnr/pppppppp/8/8/8/8/PPPPPPPP/RNBQKBNR w ...  \n",
      "2       rnbqkbnr/pppppppp/8/8/8/8/PPPPPPPP/RNBQKBNR w ...  \n",
      "3       rnbqkbnr/pppppppp/8/8/8/8/PPPPPPPP/RNBQKBNR w ...  \n",
      "4       rnbqkbnr/pppppppp/8/8/8/8/PPPPPPPP/RNBQKBNR w ...  \n",
      "...                                                   ...  \n",
      "466483  rnbqkbnr/pppppppp/8/8/8/8/PPPPPPPP/RNBQKBNR w ...  \n",
      "466484  rnbqkbnr/pppppppp/8/8/8/8/PPPPPPPP/RNBQKBNR w ...  \n",
      "466485  rnbqkbnr/pppppppp/8/8/8/8/PPPPPPPP/RNBQKBNR w ...  \n",
      "466486  rnbqkbnr/pppppppp/8/8/8/8/PPPPPPPP/RNBQKBNR w ...  \n",
      "466487  rnbqkbnr/pppppppp/8/8/8/8/PPPPPPPP/RNBQKBNR w ...  \n",
      "\n",
      "[466488 rows x 6 columns]\n"
     ]
    }
   ],
   "source": [
    "grouped_df = pd.read_csv(\"./../data/haha-longer-mid.csv\")\n",
    "print(grouped_df)"
   ]
  },
  {
   "cell_type": "code",
   "execution_count": 3,
   "metadata": {},
   "outputs": [],
   "source": [
    "with open('./../data/black-data/combined/vocab.pkl', 'rb') as inp:\n",
    "    vocab = pickle.load(inp)"
   ]
  },
  {
   "cell_type": "code",
   "execution_count": 4,
   "metadata": {},
   "outputs": [],
   "source": [
    "trainX, fens, trainY, vocab = df_to_data_board_only(grouped_df, sampling_rate=0.1, vocab_old = vocab)"
   ]
  },
  {
   "cell_type": "markdown",
   "metadata": {},
   "source": [
    "Now that we've finished processing the data, let's now load in the data (assuming we're starting from fresh)"
   ]
  },
  {
   "cell_type": "code",
   "execution_count": 3,
   "metadata": {},
   "outputs": [],
   "source": [
    "# Function to load a memmap file\n",
    "def load_memmap(filename, dtype, shape):\n",
    "    # Load the memmap file with read-only mode\n",
    "    return np.memmap(filename, dtype=dtype, mode='r', shape=shape)\n",
    "\n",
    "# Assuming you know the dtype and shape, for example:\n",
    "# For trainX_sequences\n",
    "dtype_trainX_sequences = np.int64  # or the correct dtype for your data\n",
    "shape_trainX_sequences = (3038976, 16)  # replace with the correct shape\n",
    "trainX_sequences = load_memmap('./../data/jan-march/trainX_sequences.memmap', dtype_trainX_sequences, shape_trainX_sequences)\n",
    "\n",
    "# For trainX\n",
    "dtype_trainX = np.int64  # or the correct dtype for your data\n",
    "shape_trainX = (3038976, 12, 8, 8)  # replace with the correct shape\n",
    "trainX = load_memmap('./../data/jan-march/trainX.memmap', dtype_trainX, shape_trainX)\n",
    "\n",
    "# For trainY\n",
    "dtype_trainY = np.int64  # or the correct dtype for your data\n",
    "shape_trainY = (3038976,)  # replace with the correct shape\n",
    "trainY = load_memmap('./../data/jan-march/trainY.memmap', dtype_trainY, shape_trainY)\n",
    "\n",
    "# For trainX_seqlengths\n",
    "dtype_trainX_seqlengths = np.int64  # or the correct dtype for your data\n",
    "shape_trainX_seqlengths = (3038976,)  # replace with the correct shape\n",
    "trainX_seqlengths = load_memmap('./../data/jan-march/trainX_seqlengths.memmap', dtype_trainX_seqlengths, shape_trainX_seqlengths)"
   ]
  },
  {
   "cell_type": "code",
   "execution_count": 5,
   "metadata": {},
   "outputs": [],
   "source": [
    "class CNNDataset(Dataset):\n",
    "    def __init__(self, boards, fens, labels):\n",
    "        self.boards = boards\n",
    "        self.fens = fens\n",
    "        self.labels = labels\n",
    "\n",
    "    def __len__(self):\n",
    "        return len(self.boards)\n",
    "\n",
    "    def __getitem__(self, idx):\n",
    "        return (\n",
    "            torch.tensor(self.boards[idx], dtype=torch.bool).float(),\n",
    "            fens[idx],\n",
    "            torch.tensor(self.labels[idx], dtype=torch.long),\n",
    "        )\n"
   ]
  },
  {
   "cell_type": "markdown",
   "metadata": {},
   "source": [
    "Functions for training"
   ]
  },
  {
   "cell_type": "code",
   "execution_count": 6,
   "metadata": {},
   "outputs": [],
   "source": [
    "def train_cnn(device, model, train_loader, val_loader, criterion, optimizer, num_epochs, learn_decay):\n",
    "    train_loss_values = []\n",
    "    train_error = []\n",
    "    val_loss_values = []\n",
    "    val_error = []\n",
    "    val_3_accuracy = []\n",
    "    swa_model = AveragedModel(model)\n",
    "    swa_start = 1\n",
    "    for epoch in range(num_epochs):\n",
    "        train_correct = 0\n",
    "        train_total = 0\n",
    "        training_loss = 0.0\n",
    "        # Training\n",
    "        model.train()\n",
    "        count = 0\n",
    "        for sequences, fens, labels in train_loader:\n",
    "            count += 1\n",
    "            sequences, labels = sequences.to(device, non_blocking=True), labels.to(device, non_blocking=True)\n",
    "            # Forward Pass\n",
    "            output = model(sequences)\n",
    "            loss = criterion(output, labels)\n",
    "            # Backpropogate & Optimize\n",
    "            optimizer.zero_grad()\n",
    "            loss.backward()\n",
    "            optimizer.step()\n",
    "            # For logging purposes\n",
    "            training_loss += loss.item()\n",
    "            _, predicted = torch.max(output.data, 1)\n",
    "            train_total += labels.size(0)\n",
    "            train_correct += (predicted == labels).sum().item()\n",
    "            if count % 1000 == 0:\n",
    "                print(f'Epoch {epoch+1}, Batch: {count}| Training Loss: {training_loss/count}')\n",
    "        if epoch >= swa_start:\n",
    "            swa_model.update_parameters(model)\n",
    "        torch.optim.swa_utils.update_bn(train_loader, swa_model)\n",
    "        # Validation\n",
    "        model.eval()\n",
    "        val_correct = 0\n",
    "        val_total = 0\n",
    "        validation_loss = 0.0\n",
    "        if val_loader is not None:\n",
    "            with torch.no_grad():\n",
    "                val_correct = 0\n",
    "                val_total = 0\n",
    "                val_top3_correct = 0\n",
    "                validation_loss = 0\n",
    "\n",
    "                for sequences, fens, labels in val_loader:\n",
    "                    sequences, labels = sequences.to(device, non_blocking=True), labels.to(device, non_blocking=True)\n",
    "                    outputs = model(sequences)\n",
    "                    _, predicted = torch.max(outputs.data, 1)\n",
    "                    val_total += labels.size(0)\n",
    "                    val_correct += (predicted == labels).sum().item()\n",
    "                    val_top3_correct += top_3_accuracy(labels, outputs) * labels.size(0)\n",
    "                    loss = criterion(outputs, labels)\n",
    "                    validation_loss += loss.item()\n",
    "\n",
    "                val_loss_values.append(validation_loss / len(val_loader))\n",
    "                val_accuracy = 100 * val_correct / val_total\n",
    "                val_top3_accuracy = 100 * val_top3_correct / val_total\n",
    "                val_error.append(100 - val_accuracy)\n",
    "                val_3_accuracy.append(val_top3_accuracy)\n",
    "\n",
    "        # Log Model Performance  \n",
    "        train_loss_values.append(training_loss)\n",
    "        train_error.append(100-100*train_correct/train_total)\n",
    "        print(f'Epoch {epoch+1}, Training Loss: {training_loss/len(train_loader)}, Validation Error: {val_error[-1]}, Validation Top-3 Accuracy: {val_3_accuracy[-1]}, Training Error: {train_error[-1]}')\n",
    "        if epoch >0 and epoch%5 == 0:\n",
    "            for op_params in optimizer.param_groups:\n",
    "                op_params['lr'] = op_params['lr'] * learn_decay\n",
    "    return train_error,train_loss_values, val_error, val_loss_values, swa_model"
   ]
  },
  {
   "cell_type": "markdown",
   "metadata": {},
   "source": [
    "Now let's train"
   ]
  },
  {
   "cell_type": "code",
   "execution_count": 7,
   "metadata": {},
   "outputs": [
    {
     "name": "stdout",
     "output_type": "stream",
     "text": [
      "2408008\n",
      "2335767\n"
     ]
    }
   ],
   "source": [
    "dataset = CNNDataset(trainX, fens, trainY)\n",
    "# Calculate split sizes\n",
    "total_size = len(dataset)\n",
    "print(total_size)\n",
    "train_size = int(0.97 * total_size)\n",
    "val_size = int(total_size * 0.02)\n",
    "\n",
    "# Create subsets for training and validation\n",
    "train_dataset = Subset(dataset, range(0, train_size))\n",
    "val_dataset = Subset(dataset, range(train_size, train_size + val_size))\n",
    "print(train_size)"
   ]
  },
  {
   "cell_type": "markdown",
   "metadata": {},
   "source": [
    "## Experiment 1 (Random CNN Architecture)\n",
    "```\n",
    "class ChessCNN(nn.Module):\n",
    "    def __init__(self, d_out):\n",
    "        super(ChessCNN, self).__init__()\n",
    "        # Assuming each channel represents a different piece type (e.g., 12 channels for 6 types each for black and white)\n",
    "        self.conv1 = nn.Conv2d(6, 12, kernel_size=3, padding=1)\n",
    "        self.conv2 = nn.Conv2d(12, 64, kernel_size=3, padding=1)\n",
    "        self.fc1 = nn.Linear(64 * 8 * 8, 128)  # Assuming an 8x8 chess board\n",
    "        self.fc2 = nn.Linear(128, d_out)\n",
    "\n",
    "    def forward(self, x):\n",
    "        # Apply convolutions\n",
    "        x = F.relu(self.conv1(x))\n",
    "        x = F.relu(self.conv2(x))\n",
    "\n",
    "        # Flatten the tensor\n",
    "        x = x.view(x.size(0), -1)\n",
    "\n",
    "        # Apply fully connected layers\n",
    "        x = F.relu(self.fc1(x))\n",
    "        x = self.fc2(x)\n",
    "\n",
    "        return x\n",
    "```"
   ]
  },
  {
   "cell_type": "code",
   "execution_count": 8,
   "metadata": {},
   "outputs": [
    {
     "name": "stdout",
     "output_type": "stream",
     "text": [
      "1801\n"
     ]
    },
    {
     "name": "stderr",
     "output_type": "stream",
     "text": [
      "/home/nathaniel/.local/lib/python3.8/site-packages/tqdm/auto.py:21: TqdmWarning: IProgress not found. Please update jupyter and ipywidgets. See https://ipywidgets.readthedocs.io/en/stable/user_install.html\n",
      "  from .autonotebook import tqdm as notebook_tqdm\n"
     ]
    },
    {
     "name": "stdout",
     "output_type": "stream",
     "text": [
      "668207\n"
     ]
    }
   ],
   "source": [
    "# We're scaling the model size so let's bring in more data as well\n",
    "train_size = int(0.95 * total_size)\n",
    "val_size = int(total_size * 0.04)\n",
    "\n",
    "# Create subsets for training and validation\n",
    "train_dataset = Subset(dataset, range(0, train_size))\n",
    "val_dataset = Subset(dataset, range(train_size, train_size + val_size))\n",
    "print(train_size)\n",
    "\n",
    "# Reload the data with particular batch size\n",
    "batch_size = 64\n",
    "train_loader = DataLoader(train_dataset, batch_size=batch_size, shuffle=False)\n",
    "val_loader = DataLoader(val_dataset, batch_size=batch_size, shuffle=False)\n",
    "\n",
    "# Initialize model, loss function, and optimizer\n",
    "NUM_EPOCHS = 4\n",
    "d_out = len(vocab.id_to_move.keys())\n",
    "model = ChessCNN_no_pooling(d_out) \n",
    "model = model.to(device)\n",
    "criterion = nn.CrossEntropyLoss()\n",
    "lr = 2e-3\n",
    "weight_decay=0\n",
    "learn_decay = 0.5\n",
    "optimizer = optim.Adam(model.parameters(), lr=lr, weight_decay=weight_decay)\n",
    "\n",
    "def count_parameters(model):\n",
    "    return sum(p.numel() for p in model.parameters() if p.requires_grad)\n",
    "print(count_parameters(model))"
   ]
  },
  {
   "cell_type": "code",
   "execution_count": 9,
   "metadata": {},
   "outputs": [
    {
     "name": "stdout",
     "output_type": "stream",
     "text": [
      "Epoch 1, Training Loss: 6.236871045211266, Validation Error: 94.66666666666667, Validation Top-3 Accuracy: 9.333333373069763, Training Error: 97.83453636868407\n",
      "Epoch 2, Training Loss: 5.539710554583319, Validation Error: 96.0, Validation Top-3 Accuracy: 13.333333373069763, Training Error: 95.61354802887286\n",
      "Epoch 3, Training Loss: 5.401360265139876, Validation Error: 92.0, Validation Top-3 Accuracy: 16.00000003973643, Training Error: 95.00277623542476\n",
      "Epoch 4, Training Loss: 5.339312701389708, Validation Error: 93.33333333333333, Validation Top-3 Accuracy: 16.00000003973643, Training Error: 94.50305385896723\n"
     ]
    },
    {
     "data": {
      "image/png": "[encoded data removed]",
      "text/plain": [
       "<Figure size 1000x500 with 1 Axes>"
      ]
     },
     "metadata": {},
     "output_type": "display_data"
    },
    {
     "data": {
      "text/plain": [
       "<Figure size 640x480 with 0 Axes>"
      ]
     },
     "metadata": {},
     "output_type": "display_data"
    }
   ],
   "source": [
    "# Train the model\n",
    "train_error,train_loss_values, val_error, val_loss_value,swa_model = train_cnn(device, model, train_loader, val_loader, criterion, optimizer, NUM_EPOCHS, learn_decay)\n",
    "\n",
    "# Plot the training error\n",
    "plt.figure(figsize=(10, 5))\n",
    "plt.plot(val_error, label='Validation Loss')\n",
    "plt.xlabel('Epoch')\n",
    "plt.ylabel('Error')\n",
    "plt.title('Validation Error')\n",
    "plt.legend()\n",
    "plt.show()\n",
    "plt.savefig('validation_error_model_rnn.png')  # This will save the plot as an image"
   ]
  },
  {
   "cell_type": "markdown",
   "metadata": {},
   "source": [
    "## Experiment 2 (Random CNN + Batch Norm)"
   ]
  },
  {
   "cell_type": "code",
   "execution_count": null,
   "metadata": {},
   "outputs": [
    {
     "name": "stdout",
     "output_type": "stream",
     "text": [
      "1634273\n",
      "1266214\n"
     ]
    }
   ],
   "source": [
    "# We're scaling the model size so let's bring in more data as well\n",
    "train_size = int(0.95 * total_size)\n",
    "val_size = int(total_size * 0.04)\n",
    "\n",
    "# Create subsets for training and validation\n",
    "train_dataset = Subset(dataset, range(0, train_size))\n",
    "val_dataset = Subset(dataset, range(train_size, train_size + val_size))\n",
    "print(train_size)\n",
    "\n",
    "# Reload the data with particular batch size\n",
    "batch_size = 64\n",
    "train_loader = DataLoader(train_dataset, batch_size=batch_size, shuffle=False)\n",
    "val_loader = DataLoader(val_dataset, batch_size=batch_size, shuffle=False)\n",
    "\n",
    "# Initialize model, loss function, and optimizer\n",
    "NUM_EPOCHS = 4\n",
    "d_out = len(vocab.id_to_move.keys())\n",
    "# We modified it to have batch norm\n",
    "model = ChessCNN_no_pooling(d_out) \n",
    "model = model.to(device)\n",
    "criterion = nn.CrossEntropyLoss()\n",
    "lr = 2e-3\n",
    "weight_decay=0\n",
    "learn_decay = 0.5\n",
    "optimizer = optim.Adam(model.parameters(), lr=lr, weight_decay=weight_decay)\n",
    "\n",
    "def count_parameters(model):\n",
    "    return sum(p.numel() for p in model.parameters() if p.requires_grad)\n",
    "print(count_parameters(model))"
   ]
  },
  {
   "cell_type": "code",
   "execution_count": null,
   "metadata": {},
   "outputs": [
    {
     "name": "stdout",
     "output_type": "stream",
     "text": [
      "Epoch 1, Batch: 1000| Training Loss: 5.300418655395508\n",
      "Epoch 1, Batch: 2000| Training Loss: 5.094209085345268\n",
      "Epoch 1, Batch: 3000| Training Loss: 4.974344409783681\n",
      "Epoch 1, Batch: 4000| Training Loss: 4.8837818021178245\n",
      "Epoch 1, Batch: 5000| Training Loss: 4.809753782558441\n",
      "Epoch 1, Batch: 6000| Training Loss: 4.752720592538516\n",
      "Epoch 1, Batch: 7000| Training Loss: 4.707095052650996\n",
      "Epoch 1, Batch: 8000| Training Loss: 4.665349202662706\n",
      "Epoch 1, Batch: 9000| Training Loss: 4.631721228255166\n",
      "Epoch 1, Batch: 10000| Training Loss: 4.603015182614326\n",
      "Epoch 1, Batch: 11000| Training Loss: 4.576271838621659\n",
      "Epoch 1, Batch: 12000| Training Loss: 4.551705922027429\n",
      "Epoch 1, Batch: 13000| Training Loss: 4.529847588172326\n",
      "Epoch 1, Batch: 14000| Training Loss: 4.510007224576814\n",
      "Epoch 1, Batch: 15000| Training Loss: 4.491536919307709\n",
      "Epoch 1, Batch: 16000| Training Loss: 4.473662362784148\n",
      "Epoch 1, Batch: 17000| Training Loss: 4.457149449937484\n",
      "Epoch 1, Batch: 18000| Training Loss: 4.443093370344903\n",
      "Epoch 1, Batch: 19000| Training Loss: 4.42921515940365\n",
      "Epoch 1, Batch: 20000| Training Loss: 4.417276974546909\n",
      "Epoch 1, Batch: 21000| Training Loss: 4.405398447536287\n",
      "Epoch 1, Batch: 22000| Training Loss: 4.393360551378944\n",
      "Epoch 1, Batch: 23000| Training Loss: 4.382446527118268\n",
      "Epoch 1, Batch: 24000| Training Loss: 4.372259339004755\n",
      "Epoch 1, Batch: 25000| Training Loss: 4.36239134932518\n",
      "Epoch 1, Training Loss: 4.356647115602231, Validation Error: 84.41237592826728, Validation Top-3 Accuracy: 31.047361613825416, Training Error: 85.51570025326247\n",
      "Epoch 2, Batch: 1000| Training Loss: 4.056401050567627\n",
      "Epoch 2, Batch: 2000| Training Loss: 4.055526137113572\n",
      "Epoch 2, Batch: 3000| Training Loss: 4.050190548976262\n",
      "Epoch 2, Batch: 4000| Training Loss: 4.044679475545883\n",
      "Epoch 2, Batch: 5000| Training Loss: 4.0340856341362\n",
      "Epoch 2, Batch: 6000| Training Loss: 4.027348898410797\n",
      "Epoch 2, Batch: 7000| Training Loss: 4.022040676389421\n",
      "Epoch 2, Batch: 8000| Training Loss: 4.015148916840554\n",
      "Epoch 2, Batch: 9000| Training Loss: 4.010641904645496\n",
      "Epoch 2, Batch: 10000| Training Loss: 4.0059422125339506\n",
      "Epoch 2, Batch: 11000| Training Loss: 4.001557858965613\n",
      "Epoch 2, Batch: 12000| Training Loss: 3.995878392080466\n",
      "Epoch 2, Batch: 13000| Training Loss: 3.9910730412006377\n",
      "Epoch 2, Batch: 14000| Training Loss: 3.986690469247954\n",
      "Epoch 2, Batch: 15000| Training Loss: 3.9818079208691914\n",
      "Epoch 2, Batch: 16000| Training Loss: 3.976315340682864\n",
      "Epoch 2, Batch: 17000| Training Loss: 3.971173010180978\n",
      "Epoch 2, Batch: 18000| Training Loss: 3.9675676909420226\n",
      "Epoch 2, Batch: 19000| Training Loss: 3.962854168741327\n",
      "Epoch 2, Batch: 20000| Training Loss: 3.959472557115555\n",
      "Epoch 2, Batch: 21000| Training Loss: 3.955572872695469\n",
      "Epoch 2, Batch: 22000| Training Loss: 3.9511577714356507\n",
      "Epoch 2, Batch: 23000| Training Loss: 3.947321232619493\n",
      "Epoch 2, Batch: 24000| Training Loss: 3.943837540477514\n",
      "Epoch 2, Batch: 25000| Training Loss: 3.9401229438591003\n",
      "Epoch 2, Training Loss: 3.9377663932311204, Validation Error: 82.98091874845592, Validation Top-3 Accuracy: 33.32461379729928, Training Error: 82.80703407570216\n",
      "Epoch 3, Batch: 1000| Training Loss: 3.8491364421844483\n",
      "Epoch 3, Batch: 2000| Training Loss: 3.8506038563251495\n",
      "Epoch 3, Batch: 3000| Training Loss: 3.8484152173201243\n",
      "Epoch 3, Batch: 4000| Training Loss: 3.846160237669945\n",
      "Epoch 3, Batch: 5000| Training Loss: 3.8391653737545015\n",
      "Epoch 3, Batch: 6000| Training Loss: 3.8348689344326656\n",
      "Epoch 3, Batch: 7000| Training Loss: 3.8314374878406525\n",
      "Epoch 3, Batch: 8000| Training Loss: 3.8268332241773604\n",
      "Epoch 3, Batch: 9000| Training Loss: 3.82452296394772\n",
      "Epoch 3, Batch: 10000| Training Loss: 3.8211573788166047\n",
      "Epoch 3, Batch: 11000| Training Loss: 3.8183171681707555\n",
      "Epoch 3, Batch: 12000| Training Loss: 3.81437405471007\n",
      "Epoch 3, Batch: 13000| Training Loss: 3.811282454930819\n",
      "Epoch 3, Batch: 14000| Training Loss: 3.8085829016992023\n",
      "Epoch 3, Batch: 15000| Training Loss: 3.805335013516744\n",
      "Epoch 3, Batch: 16000| Training Loss: 3.801323533415794\n",
      "Epoch 3, Batch: 17000| Training Loss: 3.7979178467217616\n",
      "Epoch 3, Batch: 18000| Training Loss: 3.795625418742498\n",
      "Epoch 3, Batch: 19000| Training Loss: 3.7922678429703964\n",
      "Epoch 3, Batch: 20000| Training Loss: 3.790359801530838\n",
      "Epoch 3, Batch: 21000| Training Loss: 3.7879396322908856\n",
      "Epoch 3, Batch: 22000| Training Loss: 3.7847454128157008\n",
      "Epoch 3, Batch: 23000| Training Loss: 3.782183419621509\n",
      "Epoch 3, Batch: 24000| Training Loss: 3.779943794836601\n",
      "Epoch 3, Batch: 25000| Training Loss: 3.7774078593063356\n",
      "Epoch 3, Training Loss: 3.775731625955057, Validation Error: 82.47518565345658, Validation Top-3 Accuracy: 34.39711674027265, Training Error: 81.54647356959333\n",
      "Epoch 4, Batch: 1000| Training Loss: 3.7556780605316162\n",
      "Epoch 4, Batch: 2000| Training Loss: 3.757471768975258\n",
      "Epoch 4, Batch: 3000| Training Loss: 3.757150364955266\n",
      "Epoch 4, Batch: 4000| Training Loss: 3.756484967768192\n",
      "Epoch 4, Batch: 5000| Training Loss: 3.7505855240345003\n",
      "Epoch 4, Batch: 6000| Training Loss: 3.7470411339203515\n",
      "Epoch 4, Batch: 7000| Training Loss: 3.7444133615493773\n",
      "Epoch 4, Batch: 8000| Training Loss: 3.7408402177095414\n",
      "Epoch 4, Batch: 9000| Training Loss: 3.7393569724294875\n",
      "Epoch 4, Batch: 10000| Training Loss: 3.7366030417203904\n",
      "Epoch 4, Batch: 11000| Training Loss: 3.734451805006374\n",
      "Epoch 4, Batch: 12000| Training Loss: 3.7312576607664427\n",
      "Epoch 4, Batch: 13000| Training Loss: 3.7287898648151985\n",
      "Epoch 4, Batch: 14000| Training Loss: 3.726607814158712\n",
      "Epoch 4, Batch: 15000| Training Loss: 3.723931291802724\n",
      "Epoch 4, Batch: 16000| Training Loss: 3.7204500433951617\n",
      "Epoch 4, Batch: 17000| Training Loss: 3.717596533130197\n",
      "Epoch 4, Batch: 18000| Training Loss: 3.7157719106144373\n",
      "Epoch 4, Batch: 19000| Training Loss: 3.712855565936942\n",
      "Epoch 4, Batch: 20000| Training Loss: 3.7114924082636835\n",
      "Epoch 4, Batch: 21000| Training Loss: 3.70954889751616\n",
      "Epoch 4, Batch: 22000| Training Loss: 3.706771708997813\n",
      "Epoch 4, Batch: 23000| Training Loss: 3.7046437713996223\n",
      "Epoch 4, Batch: 24000| Training Loss: 3.702883693953355\n",
      "Epoch 4, Batch: 25000| Training Loss: 3.7007305838775633\n",
      "Epoch 4, Training Loss: 3.699311668804863, Validation Error: 82.31968725930447, Validation Top-3 Accuracy: 34.753164465157035, Training Error: 80.88312050679416\n"
     ]
    },
    {
     "data": {
      "image/png": "[encoded data removed]",
      "text/plain": [
       "<Figure size 1000x500 with 1 Axes>"
      ]
     },
     "metadata": {},
     "output_type": "display_data"
    },
    {
     "data": {
      "text/plain": [
       "<Figure size 640x480 with 0 Axes>"
      ]
     },
     "metadata": {},
     "output_type": "display_data"
    }
   ],
   "source": [
    "# Train the model\n",
    "train_error,train_loss_values, val_error, val_loss_value,swa_model = train_cnn(device, model, train_loader, val_loader, criterion, optimizer, NUM_EPOCHS, learn_decay)\n",
    "\n",
    "# Plot the training error\n",
    "plt.figure(figsize=(10, 5))\n",
    "plt.plot(val_error, label='Validation Loss')\n",
    "plt.xlabel('Epoch')\n",
    "plt.ylabel('Error')\n",
    "plt.title('Validation Error')\n",
    "plt.legend()\n",
    "plt.show()\n",
    "plt.savefig('validation_error_model_rnn.png')  # This will save the plot as an image"
   ]
  },
  {
   "cell_type": "markdown",
   "metadata": {},
   "source": [
    "## Experiment 3 (With Pooling)"
   ]
  },
  {
   "cell_type": "code",
   "execution_count": null,
   "metadata": {},
   "outputs": [
    {
     "name": "stdout",
     "output_type": "stream",
     "text": [
      "1635240\n",
      "1074042\n"
     ]
    }
   ],
   "source": [
    "# We're scaling the model size so let's bring in more data as well\n",
    "train_size = int(0.95 * total_size)\n",
    "val_size = int(total_size * 0.04)\n",
    "\n",
    "# Create subsets for training and validation\n",
    "train_dataset = Subset(dataset, range(0, train_size))\n",
    "val_dataset = Subset(dataset, range(train_size, train_size + val_size))\n",
    "print(train_size)\n",
    "\n",
    "# Reload the data with particular batch size\n",
    "batch_size = 64\n",
    "train_loader = DataLoader(train_dataset, batch_size=batch_size, shuffle=False)\n",
    "val_loader = DataLoader(val_dataset, batch_size=batch_size, shuffle=False)\n",
    "\n",
    "# Initialize model, loss function, and optimizer\n",
    "NUM_EPOCHS = 4\n",
    "d_out = len(vocab.id_to_move.keys())\n",
    "model = ChessCNN_pooling(d_out) \n",
    "model = model.to(device)\n",
    "criterion = nn.CrossEntropyLoss()\n",
    "lr = 2e-3\n",
    "weight_decay=0\n",
    "learn_decay = 0.5\n",
    "optimizer = optim.Adam(model.parameters(), lr=lr, weight_decay=weight_decay)\n",
    "\n",
    "def count_parameters(model):\n",
    "    return sum(p.numel() for p in model.parameters() if p.requires_grad)\n",
    "print(count_parameters(model))"
   ]
  },
  {
   "cell_type": "code",
   "execution_count": null,
   "metadata": {},
   "outputs": [
    {
     "name": "stdout",
     "output_type": "stream",
     "text": [
      "Epoch 1, Batch: 1000| Training Loss: 5.395469004154205\n",
      "Epoch 1, Batch: 2000| Training Loss: 5.176014692306518\n",
      "Epoch 1, Batch: 3000| Training Loss: 5.054431374867757\n",
      "Epoch 1, Batch: 4000| Training Loss: 4.967140330851078\n",
      "Epoch 1, Batch: 5000| Training Loss: 4.894964256715775\n",
      "Epoch 1, Batch: 6000| Training Loss: 4.841230786164601\n",
      "Epoch 1, Batch: 7000| Training Loss: 4.801570115123476\n",
      "Epoch 1, Batch: 8000| Training Loss: 4.764032576084137\n",
      "Epoch 1, Batch: 9000| Training Loss: 4.736011730114619\n",
      "Epoch 1, Batch: 10000| Training Loss: 4.710235009169579\n",
      "Epoch 1, Batch: 11000| Training Loss: 4.687637357690117\n",
      "Epoch 1, Batch: 12000| Training Loss: 4.666666848977407\n",
      "Epoch 1, Batch: 13000| Training Loss: 4.647181960674432\n",
      "Epoch 1, Batch: 14000| Training Loss: 4.629871247087206\n",
      "Epoch 1, Batch: 15000| Training Loss: 4.613379649241765\n",
      "Epoch 1, Batch: 16000| Training Loss: 4.598858271881938\n",
      "Epoch 1, Batch: 17000| Training Loss: 4.584812736595378\n",
      "Epoch 1, Batch: 18000| Training Loss: 4.572868263747957\n",
      "Epoch 1, Batch: 19000| Training Loss: 4.561349974607166\n",
      "Epoch 1, Batch: 20000| Training Loss: 4.551736386573315\n",
      "Epoch 1, Batch: 21000| Training Loss: 4.541453595433916\n",
      "Epoch 1, Batch: 22000| Training Loss: 4.530710500662977\n",
      "Epoch 1, Batch: 23000| Training Loss: 4.520895647142244\n",
      "Epoch 1, Batch: 24000| Training Loss: 4.511531554212173\n",
      "Epoch 1, Batch: 25000| Training Loss: 4.502413407449723\n",
      "Epoch 1, Training Loss: 4.497110400469185, Validation Error: 85.22628246093069, Validation Top-3 Accuracy: 28.511880555047902, Training Error: 85.90005136860644\n",
      "Epoch 2, Batch: 1000| Training Loss: 4.220292172670364\n",
      "Epoch 2, Batch: 2000| Training Loss: 4.218635767221451\n",
      "Epoch 2, Batch: 3000| Training Loss: 4.216656699419022\n",
      "Epoch 2, Batch: 4000| Training Loss: 4.2110927348732945\n",
      "Epoch 2, Batch: 5000| Training Loss: 4.197958637332916\n",
      "Epoch 2, Batch: 6000| Training Loss: 4.189801644881566\n",
      "Epoch 2, Batch: 7000| Training Loss: 4.185056904452187\n",
      "Epoch 2, Batch: 8000| Training Loss: 4.1768066495060925\n",
      "Epoch 2, Batch: 9000| Training Loss: 4.172814848926333\n",
      "Epoch 2, Batch: 10000| Training Loss: 4.167320765662193\n",
      "Epoch 2, Batch: 11000| Training Loss: 4.162157342932441\n",
      "Epoch 2, Batch: 12000| Training Loss: 4.156783555110295\n",
      "Epoch 2, Batch: 13000| Training Loss: 4.151017713418374\n",
      "Epoch 2, Batch: 14000| Training Loss: 4.145414960588727\n",
      "Epoch 2, Batch: 15000| Training Loss: 4.139545852724711\n",
      "Epoch 2, Batch: 16000| Training Loss: 4.134275403037667\n",
      "Epoch 2, Batch: 17000| Training Loss: 4.1286794442709756\n",
      "Epoch 2, Batch: 18000| Training Loss: 4.123970227837563\n",
      "Epoch 2, Batch: 19000| Training Loss: 4.118994733961005\n",
      "Epoch 2, Batch: 20000| Training Loss: 4.1151484172225\n",
      "Epoch 2, Batch: 21000| Training Loss: 4.11045446513948\n",
      "Epoch 2, Batch: 22000| Training Loss: 4.104928976709193\n",
      "Epoch 2, Batch: 23000| Training Loss: 4.099828701931497\n",
      "Epoch 2, Batch: 24000| Training Loss: 4.094803159038226\n",
      "Epoch 2, Batch: 25000| Training Loss: 4.08995959113121\n",
      "Epoch 2, Training Loss: 4.08696570735515, Validation Error: 83.62139080927206, Validation Top-3 Accuracy: 31.772497530416505, Training Error: 82.81817959443262\n",
      "Epoch 3, Batch: 1000| Training Loss: 3.958418241024017\n",
      "Epoch 3, Batch: 2000| Training Loss: 3.956538415789604\n",
      "Epoch 3, Batch: 3000| Training Loss: 3.955653929789861\n",
      "Epoch 3, Batch: 4000| Training Loss: 3.952333236515522\n",
      "Epoch 3, Batch: 5000| Training Loss: 3.9412376168251035\n",
      "Epoch 3, Batch: 6000| Training Loss: 3.9361130592425666\n",
      "Epoch 3, Batch: 7000| Training Loss: 3.933359206233706\n",
      "Epoch 3, Batch: 8000| Training Loss: 3.9270294447243215\n",
      "Epoch 3, Batch: 9000| Training Loss: 3.925169344557656\n",
      "Epoch 3, Batch: 10000| Training Loss: 3.921281501197815\n",
      "Epoch 3, Batch: 11000| Training Loss: 3.9178756401322103\n",
      "Epoch 3, Batch: 12000| Training Loss: 3.9146790907581646\n",
      "Epoch 3, Batch: 13000| Training Loss: 3.911162238451151\n",
      "Epoch 3, Batch: 14000| Training Loss: 3.9079517684664045\n",
      "Epoch 3, Batch: 15000| Training Loss: 3.904458569351832\n",
      "Epoch 3, Batch: 16000| Training Loss: 3.9013121853917836\n",
      "Epoch 3, Batch: 17000| Training Loss: 3.8980672865054187\n",
      "Epoch 3, Batch: 18000| Training Loss: 3.895368001672957\n",
      "Epoch 3, Batch: 19000| Training Loss: 3.892495091275165\n",
      "Epoch 3, Batch: 20000| Training Loss: 3.8906526516914366\n",
      "Epoch 3, Batch: 21000| Training Loss: 3.888035206215722\n",
      "Epoch 3, Batch: 22000| Training Loss: 3.884660064979033\n",
      "Epoch 3, Batch: 23000| Training Loss: 3.881722097210262\n",
      "Epoch 3, Batch: 24000| Training Loss: 3.8788799517353376\n",
      "Epoch 3, Batch: 25000| Training Loss: 3.8760944613075257\n",
      "Epoch 3, Training Loss: 3.874406849678741, Validation Error: 82.90971939812933, Validation Top-3 Accuracy: 33.22343577459357, Training Error: 81.1757907096206\n",
      "Epoch 4, Batch: 1000| Training Loss: 3.834051711797714\n",
      "Epoch 4, Batch: 2000| Training Loss: 3.8341585537195204\n",
      "Epoch 4, Batch: 3000| Training Loss: 3.836339629173279\n",
      "Epoch 4, Batch: 4000| Training Loss: 3.835741361796856\n",
      "Epoch 4, Batch: 5000| Training Loss: 3.8263153993606567\n",
      "Epoch 4, Batch: 6000| Training Loss: 3.822617696245511\n",
      "Epoch 4, Batch: 7000| Training Loss: 3.8210317326613836\n",
      "Epoch 4, Batch: 8000| Training Loss: 3.8161712135970594\n",
      "Epoch 4, Batch: 9000| Training Loss: 3.8155462164878844\n",
      "Epoch 4, Batch: 10000| Training Loss: 3.8127270018815995\n",
      "Epoch 4, Batch: 11000| Training Loss: 3.8105448471416126\n",
      "Epoch 4, Batch: 12000| Training Loss: 3.808434358338515\n",
      "Epoch 4, Batch: 13000| Training Loss: 3.8059086987605464\n",
      "Epoch 4, Batch: 14000| Training Loss: 3.803649924499648\n",
      "Epoch 4, Batch: 15000| Training Loss: 3.801384382502238\n",
      "Epoch 4, Batch: 16000| Training Loss: 3.7990693984925747\n",
      "Epoch 4, Batch: 17000| Training Loss: 3.7967650100062875\n",
      "Epoch 4, Batch: 18000| Training Loss: 3.79493234802617\n",
      "Epoch 4, Batch: 19000| Training Loss: 3.792943139051136\n",
      "Epoch 4, Batch: 20000| Training Loss: 3.7920216008901595\n",
      "Epoch 4, Batch: 21000| Training Loss: 3.790197054942449\n",
      "Epoch 4, Batch: 22000| Training Loss: 3.7877084791768683\n",
      "Epoch 4, Batch: 23000| Training Loss: 3.785590185497118\n",
      "Epoch 4, Batch: 24000| Training Loss: 3.783561349997918\n",
      "Epoch 4, Batch: 25000| Training Loss: 3.781545750951767\n",
      "Epoch 4, Training Loss: 3.7803734328423846, Validation Error: 82.62940800557718, Validation Top-3 Accuracy: 33.8247254986894, Training Error: 80.37272816222695\n"
     ]
    },
    {
     "data": {
      "image/png": "[encoded data removed]",
      "text/plain": [
       "<Figure size 1000x500 with 1 Axes>"
      ]
     },
     "metadata": {},
     "output_type": "display_data"
    },
    {
     "data": {
      "text/plain": [
       "<Figure size 640x480 with 0 Axes>"
      ]
     },
     "metadata": {},
     "output_type": "display_data"
    }
   ],
   "source": [
    "# Train the model\n",
    "train_error,train_loss_values, val_error, val_loss_value,swa_model = train_cnn(device, model, train_loader, val_loader, criterion, optimizer, NUM_EPOCHS, learn_decay)\n",
    "\n",
    "# Plot the training error\n",
    "plt.figure(figsize=(10, 5))\n",
    "plt.plot(val_error, label='Validation Loss')\n",
    "plt.xlabel('Epoch')\n",
    "plt.ylabel('Error')\n",
    "plt.title('Validation Error')\n",
    "plt.legend()\n",
    "plt.show()\n",
    "plt.savefig('validation_error_model_rnn.png')  # This will save the plot as an image"
   ]
  },
  {
   "cell_type": "markdown",
   "metadata": {},
   "source": [
    "## Experiment 4 (Dense Architecture)"
   ]
  },
  {
   "cell_type": "code",
   "execution_count": null,
   "metadata": {},
   "outputs": [
    {
     "name": "stdout",
     "output_type": "stream",
     "text": [
      "1635240\n",
      "769450\n"
     ]
    }
   ],
   "source": [
    "# We're scaling the model size so let's bring in more data as well\n",
    "train_size = int(0.95 * total_size)\n",
    "val_size = int(total_size * 0.04)\n",
    "\n",
    "# Create subsets for training and validation\n",
    "train_dataset = Subset(dataset, range(0, train_size))\n",
    "val_dataset = Subset(dataset, range(train_size, train_size + val_size))\n",
    "print(train_size)\n",
    "\n",
    "# Reload the data with particular batch size\n",
    "batch_size = 64\n",
    "train_loader = DataLoader(train_dataset, batch_size=batch_size, shuffle=False)\n",
    "val_loader = DataLoader(val_dataset, batch_size=batch_size, shuffle=False)\n",
    "\n",
    "# Initialize model, loss function, and optimizer\n",
    "NUM_EPOCHS = 10\n",
    "d_out = len(vocab.id_to_move.keys())\n",
    "model = DenseNetEncoder(d_out) \n",
    "model = model.to(device)\n",
    "criterion = nn.CrossEntropyLoss()\n",
    "lr = 2e-3\n",
    "weight_decay=0\n",
    "learn_decay = 0.5\n",
    "optimizer = optim.Adam(model.parameters(), lr=lr, weight_decay=weight_decay)\n",
    "\n",
    "def count_parameters(model):\n",
    "    return sum(p.numel() for p in model.parameters() if p.requires_grad)\n",
    "print(count_parameters(model))"
   ]
  },
  {
   "cell_type": "code",
   "execution_count": null,
   "metadata": {},
   "outputs": [
    {
     "name": "stdout",
     "output_type": "stream",
     "text": [
      "Epoch 1, Batch: 1000| Training Loss: 5.495953320503235\n",
      "Epoch 1, Batch: 2000| Training Loss: 5.323993716239929\n",
      "Epoch 1, Batch: 3000| Training Loss: 5.214595885833105\n",
      "Epoch 1, Batch: 4000| Training Loss: 5.121598199903965\n",
      "Epoch 1, Batch: 5000| Training Loss: 5.035450867795944\n",
      "Epoch 1, Batch: 6000| Training Loss: 4.96518195784092\n",
      "Epoch 1, Batch: 7000| Training Loss: 4.907126547166279\n",
      "Epoch 1, Batch: 8000| Training Loss: 4.851445156514645\n",
      "Epoch 1, Batch: 9000| Training Loss: 4.806792579703861\n",
      "Epoch 1, Batch: 10000| Training Loss: 4.765358306407928\n",
      "Epoch 1, Batch: 11000| Training Loss: 4.726995722900737\n",
      "Epoch 1, Batch: 12000| Training Loss: 4.691529249747594\n",
      "Epoch 1, Batch: 13000| Training Loss: 4.658310576328865\n",
      "Epoch 1, Batch: 14000| Training Loss: 4.628354511260986\n",
      "Epoch 1, Batch: 15000| Training Loss: 4.599925049559276\n",
      "Epoch 1, Batch: 16000| Training Loss: 4.5737392834723\n",
      "Epoch 1, Batch: 17000| Training Loss: 4.548864794787239\n",
      "Epoch 1, Batch: 18000| Training Loss: 4.5261280860768425\n",
      "Epoch 1, Batch: 19000| Training Loss: 4.504323870069102\n",
      "Epoch 1, Batch: 20000| Training Loss: 4.485420266199112\n",
      "Epoch 1, Batch: 21000| Training Loss: 4.466484846103759\n",
      "Epoch 1, Batch: 22000| Training Loss: 4.447494180115786\n",
      "Epoch 1, Batch: 23000| Training Loss: 4.430017658347669\n",
      "Epoch 1, Batch: 24000| Training Loss: 4.4127679370145\n",
      "Epoch 1, Batch: 25000| Training Loss: 4.396642124385834\n",
      "Epoch 1, Training Loss: 4.387659169704656, Validation Error: 84.55382559693255, Validation Top-3 Accuracy: 30.068843316617713, Training Error: 85.16242264132482\n",
      "Epoch 2, Batch: 1000| Training Loss: 3.9203172426223754\n",
      "Epoch 2, Batch: 2000| Training Loss: 3.9148608174324036\n",
      "Epoch 2, Batch: 3000| Training Loss: 3.9119085110028586\n",
      "Epoch 2, Batch: 4000| Training Loss: 3.9064991981983184\n",
      "Epoch 2, Batch: 5000| Training Loss: 3.894912634134293\n",
      "Epoch 2, Batch: 6000| Training Loss: 3.8865395503044127\n",
      "Epoch 2, Batch: 7000| Training Loss: 3.8814262090751104\n",
      "Epoch 2, Batch: 8000| Training Loss: 3.873644715100527\n",
      "Epoch 2, Batch: 9000| Training Loss: 3.8705291413201226\n",
      "Epoch 2, Batch: 10000| Training Loss: 3.865679845833778\n",
      "Epoch 2, Batch: 11000| Training Loss: 3.8606359260515735\n",
      "Epoch 2, Batch: 12000| Training Loss: 3.8552742628852528\n",
      "Epoch 2, Batch: 13000| Training Loss: 3.850180687372501\n",
      "Epoch 2, Batch: 14000| Training Loss: 3.845524048141071\n",
      "Epoch 2, Batch: 15000| Training Loss: 3.8406849432786307\n",
      "Epoch 2, Batch: 16000| Training Loss: 3.836109859213233\n",
      "Epoch 2, Batch: 17000| Training Loss: 3.8314673644935384\n",
      "Epoch 2, Batch: 18000| Training Loss: 3.8273579867018594\n",
      "Epoch 2, Batch: 19000| Training Loss: 3.8228552327783483\n",
      "Epoch 2, Batch: 20000| Training Loss: 3.8201726194143295\n",
      "Epoch 2, Batch: 21000| Training Loss: 3.8164106388659707\n",
      "Epoch 2, Batch: 22000| Training Loss: 3.811726634209806\n",
      "Epoch 2, Batch: 23000| Training Loss: 3.8076302881137183\n",
      "Epoch 2, Batch: 24000| Training Loss: 3.8034172248144946\n",
      "Epoch 2, Batch: 25000| Training Loss: 3.7994954366779328\n",
      "Epoch 2, Training Loss: 3.797151383651567, Validation Error: 83.09562539940742, Validation Top-3 Accuracy: 33.37448440063203, Training Error: 81.01110540348817\n",
      "Epoch 3, Batch: 1000| Training Loss: 3.6795475161075593\n",
      "Epoch 3, Batch: 2000| Training Loss: 3.67616709959507\n",
      "Epoch 3, Batch: 3000| Training Loss: 3.67561301891009\n",
      "Epoch 3, Batch: 4000| Training Loss: 3.6748070003390314\n",
      "Epoch 3, Batch: 5000| Training Loss: 3.666650278711319\n",
      "Epoch 3, Batch: 6000| Training Loss: 3.661568022569021\n",
      "Epoch 3, Batch: 7000| Training Loss: 3.6595668280465263\n",
      "Epoch 3, Batch: 8000| Training Loss: 3.655049916177988\n",
      "Epoch 3, Batch: 9000| Training Loss: 3.654467706018024\n",
      "Epoch 3, Batch: 10000| Training Loss: 3.65196614484787\n",
      "Epoch 3, Batch: 11000| Training Loss: 3.6491978067268023\n",
      "Epoch 3, Batch: 12000| Training Loss: 3.646313188612461\n",
      "Epoch 3, Batch: 13000| Training Loss: 3.6436520569141093\n",
      "Epoch 3, Batch: 14000| Training Loss: 3.6414159355163576\n",
      "Epoch 3, Batch: 15000| Training Loss: 3.6389774318218233\n",
      "Epoch 3, Batch: 16000| Training Loss: 3.6363104400485753\n",
      "Epoch 3, Batch: 17000| Training Loss: 3.6338466206999387\n",
      "Epoch 3, Batch: 18000| Training Loss: 3.631664570212364\n",
      "Epoch 3, Batch: 19000| Training Loss: 3.6290189741285226\n",
      "Epoch 3, Batch: 20000| Training Loss: 3.628061827135086\n",
      "Epoch 3, Batch: 21000| Training Loss: 3.6261151987257456\n",
      "Epoch 3, Batch: 22000| Training Loss: 3.623225756504319\n",
      "Epoch 3, Batch: 23000| Training Loss: 3.6207603096443672\n",
      "Epoch 3, Batch: 24000| Training Loss: 3.6183224454522134\n",
      "Epoch 3, Batch: 25000| Training Loss: 3.61606462931633\n",
      "Epoch 3, Training Loss: 3.6146947757721244, Validation Error: 82.33312031604021, Validation Top-3 Accuracy: 34.88206588078548, Training Error: 79.44754286832514\n",
      "Epoch 4, Batch: 1000| Training Loss: 3.5711690912246703\n",
      "Epoch 4, Batch: 2000| Training Loss: 3.56890098798275\n",
      "Epoch 4, Batch: 3000| Training Loss: 3.5695479199091595\n",
      "Epoch 4, Batch: 4000| Training Loss: 3.570588819026947\n",
      "Epoch 4, Batch: 5000| Training Loss: 3.563962132692337\n",
      "Epoch 4, Batch: 6000| Training Loss: 3.560256939013799\n",
      "Epoch 4, Batch: 7000| Training Loss: 3.5592129831314088\n",
      "Epoch 4, Batch: 8000| Training Loss: 3.555699341505766\n",
      "Epoch 4, Batch: 9000| Training Loss: 3.5558307237890032\n",
      "Epoch 4, Batch: 10000| Training Loss: 3.554049173641205\n",
      "Epoch 4, Batch: 11000| Training Loss: 3.552091002876108\n",
      "Epoch 4, Batch: 12000| Training Loss: 3.5500112027923265\n",
      "Epoch 4, Batch: 13000| Training Loss: 3.5481679620926196\n",
      "Epoch 4, Batch: 14000| Training Loss: 3.54670869071143\n",
      "Epoch 4, Batch: 15000| Training Loss: 3.5450707608064014\n",
      "Epoch 4, Batch: 16000| Training Loss: 3.543028995066881\n",
      "Epoch 4, Batch: 17000| Training Loss: 3.5412755277717816\n",
      "Epoch 4, Batch: 18000| Training Loss: 3.53974481066068\n",
      "Epoch 4, Batch: 19000| Training Loss: 3.537745498205486\n",
      "Epoch 4, Batch: 20000| Training Loss: 3.5372970200657843\n",
      "Epoch 4, Batch: 21000| Training Loss: 3.535890220471791\n",
      "Epoch 4, Batch: 22000| Training Loss: 3.533599802634933\n",
      "Epoch 4, Batch: 23000| Training Loss: 3.531642183718474\n",
      "Epoch 4, Batch: 24000| Training Loss: 3.529776757647594\n",
      "Epoch 4, Batch: 25000| Training Loss: 3.528040166358948\n",
      "Epoch 4, Training Loss: 3.5270035814984215, Validation Error: 81.95549875094406, Validation Top-3 Accuracy: 35.59083251065825, Training Error: 78.63463467136323\n",
      "Epoch 5, Batch: 1000| Training Loss: 3.5170739617347717\n",
      "Epoch 5, Batch: 2000| Training Loss: 3.5155203775167467\n",
      "Epoch 5, Batch: 3000| Training Loss: 3.5168566988309222\n",
      "Epoch 5, Batch: 4000| Training Loss: 3.5186029767394067\n",
      "Epoch 5, Batch: 5000| Training Loss: 3.5126462604522706\n",
      "Epoch 5, Batch: 6000| Training Loss: 3.509606366475423\n",
      "Epoch 5, Batch: 7000| Training Loss: 3.508917309113911\n",
      "Epoch 5, Batch: 8000| Training Loss: 3.505826772630215\n",
      "Epoch 5, Batch: 9000| Training Loss: 3.5062446772787306\n",
      "Epoch 5, Batch: 10000| Training Loss: 3.504777743601799\n",
      "Epoch 5, Batch: 11000| Training Loss: 3.5032051847197794\n",
      "Epoch 5, Batch: 12000| Training Loss: 3.5014767299890517\n",
      "Epoch 5, Batch: 13000| Training Loss: 3.500003973520719\n",
      "Epoch 5, Batch: 14000| Training Loss: 3.4988891693523954\n",
      "Epoch 5, Batch: 15000| Training Loss: 3.4976099306106567\n",
      "Epoch 5, Batch: 16000| Training Loss: 3.4958444889634848\n",
      "Epoch 5, Batch: 17000| Training Loss: 3.494406346755869\n",
      "Epoch 5, Batch: 18000| Training Loss: 3.493131273229917\n",
      "Epoch 5, Batch: 19000| Training Loss: 3.491396871729901\n",
      "Epoch 5, Batch: 20000| Training Loss: 3.491157366514206\n",
      "Epoch 5, Batch: 21000| Training Loss: 3.4899464268457323\n",
      "Epoch 5, Batch: 22000| Training Loss: 3.4878966631564228\n",
      "Epoch 5, Batch: 23000| Training Loss: 3.4861423619000806\n",
      "Epoch 5, Batch: 24000| Training Loss: 3.484498175114393\n",
      "Epoch 5, Batch: 25000| Training Loss: 3.482954640455246\n",
      "Epoch 5, Training Loss: 3.4820516519754405, Validation Error: 81.81171207808052, Validation Top-3 Accuracy: 35.84645326241564, Training Error: 78.17329566302195\n",
      "Epoch 6, Batch: 1000| Training Loss: 3.4890455536842344\n",
      "Epoch 6, Batch: 2000| Training Loss: 3.4880905547142027\n",
      "Epoch 6, Batch: 3000| Training Loss: 3.4898018960952757\n",
      "Epoch 6, Batch: 4000| Training Loss: 3.491847390592098\n",
      "Epoch 6, Batch: 5000| Training Loss: 3.486257808971405\n",
      "Epoch 6, Batch: 6000| Training Loss: 3.4834547915856042\n",
      "Epoch 6, Batch: 7000| Training Loss: 3.48297598361969\n",
      "Epoch 6, Batch: 8000| Training Loss: 3.480088584959507\n",
      "Epoch 6, Batch: 9000| Training Loss: 3.4806286335786183\n",
      "Epoch 6, Batch: 10000| Training Loss: 3.4793301143169404\n",
      "Epoch 6, Batch: 11000| Training Loss: 3.4779380536946385\n",
      "Epoch 6, Batch: 12000| Training Loss: 3.4763688540657363\n",
      "Epoch 6, Batch: 13000| Training Loss: 3.4750831151192005\n",
      "Epoch 6, Batch: 14000| Training Loss: 3.47415083358969\n",
      "Epoch 6, Batch: 15000| Training Loss: 3.4730448011080424\n",
      "Epoch 6, Batch: 16000| Training Loss: 3.471417224258184\n",
      "Epoch 6, Batch: 17000| Training Loss: 3.47014388219048\n",
      "Epoch 6, Batch: 18000| Training Loss: 3.4689855761528015\n",
      "Epoch 6, Batch: 19000| Training Loss: 3.4673761171541715\n",
      "Epoch 6, Batch: 20000| Training Loss: 3.467249290537834\n",
      "Epoch 6, Batch: 21000| Training Loss: 3.466133316040039\n",
      "Epoch 6, Batch: 22000| Training Loss: 3.4641874429529365\n",
      "Epoch 6, Batch: 23000| Training Loss: 3.4625290026664732\n",
      "Epoch 6, Batch: 24000| Training Loss: 3.460995137880246\n",
      "Epoch 6, Batch: 25000| Training Loss: 3.4595400708293913\n",
      "Epoch 6, Training Loss: 3.458689305624716, Validation Error: 81.78847382792075, Validation Top-3 Accuracy: 35.97716841852548, Training Error: 77.92880555759399\n",
      "Epoch 7, Batch: 1000| Training Loss: 3.4743110656738283\n",
      "Epoch 7, Batch: 2000| Training Loss: 3.4738919500112533\n",
      "Epoch 7, Batch: 3000| Training Loss: 3.475745526711146\n",
      "Epoch 7, Batch: 4000| Training Loss: 3.47799705016613\n",
      "Epoch 7, Batch: 5000| Training Loss: 3.4725952892780305\n",
      "Epoch 7, Batch: 6000| Training Loss: 3.469909424384435\n",
      "Epoch 7, Batch: 7000| Training Loss: 3.469519364595413\n",
      "Epoch 7, Batch: 8000| Training Loss: 3.4667566520273687\n",
      "Epoch 7, Batch: 9000| Training Loss: 3.467375208536784\n",
      "Epoch 7, Batch: 10000| Training Loss: 3.4661568667173386\n",
      "Epoch 7, Batch: 11000| Training Loss: 3.4648272192261436\n",
      "Epoch 7, Batch: 12000| Training Loss: 3.4633432670235633\n",
      "Epoch 7, Batch: 13000| Training Loss: 3.4621561303505533\n",
      "Epoch 7, Batch: 14000| Training Loss: 3.4612988075869424\n",
      "Epoch 7, Batch: 15000| Training Loss: 3.4602889915943145\n",
      "Epoch 7, Batch: 16000| Training Loss: 3.4587414225935937\n",
      "Epoch 7, Batch: 17000| Training Loss: 3.457541165309794\n",
      "Epoch 7, Batch: 18000| Training Loss: 3.4564469748338063\n",
      "Epoch 7, Batch: 19000| Training Loss: 3.4548919013173958\n",
      "Epoch 7, Batch: 20000| Training Loss: 3.4548204405784606\n",
      "Epoch 7, Batch: 21000| Training Loss: 3.4537484429109666\n",
      "Epoch 7, Batch: 22000| Training Loss: 3.451855780796571\n",
      "Epoch 7, Batch: 23000| Training Loss: 3.450240880624108\n",
      "Epoch 7, Batch: 24000| Training Loss: 3.44875884321332\n",
      "Epoch 7, Batch: 25000| Training Loss: 3.447345912437439\n",
      "Epoch 7, Training Loss: 3.446517429166678, Validation Error: 81.7754023122059, Validation Top-3 Accuracy: 36.07738337355143, Training Error: 77.78888725813948\n",
      "Epoch 8, Batch: 1000| Training Loss: 3.466620488166809\n",
      "Epoch 8, Batch: 2000| Training Loss: 3.4665037517547606\n",
      "Epoch 8, Batch: 3000| Training Loss: 3.46844974454244\n",
      "Epoch 8, Batch: 4000| Training Loss: 3.470830014407635\n",
      "Epoch 8, Batch: 5000| Training Loss: 3.4655019928455353\n",
      "Epoch 8, Batch: 6000| Training Loss: 3.4628974571625393\n",
      "Epoch 8, Batch: 7000| Training Loss: 3.4625483964511328\n",
      "Epoch 8, Batch: 8000| Training Loss: 3.4598505423367025\n",
      "Epoch 8, Batch: 9000| Training Loss: 3.4605232398774888\n",
      "Epoch 8, Batch: 10000| Training Loss: 3.4593321970939637\n",
      "Epoch 8, Batch: 11000| Training Loss: 3.4580125504190273\n",
      "Epoch 8, Batch: 12000| Training Loss: 3.456568881034851\n",
      "Epoch 8, Batch: 13000| Training Loss: 3.4554400359667263\n",
      "Epoch 8, Batch: 14000| Training Loss: 3.454607665351459\n",
      "Epoch 8, Batch: 15000| Training Loss: 3.4536510184923808\n",
      "Epoch 8, Batch: 16000| Training Loss: 3.452146031796932\n",
      "Epoch 8, Batch: 17000| Training Loss: 3.450977709447636\n",
      "Epoch 8, Batch: 18000| Training Loss: 3.4499176898267536\n",
      "Epoch 8, Batch: 19000| Training Loss: 3.4483930983543396\n",
      "Epoch 8, Batch: 20000| Training Loss: 3.4483492222309113\n",
      "Epoch 8, Batch: 21000| Training Loss: 3.4472993357522146\n",
      "Epoch 8, Batch: 22000| Training Loss: 3.445432462020354\n",
      "Epoch 8, Batch: 23000| Training Loss: 3.4438425707298777\n",
      "Epoch 8, Batch: 24000| Training Loss: 3.4423904696504275\n",
      "Epoch 8, Batch: 25000| Training Loss: 3.440995429344177\n",
      "Epoch 8, Training Loss: 3.440176294422034, Validation Error: 81.79137860919073, Validation Top-3 Accuracy: 36.1093359675211, Training Error: 77.72437073457107\n",
      "Epoch 9, Batch: 1000| Training Loss: 3.4625135366916657\n",
      "Epoch 9, Batch: 2000| Training Loss: 3.4625716449022295\n",
      "Epoch 9, Batch: 3000| Training Loss: 3.464603835741679\n",
      "Epoch 9, Batch: 4000| Training Loss: 3.467070866048336\n",
      "Epoch 9, Batch: 5000| Training Loss: 3.461768845462799\n",
      "Epoch 9, Batch: 6000| Training Loss: 3.4592274287144344\n",
      "Epoch 9, Batch: 7000| Training Loss: 3.4589078082697733\n",
      "Epoch 9, Batch: 8000| Training Loss: 3.4562485882341862\n",
      "Epoch 9, Batch: 9000| Training Loss: 3.456960891776615\n",
      "Epoch 9, Batch: 10000| Training Loss: 3.4557861908912657\n",
      "Epoch 9, Batch: 11000| Training Loss: 3.4544649232951077\n",
      "Epoch 9, Batch: 12000| Training Loss: 3.453041072030862\n",
      "Epoch 9, Batch: 13000| Training Loss: 3.451944695564417\n",
      "Epoch 9, Batch: 14000| Training Loss: 3.4511259140627724\n",
      "Epoch 9, Batch: 15000| Training Loss: 3.4501952299276986\n",
      "Epoch 9, Batch: 16000| Training Loss: 3.448709473103285\n",
      "Epoch 9, Batch: 17000| Training Loss: 3.4475573703260984\n",
      "Epoch 9, Batch: 18000| Training Loss: 3.4465137216117645\n",
      "Epoch 9, Batch: 19000| Training Loss: 3.4450091959677245\n",
      "Epoch 9, Batch: 20000| Training Loss: 3.4449764432430268\n",
      "Epoch 9, Batch: 21000| Training Loss: 3.443939247755777\n",
      "Epoch 9, Batch: 22000| Training Loss: 3.4420841631564225\n",
      "Epoch 9, Batch: 23000| Training Loss: 3.4405069452990658\n",
      "Epoch 9, Batch: 24000| Training Loss: 3.4390706930657227\n",
      "Epoch 9, Batch: 25000| Training Loss: 3.4376831456279753\n",
      "Epoch 9, Training Loss: 3.4368700182865726, Validation Error: 81.8146168593505, Validation Top-3 Accuracy: 36.09481206117125, Training Error: 77.68988038453071\n",
      "Epoch 10, Batch: 1000| Training Loss: 3.460336681842804\n",
      "Epoch 10, Batch: 2000| Training Loss: 3.460490183472633\n",
      "Epoch 10, Batch: 3000| Training Loss: 3.4626017587184905\n",
      "Epoch 10, Batch: 4000| Training Loss: 3.4651112718582153\n",
      "Epoch 10, Batch: 5000| Training Loss: 3.4598159986972807\n",
      "Epoch 10, Batch: 6000| Training Loss: 3.457314914862315\n",
      "Epoch 10, Batch: 7000| Training Loss: 3.4570083387919834\n",
      "Epoch 10, Batch: 8000| Training Loss: 3.45437156227231\n",
      "Epoch 10, Batch: 9000| Training Loss: 3.45510339890586\n",
      "Epoch 10, Batch: 10000| Training Loss: 3.453945965075493\n",
      "Epoch 10, Batch: 11000| Training Loss: 3.4526202581145546\n",
      "Epoch 10, Batch: 12000| Training Loss: 3.451209951420625\n",
      "Epoch 10, Batch: 13000| Training Loss: 3.4501311368208665\n",
      "Epoch 10, Batch: 14000| Training Loss: 3.4493259476593563\n",
      "Epoch 10, Batch: 15000| Training Loss: 3.448407497517268\n",
      "Epoch 10, Batch: 16000| Training Loss: 3.4469274972230197\n",
      "Epoch 10, Batch: 17000| Training Loss: 3.445782541962231\n",
      "Epoch 10, Batch: 18000| Training Loss: 3.444747172938453\n",
      "Epoch 10, Batch: 19000| Training Loss: 3.443255436357699\n",
      "Epoch 10, Batch: 20000| Training Loss: 3.4432269076108932\n",
      "Epoch 10, Batch: 21000| Training Loss: 3.4421971127305713\n",
      "Epoch 10, Batch: 22000| Training Loss: 3.440346089254726\n",
      "Epoch 10, Batch: 23000| Training Loss: 3.4387749769169353\n",
      "Epoch 10, Batch: 24000| Training Loss: 3.4373464477658273\n",
      "Epoch 10, Batch: 25000| Training Loss: 3.435964462337494\n",
      "Epoch 10, Training Loss: 3.4351547436211973, Validation Error: 81.78702143728577, Validation Top-3 Accuracy: 36.116597919657195, Training Error: 77.66058804823757\n"
     ]
    },
    {
     "data": {
      "image/png": "[encoded data removed]",
      "text/plain": [
       "<Figure size 1000x500 with 1 Axes>"
      ]
     },
     "metadata": {},
     "output_type": "display_data"
    },
    {
     "data": {
      "text/plain": [
       "<Figure size 640x480 with 0 Axes>"
      ]
     },
     "metadata": {},
     "output_type": "display_data"
    }
   ],
   "source": [
    "# Train the model\n",
    "train_error,train_loss_values, val_error, val_loss_value,swa_model = train_cnn(device, model, train_loader, val_loader, criterion, optimizer, NUM_EPOCHS, learn_decay)\n",
    "\n",
    "# Plot the training error\n",
    "plt.figure(figsize=(10, 5))\n",
    "plt.plot(val_error, label='Validation Loss')\n",
    "plt.xlabel('Epoch')\n",
    "plt.ylabel('Error')\n",
    "plt.title('Validation Error')\n",
    "plt.legend()\n",
    "plt.show()\n",
    "plt.savefig('validation_error_model_rnn.png')  # This will save the plot as an image"
   ]
  },
  {
   "cell_type": "markdown",
   "metadata": {},
   "source": [
    "## Experiment 5 (12 channels)\n"
   ]
  },
  {
   "cell_type": "code",
   "execution_count": 16,
   "metadata": {},
   "outputs": [
    {
     "name": "stdout",
     "output_type": "stream",
     "text": [
      "1596749\n"
     ]
    }
   ],
   "source": [
    "# Reload the data with particular batch size\n",
    "torch.multiprocessing.set_start_method('fork', force=True)\n",
    "batch_size = 64\n",
    "# Shuffling... (False gives us )\n",
    "train_loader = DataLoader(train_dataset, batch_size=batch_size, shuffle=True, num_workers=2, pin_memory=True)\n",
    "val_loader = DataLoader(val_dataset, batch_size=batch_size, shuffle=True, num_workers=2,pin_memory=True)\n",
    "\n",
    "# Initialize model, loss function, and optimizer\n",
    "NUM_EPOCHS = 5\n",
    "d_out = len(vocab.id_to_move.keys())\n",
    "model = ChessCNN_no_pooling(d_out) \n",
    "model = model.to(device)\n",
    "criterion = nn.CrossEntropyLoss()\n",
    "lr = 2e-3\n",
    "weight_decay=0\n",
    "learn_decay = 0.5\n",
    "optimizer = optim.Adam(model.parameters(), lr=lr, weight_decay=weight_decay)\n",
    "\n",
    "def count_parameters(model):\n",
    "    return sum(p.numel() for p in model.parameters() if p.requires_grad)\n",
    "print(count_parameters(model))"
   ]
  },
  {
   "cell_type": "code",
   "execution_count": 17,
   "metadata": {},
   "outputs": [
    {
     "name": "stderr",
     "output_type": "stream",
     "text": [
      "[W ParallelNative.cpp:230] Warning: Cannot set number of intraop threads after parallel work has started or after set_num_threads call when using native parallel backend (function set_num_threads)\n",
      "[W ParallelNative.cpp:230] Warning: Cannot set number of intraop threads after parallel work has started or after set_num_threads call when using native parallel backend (function set_num_threads)\n"
     ]
    },
    {
     "name": "stdout",
     "output_type": "stream",
     "text": [
      "Epoch 1, Batch: 1000| Training Loss: 5.3230355882644655\n",
      "Epoch 1, Batch: 2000| Training Loss: 5.0432078551054005\n",
      "Epoch 1, Batch: 3000| Training Loss: 4.881313978592555\n",
      "Epoch 1, Batch: 4000| Training Loss: 4.77512623155117\n",
      "Epoch 1, Batch: 5000| Training Loss: 4.695005063199997\n",
      "Epoch 1, Batch: 6000| Training Loss: 4.63308141207695\n",
      "Epoch 1, Batch: 7000| Training Loss: 4.580868843010494\n",
      "Epoch 1, Batch: 8000| Training Loss: 4.537749739855528\n",
      "Epoch 1, Batch: 9000| Training Loss: 4.502049186441633\n",
      "Epoch 1, Batch: 10000| Training Loss: 4.471575670433045\n",
      "Epoch 1, Batch: 11000| Training Loss: 4.443449655879627\n",
      "Epoch 1, Batch: 12000| Training Loss: 4.4186740285754205\n",
      "Epoch 1, Batch: 13000| Training Loss: 4.395960050913004\n",
      "Epoch 1, Batch: 14000| Training Loss: 4.3763341557979585\n",
      "Epoch 1, Batch: 15000| Training Loss: 4.3588509413878125\n",
      "Epoch 1, Batch: 16000| Training Loss: 4.343105953812599\n",
      "Epoch 1, Batch: 17000| Training Loss: 4.329248705232844\n",
      "Epoch 1, Batch: 18000| Training Loss: 4.316839254419009\n",
      "Epoch 1, Batch: 19000| Training Loss: 4.304015044927597\n",
      "Epoch 1, Batch: 20000| Training Loss: 4.292587084901333\n",
      "Epoch 1, Batch: 21000| Training Loss: 4.28122413399106\n",
      "Epoch 1, Batch: 22000| Training Loss: 4.2700697577433155\n",
      "Epoch 1, Batch: 23000| Training Loss: 4.261366318516109\n",
      "Epoch 1, Batch: 24000| Training Loss: 4.251535277823607\n",
      "Epoch 1, Batch: 25000| Training Loss: 4.242752410316467\n",
      "Epoch 1, Batch: 26000| Training Loss: 4.235059847382399\n",
      "Epoch 1, Batch: 27000| Training Loss: 4.227759225165403\n",
      "Epoch 1, Batch: 28000| Training Loss: 4.220352049716881\n",
      "Epoch 1, Batch: 29000| Training Loss: 4.213662786985266\n",
      "Epoch 1, Batch: 30000| Training Loss: 4.207462948187192\n",
      "Epoch 1, Batch: 31000| Training Loss: 4.20085451705225\n",
      "Epoch 1, Batch: 32000| Training Loss: 4.194680442787707\n",
      "Epoch 1, Batch: 33000| Training Loss: 4.188908253286824\n",
      "Epoch 1, Batch: 34000| Training Loss: 4.183103856816011\n",
      "Epoch 1, Batch: 35000| Training Loss: 4.1779293815476555\n",
      "Epoch 1, Batch: 36000| Training Loss: 4.172804620371925\n",
      "Epoch 1, Batch: 37000| Training Loss: 4.167801969579748\n",
      "Epoch 1, Batch: 38000| Training Loss: 4.162762203360859\n",
      "Epoch 1, Batch: 39000| Training Loss: 4.158047017268646\n",
      "Epoch 1, Batch: 40000| Training Loss: 4.153704894536734\n",
      "Epoch 1, Batch: 41000| Training Loss: 4.149141904627404\n",
      "Epoch 1, Batch: 42000| Training Loss: 4.1449411743822555\n",
      "Epoch 1, Batch: 43000| Training Loss: 4.1409441992515745\n",
      "Epoch 1, Batch: 44000| Training Loss: 4.136921369276264\n",
      "Epoch 1, Batch: 45000| Training Loss: 4.1331319443808665\n"
     ]
    },
    {
     "name": "stderr",
     "output_type": "stream",
     "text": [
      "[W ParallelNative.cpp:230] Warning: Cannot set number of intraop threads after parallel work has started or after set_num_threads call when using native parallel backend (function set_num_threads)\n",
      "[W ParallelNative.cpp:230] Warning: Cannot set number of intraop threads after parallel work has started or after set_num_threads call when using native parallel backend (function set_num_threads)\n"
     ]
    },
    {
     "name": "stdout",
     "output_type": "stream",
     "text": [
      "Epoch 1, Training Loss: 4.132663186646649, Validation Error: 82.39620266701766, Validation Top-3 Accuracy: 34.14144571758248, Training Error: 83.54203130071177\n"
     ]
    },
    {
     "name": "stderr",
     "output_type": "stream",
     "text": [
      "[W ParallelNative.cpp:230] Warning: Cannot set number of intraop threads after parallel work has started or after set_num_threads call when using native parallel backend (function set_num_threads)\n",
      "[W ParallelNative.cpp:230] Warning: Cannot set number of intraop threads after parallel work has started or after set_num_threads call when using native parallel backend (function set_num_threads)\n"
     ]
    },
    {
     "name": "stdout",
     "output_type": "stream",
     "text": [
      "Epoch 2, Batch: 1000| Training Loss: 3.866259611129761\n",
      "Epoch 2, Batch: 2000| Training Loss: 3.8684986069202423\n",
      "Epoch 2, Batch: 3000| Training Loss: 3.8614338840643563\n",
      "Epoch 2, Batch: 4000| Training Loss: 3.860898588478565\n",
      "Epoch 2, Batch: 5000| Training Loss: 3.8592138722419738\n",
      "Epoch 2, Batch: 6000| Training Loss: 3.8539484158356982\n",
      "Epoch 2, Batch: 7000| Training Loss: 3.8528731610774996\n",
      "Epoch 2, Batch: 8000| Training Loss: 3.8520373948812483\n",
      "Epoch 2, Batch: 9000| Training Loss: 3.850811701456706\n",
      "Epoch 2, Batch: 10000| Training Loss: 3.849034607696533\n",
      "Epoch 2, Batch: 11000| Training Loss: 3.8484633780392734\n",
      "Epoch 2, Batch: 12000| Training Loss: 3.8463429005940757\n",
      "Epoch 2, Batch: 13000| Training Loss: 3.8449631921144634\n",
      "Epoch 2, Batch: 14000| Training Loss: 3.8443610996178217\n",
      "Epoch 2, Batch: 15000| Training Loss: 3.8431120027542116\n",
      "Epoch 2, Batch: 16000| Training Loss: 3.8424592102468016\n",
      "Epoch 2, Batch: 17000| Training Loss: 3.8420810128520517\n",
      "Epoch 2, Batch: 18000| Training Loss: 3.8408276207844416\n",
      "Epoch 2, Batch: 19000| Training Loss: 3.839651712794053\n",
      "Epoch 2, Batch: 20000| Training Loss: 3.838658721995354\n",
      "Epoch 2, Batch: 21000| Training Loss: 3.8383388596489314\n",
      "Epoch 2, Batch: 22000| Training Loss: 3.837697470133955\n",
      "Epoch 2, Batch: 23000| Training Loss: 3.837173159070637\n",
      "Epoch 2, Batch: 24000| Training Loss: 3.836742996017138\n",
      "Epoch 2, Batch: 25000| Training Loss: 3.8357050369167327\n",
      "Epoch 2, Batch: 26000| Training Loss: 3.8355851606772497\n",
      "Epoch 2, Batch: 27000| Training Loss: 3.83471240179627\n",
      "Epoch 2, Batch: 28000| Training Loss: 3.834253790736198\n",
      "Epoch 2, Batch: 29000| Training Loss: 3.8336500641395306\n",
      "Epoch 2, Batch: 30000| Training Loss: 3.8329557751496632\n",
      "Epoch 2, Batch: 31000| Training Loss: 3.832997051115959\n",
      "Epoch 2, Batch: 32000| Training Loss: 3.832585186727345\n",
      "Epoch 2, Batch: 33000| Training Loss: 3.831730733748638\n",
      "Epoch 2, Batch: 34000| Training Loss: 3.831105766857372\n",
      "Epoch 2, Batch: 35000| Training Loss: 3.8303255481447493\n",
      "Epoch 2, Batch: 36000| Training Loss: 3.8295893114407855\n",
      "Epoch 2, Batch: 37000| Training Loss: 3.8288164376439275\n",
      "Epoch 2, Batch: 38000| Training Loss: 3.828285730782308\n",
      "Epoch 2, Batch: 39000| Training Loss: 3.8273588190628933\n",
      "Epoch 2, Batch: 40000| Training Loss: 3.82676318526268\n",
      "Epoch 2, Batch: 41000| Training Loss: 3.8261374546667426\n",
      "Epoch 2, Batch: 42000| Training Loss: 3.8254286140260243\n",
      "Epoch 2, Batch: 43000| Training Loss: 3.8250944025183835\n",
      "Epoch 2, Batch: 44000| Training Loss: 3.824267656570131\n",
      "Epoch 2, Batch: 45000| Training Loss: 3.823482086896896\n"
     ]
    },
    {
     "name": "stderr",
     "output_type": "stream",
     "text": [
      "[W ParallelNative.cpp:230] Warning: Cannot set number of intraop threads after parallel work has started or after set_num_threads call when using native parallel backend (function set_num_threads)\n",
      "[W ParallelNative.cpp:230] Warning: Cannot set number of intraop threads after parallel work has started or after set_num_threads call when using native parallel backend (function set_num_threads)\n"
     ]
    },
    {
     "name": "stdout",
     "output_type": "stream",
     "text": [
      "Epoch 2, Training Loss: 3.8234425710960545, Validation Error: 81.27987232537286, Validation Top-3 Accuracy: 36.216981054332535, Training Error: 81.24021701217204\n"
     ]
    },
    {
     "name": "stderr",
     "output_type": "stream",
     "text": [
      "[W ParallelNative.cpp:230] Warning: Cannot set number of intraop threads after parallel work has started or after set_num_threads call when using native parallel backend (function set_num_threads)\n",
      "[W ParallelNative.cpp:230] Warning: Cannot set number of intraop threads after parallel work has started or after set_num_threads call when using native parallel backend (function set_num_threads)\n"
     ]
    },
    {
     "name": "stdout",
     "output_type": "stream",
     "text": [
      "Epoch 3, Batch: 1000| Training Loss: 3.704279134273529\n",
      "Epoch 3, Batch: 2000| Training Loss: 3.7134467986822126\n",
      "Epoch 3, Batch: 3000| Training Loss: 3.7156948460737866\n",
      "Epoch 3, Batch: 4000| Training Loss: 3.716224045932293\n",
      "Epoch 3, Batch: 5000| Training Loss: 3.7158610558032987\n",
      "Epoch 3, Batch: 6000| Training Loss: 3.7147421604394912\n",
      "Epoch 3, Batch: 7000| Training Loss: 3.71412761592865\n",
      "Epoch 3, Batch: 8000| Training Loss: 3.7141640707552432\n",
      "Epoch 3, Batch: 9000| Training Loss: 3.715638017813365\n",
      "Epoch 3, Batch: 10000| Training Loss: 3.7144887726306917\n",
      "Epoch 3, Batch: 11000| Training Loss: 3.7152404242862356\n",
      "Epoch 3, Batch: 12000| Training Loss: 3.7138407209912936\n",
      "Epoch 3, Batch: 13000| Training Loss: 3.7134426943522234\n",
      "Epoch 3, Batch: 14000| Training Loss: 3.712926781807627\n",
      "Epoch 3, Batch: 15000| Training Loss: 3.7131372130552927\n",
      "Epoch 3, Batch: 16000| Training Loss: 3.712661930933595\n",
      "Epoch 3, Batch: 17000| Training Loss: 3.7122827474930706\n",
      "Epoch 3, Batch: 18000| Training Loss: 3.7126090789635975\n",
      "Epoch 3, Batch: 19000| Training Loss: 3.711851783363443\n",
      "Epoch 3, Batch: 20000| Training Loss: 3.7112528957605364\n",
      "Epoch 3, Batch: 21000| Training Loss: 3.7106245272046046\n",
      "Epoch 3, Batch: 22000| Training Loss: 3.710865484931252\n",
      "Epoch 3, Batch: 23000| Training Loss: 3.7110329166287963\n",
      "Epoch 3, Batch: 24000| Training Loss: 3.7115793554683525\n",
      "Epoch 3, Batch: 25000| Training Loss: 3.712292121105194\n",
      "Epoch 3, Batch: 26000| Training Loss: 3.712082939688976\n",
      "Epoch 3, Batch: 27000| Training Loss: 3.711919175086198\n",
      "Epoch 3, Batch: 28000| Training Loss: 3.7114989332897323\n",
      "Epoch 3, Batch: 29000| Training Loss: 3.7108971705190066\n",
      "Epoch 3, Batch: 30000| Training Loss: 3.710153882606824\n",
      "Epoch 3, Batch: 31000| Training Loss: 3.710006177156202\n",
      "Epoch 3, Batch: 32000| Training Loss: 3.7099754700437186\n",
      "Epoch 3, Batch: 33000| Training Loss: 3.7103554512009476\n",
      "Epoch 3, Batch: 34000| Training Loss: 3.7100673728900797\n",
      "Epoch 3, Batch: 35000| Training Loss: 3.709672313295092\n",
      "Epoch 3, Batch: 36000| Training Loss: 3.7095268670519195\n",
      "Epoch 3, Batch: 37000| Training Loss: 3.709541498267973\n",
      "Epoch 3, Batch: 38000| Training Loss: 3.7095725019981987\n",
      "Epoch 3, Batch: 39000| Training Loss: 3.7095755480436177\n",
      "Epoch 3, Batch: 40000| Training Loss: 3.70911748355031\n",
      "Epoch 3, Batch: 41000| Training Loss: 3.708757624597084\n",
      "Epoch 3, Batch: 42000| Training Loss: 3.708652623125485\n",
      "Epoch 3, Batch: 43000| Training Loss: 3.7085554035818853\n",
      "Epoch 3, Batch: 44000| Training Loss: 3.7084670817960395\n",
      "Epoch 3, Batch: 45000| Training Loss: 3.708425235578749\n"
     ]
    },
    {
     "name": "stderr",
     "output_type": "stream",
     "text": [
      "[W ParallelNative.cpp:230] Warning: Cannot set number of intraop threads after parallel work has started or after set_num_threads call when using native parallel backend (function set_num_threads)\n",
      "[W ParallelNative.cpp:230] Warning: Cannot set number of intraop threads after parallel work has started or after set_num_threads call when using native parallel backend (function set_num_threads)\n"
     ]
    },
    {
     "name": "stdout",
     "output_type": "stream",
     "text": [
      "Epoch 3, Training Loss: 3.7083492538348133, Validation Error: 80.32560320502802, Validation Top-3 Accuracy: 37.56118428100676, Training Error: 80.26187493223998\n"
     ]
    },
    {
     "data": {
      "image/png": "[encoded data removed]",
      "text/plain": [
       "<Figure size 1000x500 with 1 Axes>"
      ]
     },
     "metadata": {},
     "output_type": "display_data"
    },
    {
     "data": {
      "text/plain": [
       "<Figure size 640x480 with 0 Axes>"
      ]
     },
     "metadata": {},
     "output_type": "display_data"
    }
   ],
   "source": [
    "# Train the model\n",
    "train_error,train_loss_values, val_error, val_loss_value,swa_model = train_cnn(device, model, train_loader, val_loader, criterion, optimizer, NUM_EPOCHS, learn_decay)\n",
    "\n",
    "# Plot the training error\n",
    "plt.figure(figsize=(10, 5))\n",
    "plt.plot(val_error, label='Validation Loss')\n",
    "plt.xlabel('Epoch')\n",
    "plt.ylabel('Error')\n",
    "plt.title('Validation Error')\n",
    "plt.legend()\n",
    "plt.show()\n",
    "plt.savefig('validation_error_model_rnn.png')  # This will save the plot as an image"
   ]
  },
  {
   "cell_type": "code",
   "execution_count": null,
   "metadata": {},
   "outputs": [
    {
     "name": "stdout",
     "output_type": "stream",
     "text": [
      "R . B Q . B . R\n",
      "P P P . . K P P\n",
      ". . N . . . . .\n",
      ". . . N P . . .\n",
      ". . b . . . . .\n",
      ". . . . . . . .\n",
      "p p p p . p p p\n",
      "r n b q k . . r\n",
      "Ke8\n",
      "Ke6\n"
     ]
    },
    {
     "data": {
      "image/png": "[encoded data removed]",
      "text/plain": [
       "<Figure size 640x480 with 2 Axes>"
      ]
     },
     "metadata": {},
     "output_type": "display_data"
    },
    {
     "name": "stdout",
     "output_type": "stream",
     "text": [
      "\n",
      "---------------------\n",
      "\n",
      "R . B Q . B . R\n",
      "P P P . . K P P\n",
      ". . N . . . . .\n",
      ". . . N P . . .\n",
      ". . b . . . . .\n",
      ". . . . . . . .\n",
      "p p p p . p p p\n",
      "r n b q k . . r\n",
      "Qxd5\n",
      "c6\n"
     ]
    },
    {
     "data": {
      "image/png": "[encoded data removed]",
      "text/plain": [
       "<Figure size 640x480 with 2 Axes>"
      ]
     },
     "metadata": {},
     "output_type": "display_data"
    },
    {
     "name": "stdout",
     "output_type": "stream",
     "text": [
      "\n",
      "---------------------\n",
      "\n",
      "R . B Q . B . R\n",
      "P P P . . . P P\n",
      ". . . . K . . .\n",
      ". . . N P . . .\n",
      ". N b . . . . .\n",
      ". . n . . q . .\n",
      "p p p p . p p p\n",
      "r . b . k . . r\n",
      "Qxd5\n",
      "b5\n"
     ]
    },
    {
     "data": {
      "image/png": "[encoded data removed]",
      "text/plain": [
       "<Figure size 640x480 with 2 Axes>"
      ]
     },
     "metadata": {},
     "output_type": "display_data"
    },
    {
     "name": "stdout",
     "output_type": "stream",
     "text": [
      "\n",
      "---------------------\n",
      "\n",
      "R . B Q . B . R\n",
      "P P . . . . P P\n",
      ". . P . K . . .\n",
      ". . . N P . . .\n",
      ". N b . . . . .\n",
      ". . n . . q . .\n",
      "p p p p . p p p\n",
      "r . b . . r k .\n",
      "Nxc6\n",
      "Qf6\n"
     ]
    },
    {
     "data": {
      "image/png": "[encoded data removed]",
      "text/plain": [
       "<Figure size 640x480 with 2 Axes>"
      ]
     },
     "metadata": {},
     "output_type": "display_data"
    },
    {
     "name": "stdout",
     "output_type": "stream",
     "text": [
      "\n",
      "---------------------\n",
      "\n",
      "R . B Q . B . R\n",
      "P . . . . . P P\n",
      ". . P . K . . .\n",
      ". P . N P . . .\n",
      ". N b p . . . .\n",
      ". . n . . q . .\n",
      "p p p . . p p p\n",
      "r . b . . r k .\n",
      "gxf6\n",
      "gxf6\n"
     ]
    },
    {
     "data": {
      "image/png": "[encoded data removed]",
      "text/plain": [
       "<Figure size 640x480 with 2 Axes>"
      ]
     },
     "metadata": {},
     "output_type": "display_data"
    },
    {
     "name": "stdout",
     "output_type": "stream",
     "text": [
      "\n",
      "---------------------\n",
      "\n",
      "R . B . . B . R\n",
      "P . . . . . P P\n",
      ". . P . K Q . .\n",
      ". P . N P . . .\n",
      ". N . p . . . .\n",
      ". b n . . q . .\n",
      "p p p . . p p p\n",
      "r . b . . r k .\n",
      "fxe5\n",
      "Kd6\n"
     ]
    },
    {
     "data": {
      "image/png": "[encoded data removed]",
      "text/plain": [
       "<Figure size 640x480 with 2 Axes>"
      ]
     },
     "metadata": {},
     "output_type": "display_data"
    },
    {
     "name": "stdout",
     "output_type": "stream",
     "text": [
      "\n",
      "---------------------\n",
      "\n",
      "R . B . . B . R\n",
      "P . . . . . . P\n",
      ". . P . K P . .\n",
      ". P . N P . . .\n",
      ". . . p . . . .\n",
      ". b . . . . . .\n",
      "p p p . . p p p\n",
      "r . b . . r k .\n",
      "e5\n",
      "e5\n"
     ]
    },
    {
     "data": {
      "image/png": "[encoded data removed]",
      "text/plain": [
       "<Figure size 640x480 with 2 Axes>"
      ]
     },
     "metadata": {},
     "output_type": "display_data"
    },
    {
     "name": "stdout",
     "output_type": "stream",
     "text": [
      "\n",
      "---------------------\n",
      "\n",
      "R N B Q K B N R\n",
      "P P P P P P P P\n",
      ". . . . . . . .\n",
      ". . . . . . . .\n",
      ". . . . . . . .\n",
      ". . . . . . . .\n",
      "p p p p p p p p\n",
      "r n b q k b n r\n",
      "Nf6\n",
      "Nf6\n"
     ]
    },
    {
     "data": {
      "image/png": "[encoded data removed]",
      "text/plain": [
       "<Figure size 640x480 with 2 Axes>"
      ]
     },
     "metadata": {},
     "output_type": "display_data"
    },
    {
     "name": "stdout",
     "output_type": "stream",
     "text": [
      "\n",
      "---------------------\n",
      "\n",
      "R . B Q K B N R\n",
      "P P P P . P P P\n",
      ". . N . . . . .\n",
      ". . . . P . . .\n",
      ". . . . p . . .\n",
      ". . . . . n . .\n",
      "p p p p . p p p\n",
      "r n b q k b . r\n",
      "dxc6\n",
      "dxc6\n"
     ]
    },
    {
     "data": {
      "image/png": "[encoded data removed]",
      "text/plain": [
       "<Figure size 640x480 with 2 Axes>"
      ]
     },
     "metadata": {},
     "output_type": "display_data"
    },
    {
     "name": "stdout",
     "output_type": "stream",
     "text": [
      "\n",
      "---------------------\n",
      "\n"
     ]
    }
   ],
   "source": [
    "\n",
    "train_loader = DataLoader(train_dataset, batch_size=1, shuffle=False)\n",
    "\n",
    "show_maps_on_training_data(model, train_loader)"
   ]
  },
  {
   "cell_type": "code",
   "execution_count": null,
   "metadata": {},
   "outputs": [],
   "source": [
    "torch.save(model.state_dict(), 'cnnmodel.pth')"
   ]
  },
  {
   "cell_type": "markdown",
   "metadata": {},
   "source": [
    "## Experiment 7 (17 channels, UCI vs SAN vs small cnn)"
   ]
  },
  {
   "cell_type": "code",
   "execution_count": 8,
   "metadata": {},
   "outputs": [
    {
     "name": "stdout",
     "output_type": "stream",
     "text": [
      "4035866\n"
     ]
    }
   ],
   "source": [
    "# Reload the data with particular batch size\n",
    "torch.multiprocessing.set_start_method('fork', force=True)\n",
    "batch_size = 64\n",
    "# Shuffling... (False gives us )\n",
    "train_loader = DataLoader(train_dataset, batch_size=batch_size, shuffle=True, num_workers=2, pin_memory=True)\n",
    "val_loader = DataLoader(val_dataset, batch_size=batch_size, shuffle=True, num_workers=2,pin_memory=True)\n",
    "\n",
    "# Initialize model, loss function, and optimizer\n",
    "NUM_EPOCHS = 7\n",
    "d_out = len(vocab.id_to_move.keys())\n",
    "# d_out = 1968\n",
    "model = SENetPure(d_out) \n",
    "model = model.to(device)\n",
    "criterion = nn.CrossEntropyLoss()\n",
    "lr = 2e-4\n",
    "weight_decay=0\n",
    "learn_decay = 0.1\n",
    "optimizer = optim.Adam(model.parameters(), lr=lr, weight_decay=weight_decay)\n",
    "\n",
    "def count_parameters(model):\n",
    "    return sum(p.numel() for p in model.parameters() if p.requires_grad)\n",
    "print(count_parameters(model))"
   ]
  },
  {
   "cell_type": "code",
   "execution_count": 9,
   "metadata": {},
   "outputs": [
    {
     "name": "stderr",
     "output_type": "stream",
     "text": [
      "[W ParallelNative.cpp:230] Warning: Cannot set number of intraop threads after parallel work has started or after set_num_threads call when using native parallel backend (function set_num_threads)\n",
      "[W ParallelNative.cpp:230] Warning: Cannot set number of intraop threads after parallel work has started or after set_num_threads call when using native parallel backend (function set_num_threads)\n"
     ]
    },
    {
     "name": "stdout",
     "output_type": "stream",
     "text": [
      "Epoch 1, Batch: 1000| Training Loss: 5.555908417224884\n",
      "Epoch 1, Batch: 2000| Training Loss: 5.22413030552864\n",
      "Epoch 1, Batch: 3000| Training Loss: 5.019992128690084\n",
      "Epoch 1, Batch: 4000| Training Loss: 4.870226920843124\n",
      "Epoch 1, Batch: 5000| Training Loss: 4.7538496837615964\n",
      "Epoch 1, Batch: 6000| Training Loss: 4.659843733708064\n",
      "Epoch 1, Batch: 7000| Training Loss: 4.577907100166593\n",
      "Epoch 1, Batch: 8000| Training Loss: 4.5110527606606485\n",
      "Epoch 1, Batch: 9000| Training Loss: 4.4515405385229325\n",
      "Epoch 1, Batch: 10000| Training Loss: 4.399301040530204\n",
      "Epoch 1, Batch: 11000| Training Loss: 4.352926912481134\n",
      "Epoch 1, Batch: 12000| Training Loss: 4.311125482479731\n",
      "Epoch 1, Batch: 13000| Training Loss: 4.272176778848355\n",
      "Epoch 1, Batch: 14000| Training Loss: 4.236758277024542\n",
      "Epoch 1, Batch: 15000| Training Loss: 4.20495356168747\n",
      "Epoch 1, Batch: 16000| Training Loss: 4.174417033791542\n",
      "Epoch 1, Batch: 17000| Training Loss: 4.146327296285068\n",
      "Epoch 1, Batch: 18000| Training Loss: 4.120001093612776\n",
      "Epoch 1, Batch: 19000| Training Loss: 4.095564364521127\n",
      "Epoch 1, Batch: 20000| Training Loss: 4.073960181987285\n",
      "Epoch 1, Batch: 21000| Training Loss: 4.052452466896602\n",
      "Epoch 1, Batch: 22000| Training Loss: 4.031882296583869\n",
      "Epoch 1, Batch: 23000| Training Loss: 4.013541463769\n",
      "Epoch 1, Batch: 24000| Training Loss: 3.9953749599953494\n",
      "Epoch 1, Batch: 25000| Training Loss: 3.9783474880886076\n",
      "Epoch 1, Batch: 26000| Training Loss: 3.9621494517234654\n",
      "Epoch 1, Batch: 27000| Training Loss: 3.946639406742873\n",
      "Epoch 1, Batch: 28000| Training Loss: 3.9314792929547173\n",
      "Epoch 1, Batch: 29000| Training Loss: 3.917531816186576\n",
      "Epoch 1, Batch: 30000| Training Loss: 3.903833643134435\n",
      "Epoch 1, Batch: 31000| Training Loss: 3.8907966410652284\n",
      "Epoch 1, Batch: 32000| Training Loss: 3.8784392973855137\n",
      "Epoch 1, Batch: 33000| Training Loss: 3.8663284566908174\n",
      "Epoch 1, Batch: 34000| Training Loss: 3.8548248878086313\n",
      "Epoch 1, Batch: 35000| Training Loss: 3.843823088645935\n",
      "Epoch 1, Batch: 36000| Training Loss: 3.8331412264638476\n"
     ]
    },
    {
     "name": "stderr",
     "output_type": "stream",
     "text": [
      "[W ParallelNative.cpp:230] Warning: Cannot set number of intraop threads after parallel work has started or after set_num_threads call when using native parallel backend (function set_num_threads)\n",
      "[W ParallelNative.cpp:230] Warning: Cannot set number of intraop threads after parallel work has started or after set_num_threads call when using native parallel backend (function set_num_threads)\n",
      "[W ParallelNative.cpp:230] Warning: Cannot set number of intraop threads after parallel work has started or after set_num_threads call when using native parallel backend (function set_num_threads)\n",
      "[W ParallelNative.cpp:230] Warning: Cannot set number of intraop threads after parallel work has started or after set_num_threads call when using native parallel backend (function set_num_threads)\n"
     ]
    },
    {
     "name": "stdout",
     "output_type": "stream",
     "text": [
      "Epoch 1, Training Loss: 3.8278044864053964, Validation Error: 80.17441860465117, Validation Top-3 Accuracy: 39.38330564784053, Training Error: 82.4978690083386\n"
     ]
    },
    {
     "name": "stderr",
     "output_type": "stream",
     "text": [
      "[W ParallelNative.cpp:230] Warning: Cannot set number of intraop threads after parallel work has started or after set_num_threads call when using native parallel backend (function set_num_threads)\n",
      "[W ParallelNative.cpp:230] Warning: Cannot set number of intraop threads after parallel work has started or after set_num_threads call when using native parallel backend (function set_num_threads)\n"
     ]
    },
    {
     "name": "stdout",
     "output_type": "stream",
     "text": [
      "Epoch 2, Batch: 1000| Training Loss: 3.3384898188114165\n",
      "Epoch 2, Batch: 2000| Training Loss: 3.334805949687958\n",
      "Epoch 2, Batch: 3000| Training Loss: 3.332273911555608\n",
      "Epoch 2, Batch: 4000| Training Loss: 3.3369795196056367\n",
      "Epoch 2, Batch: 5000| Training Loss: 3.3374285160064696\n",
      "Epoch 2, Batch: 6000| Training Loss: 3.3387122945785523\n",
      "Epoch 2, Batch: 7000| Training Loss: 3.338819973264422\n",
      "Epoch 2, Batch: 8000| Training Loss: 3.3375119844973087\n",
      "Epoch 2, Batch: 9000| Training Loss: 3.3373801890744104\n",
      "Epoch 2, Batch: 10000| Training Loss: 3.33650313706398\n",
      "Epoch 2, Batch: 11000| Training Loss: 3.336023823174563\n",
      "Epoch 2, Batch: 12000| Training Loss: 3.333764892935753\n",
      "Epoch 2, Batch: 13000| Training Loss: 3.332724644129093\n",
      "Epoch 2, Batch: 14000| Training Loss: 3.33182187468665\n",
      "Epoch 2, Batch: 15000| Training Loss: 3.33136224638621\n",
      "Epoch 2, Batch: 16000| Training Loss: 3.330609692081809\n",
      "Epoch 2, Batch: 17000| Training Loss: 3.329437863125521\n",
      "Epoch 2, Batch: 18000| Training Loss: 3.3283564117617077\n",
      "Epoch 2, Batch: 19000| Training Loss: 3.32696792049157\n",
      "Epoch 2, Batch: 20000| Training Loss: 3.3260324300050734\n",
      "Epoch 2, Batch: 21000| Training Loss: 3.3249659236499243\n",
      "Epoch 2, Batch: 22000| Training Loss: 3.3240124511935494\n",
      "Epoch 2, Batch: 23000| Training Loss: 3.3230145700288856\n",
      "Epoch 2, Batch: 24000| Training Loss: 3.3216519561707973\n",
      "Epoch 2, Batch: 25000| Training Loss: 3.3201774532699586\n",
      "Epoch 2, Batch: 26000| Training Loss: 3.318855770459542\n",
      "Epoch 2, Batch: 27000| Training Loss: 3.317286242131834\n",
      "Epoch 2, Batch: 28000| Training Loss: 3.3165210238865446\n",
      "Epoch 2, Batch: 29000| Training Loss: 3.3151829811869\n",
      "Epoch 2, Batch: 30000| Training Loss: 3.314128087703387\n",
      "Epoch 2, Batch: 31000| Training Loss: 3.312623253022471\n",
      "Epoch 2, Batch: 32000| Training Loss: 3.3111513855606316\n",
      "Epoch 2, Batch: 33000| Training Loss: 3.3097605415907774\n",
      "Epoch 2, Batch: 34000| Training Loss: 3.3083677962948292\n",
      "Epoch 2, Batch: 35000| Training Loss: 3.306950226749693\n",
      "Epoch 2, Batch: 36000| Training Loss: 3.3056204655567805\n"
     ]
    },
    {
     "name": "stderr",
     "output_type": "stream",
     "text": [
      "[W ParallelNative.cpp:230] Warning: Cannot set number of intraop threads after parallel work has started or after set_num_threads call when using native parallel backend (function set_num_threads)\n",
      "[W ParallelNative.cpp:230] Warning: Cannot set number of intraop threads after parallel work has started or after set_num_threads call when using native parallel backend (function set_num_threads)\n",
      "[W ParallelNative.cpp:230] Warning: Cannot set number of intraop threads after parallel work has started or after set_num_threads call when using native parallel backend (function set_num_threads)\n",
      "[W ParallelNative.cpp:230] Warning: Cannot set number of intraop threads after parallel work has started or after set_num_threads call when using native parallel backend (function set_num_threads)\n"
     ]
    },
    {
     "name": "stdout",
     "output_type": "stream",
     "text": [
      "Epoch 2, Training Loss: 3.3049282689915946, Validation Error: 79.01785714285714, Validation Top-3 Accuracy: 41.36420265780731, Training Error: 78.99340987350195\n"
     ]
    },
    {
     "name": "stderr",
     "output_type": "stream",
     "text": [
      "[W ParallelNative.cpp:230] Warning: Cannot set number of intraop threads after parallel work has started or after set_num_threads call when using native parallel backend (function set_num_threads)\n",
      "[W ParallelNative.cpp:230] Warning: Cannot set number of intraop threads after parallel work has started or after set_num_threads call when using native parallel backend (function set_num_threads)\n"
     ]
    },
    {
     "name": "stdout",
     "output_type": "stream",
     "text": [
      "Epoch 3, Batch: 1000| Training Loss: 3.1124183781147003\n",
      "Epoch 3, Batch: 2000| Training Loss: 3.1200090897083284\n",
      "Epoch 3, Batch: 3000| Training Loss: 3.124204547484716\n",
      "Epoch 3, Batch: 4000| Training Loss: 3.126566074371338\n",
      "Epoch 3, Batch: 5000| Training Loss: 3.13236244931221\n",
      "Epoch 3, Batch: 6000| Training Loss: 3.1342746563355126\n",
      "Epoch 3, Batch: 7000| Training Loss: 3.137376712185996\n",
      "Epoch 3, Batch: 8000| Training Loss: 3.13958532717824\n",
      "Epoch 3, Batch: 9000| Training Loss: 3.140656441317664\n",
      "Epoch 3, Batch: 10000| Training Loss: 3.142129432296753\n",
      "Epoch 3, Batch: 11000| Training Loss: 3.1433107621453025\n",
      "Epoch 3, Batch: 12000| Training Loss: 3.1448842927416165\n",
      "Epoch 3, Batch: 13000| Training Loss: 3.1454845932263593\n",
      "Epoch 3, Batch: 14000| Training Loss: 3.1472262570858\n",
      "Epoch 3, Batch: 15000| Training Loss: 3.1477427631378174\n",
      "Epoch 3, Batch: 16000| Training Loss: 3.1486505518853662\n",
      "Epoch 3, Batch: 17000| Training Loss: 3.1485761115831488\n",
      "Epoch 3, Batch: 18000| Training Loss: 3.148909171038204\n",
      "Epoch 3, Batch: 19000| Training Loss: 3.149691884756088\n",
      "Epoch 3, Batch: 20000| Training Loss: 3.150169768607616\n",
      "Epoch 3, Batch: 21000| Training Loss: 3.150867489621753\n",
      "Epoch 3, Batch: 22000| Training Loss: 3.1515244702100755\n",
      "Epoch 3, Batch: 23000| Training Loss: 3.1520568819357\n",
      "Epoch 3, Batch: 24000| Training Loss: 3.1522431228856247\n",
      "Epoch 3, Batch: 25000| Training Loss: 3.152705652360916\n",
      "Epoch 3, Batch: 26000| Training Loss: 3.153046912578436\n",
      "Epoch 3, Batch: 27000| Training Loss: 3.153806752037119\n",
      "Epoch 3, Batch: 28000| Training Loss: 3.154209881731442\n",
      "Epoch 3, Batch: 29000| Training Loss: 3.154138478040695\n",
      "Epoch 3, Batch: 30000| Training Loss: 3.153969441819191\n",
      "Epoch 3, Batch: 31000| Training Loss: 3.154024529487856\n",
      "Epoch 3, Batch: 32000| Training Loss: 3.1541093369200826\n",
      "Epoch 3, Batch: 33000| Training Loss: 3.1542453598687143\n",
      "Epoch 3, Batch: 34000| Training Loss: 3.1541291085060905\n",
      "Epoch 3, Batch: 35000| Training Loss: 3.1542807275567735\n",
      "Epoch 3, Batch: 36000| Training Loss: 3.154064361863666\n"
     ]
    },
    {
     "name": "stderr",
     "output_type": "stream",
     "text": [
      "[W ParallelNative.cpp:230] Warning: Cannot set number of intraop threads after parallel work has started or after set_num_threads call when using native parallel backend (function set_num_threads)\n",
      "[W ParallelNative.cpp:230] Warning: Cannot set number of intraop threads after parallel work has started or after set_num_threads call when using native parallel backend (function set_num_threads)\n",
      "[W ParallelNative.cpp:230] Warning: Cannot set number of intraop threads after parallel work has started or after set_num_threads call when using native parallel backend (function set_num_threads)\n",
      "[W ParallelNative.cpp:230] Warning: Cannot set number of intraop threads after parallel work has started or after set_num_threads call when using native parallel backend (function set_num_threads)\n"
     ]
    },
    {
     "name": "stdout",
     "output_type": "stream",
     "text": [
      "Epoch 3, Training Loss: 3.154040251986198, Validation Error: 78.85174418604652, Validation Top-3 Accuracy: 42.40033222591362, Training Error: 77.546904293108\n"
     ]
    },
    {
     "name": "stderr",
     "output_type": "stream",
     "text": [
      "[W ParallelNative.cpp:230] Warning: Cannot set number of intraop threads after parallel work has started or after set_num_threads call when using native parallel backend (function set_num_threads)\n",
      "[W ParallelNative.cpp:230] Warning: Cannot set number of intraop threads after parallel work has started or after set_num_threads call when using native parallel backend (function set_num_threads)\n"
     ]
    },
    {
     "name": "stdout",
     "output_type": "stream",
     "text": [
      "Epoch 4, Batch: 1000| Training Loss: 3.0102938163280486\n",
      "Epoch 4, Batch: 2000| Training Loss: 3.013518312931061\n",
      "Epoch 4, Batch: 3000| Training Loss: 3.0099025659561156\n",
      "Epoch 4, Batch: 4000| Training Loss: 3.0115398957133293\n",
      "Epoch 4, Batch: 5000| Training Loss: 3.016866055011749\n",
      "Epoch 4, Batch: 6000| Training Loss: 3.0200917491515478\n",
      "Epoch 4, Batch: 7000| Training Loss: 3.0249383791855404\n",
      "Epoch 4, Batch: 8000| Training Loss: 3.0278383041918278\n",
      "Epoch 4, Batch: 9000| Training Loss: 3.031153067774243\n",
      "Epoch 4, Batch: 10000| Training Loss: 3.0323232938051223\n",
      "Epoch 4, Batch: 11000| Training Loss: 3.0350020085031337\n",
      "Epoch 4, Batch: 12000| Training Loss: 3.0372097690701483\n",
      "Epoch 4, Batch: 13000| Training Loss: 3.0396591450251065\n",
      "Epoch 4, Batch: 14000| Training Loss: 3.0411825529677525\n",
      "Epoch 4, Batch: 15000| Training Loss: 3.0434579227924345\n",
      "Epoch 4, Batch: 16000| Training Loss: 3.0449487341344357\n",
      "Epoch 4, Batch: 17000| Training Loss: 3.0464893583830666\n",
      "Epoch 4, Batch: 18000| Training Loss: 3.0473679321077136\n",
      "Epoch 4, Batch: 19000| Training Loss: 3.0484511994939103\n",
      "Epoch 4, Batch: 20000| Training Loss: 3.0499293998956682\n",
      "Epoch 4, Batch: 21000| Training Loss: 3.05088042644092\n",
      "Epoch 4, Batch: 22000| Training Loss: 3.052098809632388\n",
      "Epoch 4, Batch: 23000| Training Loss: 3.0532431989441746\n",
      "Epoch 4, Batch: 24000| Training Loss: 3.0541317645410695\n",
      "Epoch 4, Batch: 25000| Training Loss: 3.055318471317291\n",
      "Epoch 4, Batch: 26000| Training Loss: 3.055921642743624\n",
      "Epoch 4, Batch: 27000| Training Loss: 3.056904268308922\n",
      "Epoch 4, Batch: 28000| Training Loss: 3.058197272190026\n",
      "Epoch 4, Batch: 29000| Training Loss: 3.0587732262200324\n",
      "Epoch 4, Batch: 30000| Training Loss: 3.05904243906339\n",
      "Epoch 4, Batch: 31000| Training Loss: 3.0598600912401754\n",
      "Epoch 4, Batch: 32000| Training Loss: 3.0606928737163543\n",
      "Epoch 4, Batch: 33000| Training Loss: 3.0613697533824227\n",
      "Epoch 4, Batch: 34000| Training Loss: 3.061636358527576\n",
      "Epoch 4, Batch: 35000| Training Loss: 3.0618384231635503\n",
      "Epoch 4, Batch: 36000| Training Loss: 3.062312685509523\n"
     ]
    },
    {
     "name": "stderr",
     "output_type": "stream",
     "text": [
      "[W ParallelNative.cpp:230] Warning: Cannot set number of intraop threads after parallel work has started or after set_num_threads call when using native parallel backend (function set_num_threads)\n",
      "[W ParallelNative.cpp:230] Warning: Cannot set number of intraop threads after parallel work has started or after set_num_threads call when using native parallel backend (function set_num_threads)\n",
      "[W ParallelNative.cpp:230] Warning: Cannot set number of intraop threads after parallel work has started or after set_num_threads call when using native parallel backend (function set_num_threads)\n",
      "[W ParallelNative.cpp:230] Warning: Cannot set number of intraop threads after parallel work has started or after set_num_threads call when using native parallel backend (function set_num_threads)\n"
     ]
    },
    {
     "name": "stdout",
     "output_type": "stream",
     "text": [
      "Epoch 4, Training Loss: 3.0624780184302125, Validation Error: 78.29111295681064, Validation Top-3 Accuracy: 42.94019933554817, Training Error: 76.51092767386473\n"
     ]
    },
    {
     "name": "stderr",
     "output_type": "stream",
     "text": [
      "[W ParallelNative.cpp:230] Warning: Cannot set number of intraop threads after parallel work has started or after set_num_threads call when using native parallel backend (function set_num_threads)\n",
      "[W ParallelNative.cpp:230] Warning: Cannot set number of intraop threads after parallel work has started or after set_num_threads call when using native parallel backend (function set_num_threads)\n"
     ]
    },
    {
     "name": "stdout",
     "output_type": "stream",
     "text": [
      "Epoch 5, Batch: 1000| Training Loss: 2.917114366531372\n",
      "Epoch 5, Batch: 2000| Training Loss: 2.921709358930588\n",
      "Epoch 5, Batch: 3000| Training Loss: 2.931005130370458\n",
      "Epoch 5, Batch: 4000| Training Loss: 2.936302604615688\n",
      "Epoch 5, Batch: 5000| Training Loss: 2.94068866147995\n",
      "Epoch 5, Batch: 6000| Training Loss: 2.9452525864044827\n",
      "Epoch 5, Batch: 7000| Training Loss: 2.949400205544063\n",
      "Epoch 5, Batch: 8000| Training Loss: 2.9521633331179618\n",
      "Epoch 5, Batch: 9000| Training Loss: 2.956478682067659\n",
      "Epoch 5, Batch: 10000| Training Loss: 2.9579405133247376\n",
      "Epoch 5, Batch: 11000| Training Loss: 2.959559245781465\n",
      "Epoch 5, Batch: 12000| Training Loss: 2.9624461404681206\n",
      "Epoch 5, Batch: 13000| Training Loss: 2.963971561413545\n",
      "Epoch 5, Batch: 14000| Training Loss: 2.9666407064710345\n",
      "Epoch 5, Batch: 15000| Training Loss: 2.9691461730003357\n",
      "Epoch 5, Batch: 16000| Training Loss: 2.971780002236366\n",
      "Epoch 5, Batch: 17000| Training Loss: 2.972193154180751\n",
      "Epoch 5, Batch: 18000| Training Loss: 2.9743733080493078\n",
      "Epoch 5, Batch: 19000| Training Loss: 2.9763742184137043\n",
      "Epoch 5, Batch: 20000| Training Loss: 2.977992389285564\n",
      "Epoch 5, Batch: 21000| Training Loss: 2.979654036397026\n",
      "Epoch 5, Batch: 22000| Training Loss: 2.9812645379738374\n",
      "Epoch 5, Batch: 23000| Training Loss: 2.9825434228130008\n",
      "Epoch 5, Batch: 24000| Training Loss: 2.9835539418061576\n",
      "Epoch 5, Batch: 25000| Training Loss: 2.984169361858368\n",
      "Epoch 5, Batch: 26000| Training Loss: 2.9855391820485777\n",
      "Epoch 5, Batch: 27000| Training Loss: 2.9865835858186087\n",
      "Epoch 5, Batch: 28000| Training Loss: 2.9881296182785717\n",
      "Epoch 5, Batch: 29000| Training Loss: 2.9894048665803052\n",
      "Epoch 5, Batch: 30000| Training Loss: 2.9901977361361185\n",
      "Epoch 5, Batch: 31000| Training Loss: 2.991182578371417\n",
      "Epoch 5, Batch: 32000| Training Loss: 2.9921712099537254\n",
      "Epoch 5, Batch: 33000| Training Loss: 2.992987814361399\n",
      "Epoch 5, Batch: 34000| Training Loss: 2.9941416910816643\n",
      "Epoch 5, Batch: 35000| Training Loss: 2.995079474728448\n",
      "Epoch 5, Batch: 36000| Training Loss: 2.9961543756590947\n"
     ]
    },
    {
     "name": "stderr",
     "output_type": "stream",
     "text": [
      "[W ParallelNative.cpp:230] Warning: Cannot set number of intraop threads after parallel work has started or after set_num_threads call when using native parallel backend (function set_num_threads)\n",
      "[W ParallelNative.cpp:230] Warning: Cannot set number of intraop threads after parallel work has started or after set_num_threads call when using native parallel backend (function set_num_threads)\n",
      "[W ParallelNative.cpp:230] Warning: Cannot set number of intraop threads after parallel work has started or after set_num_threads call when using native parallel backend (function set_num_threads)\n",
      "[W ParallelNative.cpp:230] Warning: Cannot set number of intraop threads after parallel work has started or after set_num_threads call when using native parallel backend (function set_num_threads)\n"
     ]
    },
    {
     "name": "stdout",
     "output_type": "stream",
     "text": [
      "Epoch 5, Training Loss: 2.996633970179251, Validation Error: 78.18521594684385, Validation Top-3 Accuracy: 43.064784053156146, Training Error: 75.71114755881044\n"
     ]
    },
    {
     "name": "stderr",
     "output_type": "stream",
     "text": [
      "[W ParallelNative.cpp:230] Warning: Cannot set number of intraop threads after parallel work has started or after set_num_threads call when using native parallel backend (function set_num_threads)\n",
      "[W ParallelNative.cpp:230] Warning: Cannot set number of intraop threads after parallel work has started or after set_num_threads call when using native parallel backend (function set_num_threads)\n"
     ]
    },
    {
     "name": "stdout",
     "output_type": "stream",
     "text": [
      "Epoch 6, Batch: 1000| Training Loss: 2.8654108233451843\n",
      "Epoch 6, Batch: 2000| Training Loss: 2.874881624698639\n",
      "Epoch 6, Batch: 3000| Training Loss: 2.8818773393630983\n",
      "Epoch 6, Batch: 4000| Training Loss: 2.88737266767025\n",
      "Epoch 6, Batch: 5000| Training Loss: 2.8923242115020753\n",
      "Epoch 6, Batch: 6000| Training Loss: 2.894604256908099\n",
      "Epoch 6, Batch: 7000| Training Loss: 2.8974396680082593\n",
      "Epoch 6, Batch: 8000| Training Loss: 2.9001668028235437\n",
      "Epoch 6, Batch: 9000| Training Loss: 2.9024918071428933\n",
      "Epoch 6, Batch: 10000| Training Loss: 2.904274553132057\n",
      "Epoch 6, Batch: 11000| Training Loss: 2.907151645226912\n",
      "Epoch 6, Batch: 12000| Training Loss: 2.909499346077442\n",
      "Epoch 6, Batch: 13000| Training Loss: 2.9116904054421644\n",
      "Epoch 6, Batch: 14000| Training Loss: 2.9134133550269263\n",
      "Epoch 6, Batch: 15000| Training Loss: 2.9159096927165984\n",
      "Epoch 6, Batch: 16000| Training Loss: 2.9179942378401758\n",
      "Epoch 6, Batch: 17000| Training Loss: 2.9201744704527015\n",
      "Epoch 6, Batch: 18000| Training Loss: 2.921930314342181\n",
      "Epoch 6, Batch: 19000| Training Loss: 2.9241121332268967\n",
      "Epoch 6, Batch: 20000| Training Loss: 2.9259498627066614\n",
      "Epoch 6, Batch: 21000| Training Loss: 2.926754885673523\n",
      "Epoch 6, Batch: 22000| Training Loss: 2.9279951452341946\n",
      "Epoch 6, Batch: 23000| Training Loss: 2.929232403838116\n",
      "Epoch 6, Batch: 24000| Training Loss: 2.930971053481102\n",
      "Epoch 6, Batch: 25000| Training Loss: 2.9321375004959105\n",
      "Epoch 6, Batch: 26000| Training Loss: 2.9335187078530973\n",
      "Epoch 6, Batch: 27000| Training Loss: 2.9352151198652057\n",
      "Epoch 6, Batch: 28000| Training Loss: 2.9362010620747294\n",
      "Epoch 6, Batch: 29000| Training Loss: 2.937536805769493\n",
      "Epoch 6, Batch: 30000| Training Loss: 2.9388540219148\n",
      "Epoch 6, Batch: 31000| Training Loss: 2.9403156133313333\n",
      "Epoch 6, Batch: 32000| Training Loss: 2.941314214989543\n",
      "Epoch 6, Batch: 33000| Training Loss: 2.942630951419021\n",
      "Epoch 6, Batch: 34000| Training Loss: 2.943740781405393\n",
      "Epoch 6, Batch: 35000| Training Loss: 2.9448613144602094\n",
      "Epoch 6, Batch: 36000| Training Loss: 2.945722593035963\n"
     ]
    },
    {
     "name": "stderr",
     "output_type": "stream",
     "text": [
      "[W ParallelNative.cpp:230] Warning: Cannot set number of intraop threads after parallel work has started or after set_num_threads call when using native parallel backend (function set_num_threads)\n",
      "[W ParallelNative.cpp:230] Warning: Cannot set number of intraop threads after parallel work has started or after set_num_threads call when using native parallel backend (function set_num_threads)\n",
      "[W ParallelNative.cpp:230] Warning: Cannot set number of intraop threads after parallel work has started or after set_num_threads call when using native parallel backend (function set_num_threads)\n",
      "[W ParallelNative.cpp:230] Warning: Cannot set number of intraop threads after parallel work has started or after set_num_threads call when using native parallel backend (function set_num_threads)\n"
     ]
    },
    {
     "name": "stdout",
     "output_type": "stream",
     "text": [
      "Epoch 6, Training Loss: 2.9459977791852014, Validation Error: 77.58098006644518, Validation Top-3 Accuracy: 43.57142857142857, Training Error: 75.03715053770347\n"
     ]
    },
    {
     "name": "stderr",
     "output_type": "stream",
     "text": [
      "[W ParallelNative.cpp:230] Warning: Cannot set number of intraop threads after parallel work has started or after set_num_threads call when using native parallel backend (function set_num_threads)\n",
      "[W ParallelNative.cpp:230] Warning: Cannot set number of intraop threads after parallel work has started or after set_num_threads call when using native parallel backend (function set_num_threads)\n"
     ]
    },
    {
     "name": "stdout",
     "output_type": "stream",
     "text": [
      "Epoch 7, Batch: 1000| Training Loss: 2.79655655169487\n",
      "Epoch 7, Batch: 2000| Training Loss: 2.7821116725206374\n",
      "Epoch 7, Batch: 3000| Training Loss: 2.771247026205063\n",
      "Epoch 7, Batch: 4000| Training Loss: 2.763632990181446\n",
      "Epoch 7, Batch: 5000| Training Loss: 2.7574493564128875\n",
      "Epoch 7, Batch: 6000| Training Loss: 2.7522131584882734\n",
      "Epoch 7, Batch: 7000| Training Loss: 2.7488756081376757\n",
      "Epoch 7, Batch: 8000| Training Loss: 2.747425549656153\n",
      "Epoch 7, Batch: 9000| Training Loss: 2.7461163969039917\n",
      "Epoch 7, Batch: 10000| Training Loss: 2.7436861696720123\n",
      "Epoch 7, Batch: 11000| Training Loss: 2.74052362816984\n",
      "Epoch 7, Batch: 12000| Training Loss: 2.740094637175401\n",
      "Epoch 7, Batch: 13000| Training Loss: 2.7390606053975914\n",
      "Epoch 7, Batch: 14000| Training Loss: 2.7370393778596607\n",
      "Epoch 7, Batch: 15000| Training Loss: 2.735241314570109\n",
      "Epoch 7, Batch: 16000| Training Loss: 2.7339957004487516\n",
      "Epoch 7, Batch: 17000| Training Loss: 2.732614959113738\n",
      "Epoch 7, Batch: 18000| Training Loss: 2.7313514055808383\n",
      "Epoch 7, Batch: 19000| Training Loss: 2.7300873791167612\n",
      "Epoch 7, Batch: 20000| Training Loss: 2.72896772056818\n",
      "Epoch 7, Batch: 21000| Training Loss: 2.7281609322457085\n",
      "Epoch 7, Batch: 22000| Training Loss: 2.7278811445019464\n",
      "Epoch 7, Batch: 23000| Training Loss: 2.727100968433463\n",
      "Epoch 7, Batch: 24000| Training Loss: 2.726749575257301\n",
      "Epoch 7, Batch: 25000| Training Loss: 2.726299764871597\n",
      "Epoch 7, Batch: 26000| Training Loss: 2.7259669971557763\n",
      "Epoch 7, Batch: 27000| Training Loss: 2.7248659284556354\n",
      "Epoch 7, Batch: 28000| Training Loss: 2.724358000074114\n",
      "Epoch 7, Batch: 29000| Training Loss: 2.7236397470359144\n",
      "Epoch 7, Batch: 30000| Training Loss: 2.7233785823663075\n",
      "Epoch 7, Batch: 31000| Training Loss: 2.7226352225580523\n",
      "Epoch 7, Batch: 32000| Training Loss: 2.722067630786449\n",
      "Epoch 7, Batch: 33000| Training Loss: 2.7213939550284185\n",
      "Epoch 7, Batch: 34000| Training Loss: 2.721339936158236\n",
      "Epoch 7, Batch: 35000| Training Loss: 2.7209801480259213\n",
      "Epoch 7, Batch: 36000| Training Loss: 2.720446484973033\n"
     ]
    },
    {
     "name": "stderr",
     "output_type": "stream",
     "text": [
      "[W ParallelNative.cpp:230] Warning: Cannot set number of intraop threads after parallel work has started or after set_num_threads call when using native parallel backend (function set_num_threads)\n",
      "[W ParallelNative.cpp:230] Warning: Cannot set number of intraop threads after parallel work has started or after set_num_threads call when using native parallel backend (function set_num_threads)\n",
      "[W ParallelNative.cpp:230] Warning: Cannot set number of intraop threads after parallel work has started or after set_num_threads call when using native parallel backend (function set_num_threads)\n",
      "[W ParallelNative.cpp:230] Warning: Cannot set number of intraop threads after parallel work has started or after set_num_threads call when using native parallel backend (function set_num_threads)\n",
      "[W ParallelNative.cpp:230] Warning: Cannot set number of intraop threads after parallel work has started or after set_num_threads call when using native parallel backend (function set_num_threads)\n"
     ]
    },
    {
     "name": "stdout",
     "output_type": "stream",
     "text": [
      "Epoch 7, Training Loss: 2.7202349731418294, Validation Error: 76.76287375415282, Validation Top-3 Accuracy: 45.01038205980066, Training Error: 71.35947207063033\n"
     ]
    }
   ],
   "source": [
    "# Train the model\n",
    "train_error,train_loss_values, val_error, val_loss_value,swa_model = train_cnn(device, model, train_loader, val_loader, criterion, optimizer, NUM_EPOCHS, learn_decay)"
   ]
  },
  {
   "cell_type": "code",
   "execution_count": 10,
   "metadata": {},
   "outputs": [
    {
     "name": "stdout",
     "output_type": "stream",
     "text": [
      "1907066\n"
     ]
    }
   ],
   "source": [
    "# Reload the data with particular batch size\n",
    "torch.multiprocessing.set_start_method('fork', force=True)\n",
    "batch_size = 64\n",
    "# Shuffling... (False gives us )\n",
    "train_loader = DataLoader(train_dataset, batch_size=batch_size, shuffle=True, num_workers=2, pin_memory=True)\n",
    "val_loader = DataLoader(val_dataset, batch_size=batch_size, shuffle=True, num_workers=2,pin_memory=True)\n",
    "\n",
    "# Initialize model, loss function, and optimizer\n",
    "NUM_EPOCHS = 7\n",
    "d_out = len(vocab.id_to_move.keys())\n",
    "model = ChessCNN_no_pooling(d_out) \n",
    "model = model.to(device)\n",
    "criterion = nn.CrossEntropyLoss()\n",
    "lr = 2e-3\n",
    "weight_decay=0\n",
    "learn_decay = 0.5\n",
    "optimizer = optim.Adam(model.parameters(), lr=lr, weight_decay=weight_decay)\n",
    "\n",
    "def count_parameters(model):\n",
    "    return sum(p.numel() for p in model.parameters() if p.requires_grad)\n",
    "print(count_parameters(model))"
   ]
  },
  {
   "cell_type": "code",
   "execution_count": 11,
   "metadata": {},
   "outputs": [
    {
     "name": "stderr",
     "output_type": "stream",
     "text": [
      "[W ParallelNative.cpp:230] Warning: Cannot set number of intraop threads after parallel work has started or after set_num_threads call when using native parallel backend (function set_num_threads)\n",
      "[W ParallelNative.cpp:230] Warning: Cannot set number of intraop threads after parallel work has started or after set_num_threads call when using native parallel backend (function set_num_threads)\n"
     ]
    },
    {
     "name": "stdout",
     "output_type": "stream",
     "text": [
      "Epoch 1, Batch: 1000| Training Loss: 5.731760203838348\n",
      "Epoch 1, Batch: 2000| Training Loss: 5.465565154075622\n",
      "Epoch 1, Batch: 3000| Training Loss: 5.303909942944845\n",
      "Epoch 1, Batch: 4000| Training Loss: 5.19432707720995\n",
      "Epoch 1, Batch: 5000| Training Loss: 5.107880146789551\n",
      "Epoch 1, Batch: 6000| Training Loss: 5.040597863197327\n",
      "Epoch 1, Batch: 7000| Training Loss: 4.985829377685274\n",
      "Epoch 1, Batch: 8000| Training Loss: 4.936096258819103\n",
      "Epoch 1, Batch: 9000| Training Loss: 4.897204505549537\n",
      "Epoch 1, Batch: 10000| Training Loss: 4.862197125768661\n",
      "Epoch 1, Batch: 11000| Training Loss: 4.831744701537219\n",
      "Epoch 1, Batch: 12000| Training Loss: 4.805198590020339\n",
      "Epoch 1, Batch: 13000| Training Loss: 4.780317434182534\n",
      "Epoch 1, Batch: 14000| Training Loss: 4.75823472728048\n",
      "Epoch 1, Batch: 15000| Training Loss: 4.738495447826385\n",
      "Epoch 1, Batch: 16000| Training Loss: 4.721039522483945\n",
      "Epoch 1, Batch: 17000| Training Loss: 4.7041402601775\n",
      "Epoch 1, Batch: 18000| Training Loss: 4.689350567883915\n",
      "Epoch 1, Batch: 19000| Training Loss: 4.675025091823779\n",
      "Epoch 1, Batch: 20000| Training Loss: 4.66203519538641\n",
      "Epoch 1, Batch: 21000| Training Loss: 4.649608689989362\n",
      "Epoch 1, Batch: 22000| Training Loss: 4.638587609832937\n",
      "Epoch 1, Batch: 23000| Training Loss: 4.62810131229525\n",
      "Epoch 1, Batch: 24000| Training Loss: 4.617813418527445\n",
      "Epoch 1, Batch: 25000| Training Loss: 4.607911205673218\n",
      "Epoch 1, Batch: 26000| Training Loss: 4.598419194028928\n",
      "Epoch 1, Batch: 27000| Training Loss: 4.58995088617007\n",
      "Epoch 1, Batch: 28000| Training Loss: 4.581856846962657\n",
      "Epoch 1, Batch: 29000| Training Loss: 4.572988918320886\n",
      "Epoch 1, Batch: 30000| Training Loss: 4.565241391046842\n",
      "Epoch 1, Batch: 31000| Training Loss: 4.557816332847842\n",
      "Epoch 1, Batch: 32000| Training Loss: 4.551325596816838\n",
      "Epoch 1, Batch: 33000| Training Loss: 4.544682965401448\n",
      "Epoch 1, Batch: 34000| Training Loss: 4.53864371944175\n",
      "Epoch 1, Batch: 35000| Training Loss: 4.532599164962768\n",
      "Epoch 1, Batch: 36000| Training Loss: 4.526824645088778\n"
     ]
    },
    {
     "name": "stderr",
     "output_type": "stream",
     "text": [
      "[W ParallelNative.cpp:230] Warning: Cannot set number of intraop threads after parallel work has started or after set_num_threads call when using native parallel backend (function set_num_threads)\n",
      "[W ParallelNative.cpp:230] Warning: Cannot set number of intraop threads after parallel work has started or after set_num_threads call when using native parallel backend (function set_num_threads)\n"
     ]
    },
    {
     "name": "stdout",
     "output_type": "stream",
     "text": [
      "Epoch 1, Training Loss: 4.524026962509906, Validation Error: 85.1827242524917, Validation Top-3 Accuracy: 28.855897009966778, Training Error: 86.19095997160676\n"
     ]
    },
    {
     "name": "stderr",
     "output_type": "stream",
     "text": [
      "[W ParallelNative.cpp:230] Warning: Cannot set number of intraop threads after parallel work has started or after set_num_threads call when using native parallel backend (function set_num_threads)\n",
      "[W ParallelNative.cpp:230] Warning: Cannot set number of intraop threads after parallel work has started or after set_num_threads call when using native parallel backend (function set_num_threads)\n"
     ]
    },
    {
     "name": "stdout",
     "output_type": "stream",
     "text": [
      "Epoch 2, Batch: 1000| Training Loss: 4.259375550985336\n",
      "Epoch 2, Batch: 2000| Training Loss: 4.259532014727593\n",
      "Epoch 2, Batch: 3000| Training Loss: 4.257004157304764\n",
      "Epoch 2, Batch: 4000| Training Loss: 4.2602485626935955\n",
      "Epoch 2, Batch: 5000| Training Loss: 4.260918134737015\n",
      "Epoch 2, Batch: 6000| Training Loss: 4.260466303269069\n",
      "Epoch 2, Batch: 7000| Training Loss: 4.259824808631625\n",
      "Epoch 2, Batch: 8000| Training Loss: 4.260551810026169\n",
      "Epoch 2, Batch: 9000| Training Loss: 4.259286941819721\n",
      "Epoch 2, Batch: 10000| Training Loss: 4.2582312354803085\n",
      "Epoch 2, Batch: 11000| Training Loss: 4.257262317180634\n",
      "Epoch 2, Batch: 12000| Training Loss: 4.257975069562594\n",
      "Epoch 2, Batch: 13000| Training Loss: 4.257326510190964\n",
      "Epoch 2, Batch: 14000| Training Loss: 4.256703629221235\n",
      "Epoch 2, Batch: 15000| Training Loss: 4.25714002310435\n",
      "Epoch 2, Batch: 16000| Training Loss: 4.2582968580126765\n",
      "Epoch 2, Batch: 17000| Training Loss: 4.25829534443687\n",
      "Epoch 2, Batch: 18000| Training Loss: 4.257979616377089\n",
      "Epoch 2, Batch: 19000| Training Loss: 4.256755492097453\n",
      "Epoch 2, Batch: 20000| Training Loss: 4.256356956911087\n",
      "Epoch 2, Batch: 21000| Training Loss: 4.256232481400172\n",
      "Epoch 2, Batch: 22000| Training Loss: 4.2550826941728594\n",
      "Epoch 2, Batch: 23000| Training Loss: 4.25451901177738\n",
      "Epoch 2, Batch: 24000| Training Loss: 4.2530388382573925\n",
      "Epoch 2, Batch: 25000| Training Loss: 4.252495296287536\n",
      "Epoch 2, Batch: 26000| Training Loss: 4.252280611175757\n",
      "Epoch 2, Batch: 27000| Training Loss: 4.251405525657866\n",
      "Epoch 2, Batch: 28000| Training Loss: 4.250786407470703\n",
      "Epoch 2, Batch: 29000| Training Loss: 4.2506278423687505\n",
      "Epoch 2, Batch: 30000| Training Loss: 4.250953410951296\n",
      "Epoch 2, Batch: 31000| Training Loss: 4.250740314599007\n",
      "Epoch 2, Batch: 32000| Training Loss: 4.250172546483577\n",
      "Epoch 2, Batch: 33000| Training Loss: 4.250571935227423\n",
      "Epoch 2, Batch: 34000| Training Loss: 4.250396385873065\n",
      "Epoch 2, Batch: 35000| Training Loss: 4.249554120540619\n",
      "Epoch 2, Batch: 36000| Training Loss: 4.248364267514812\n"
     ]
    },
    {
     "name": "stderr",
     "output_type": "stream",
     "text": [
      "[W ParallelNative.cpp:230] Warning: Cannot set number of intraop threads after parallel work has started or after set_num_threads call when using native parallel backend (function set_num_threads)\n",
      "[W ParallelNative.cpp:230] Warning: Cannot set number of intraop threads after parallel work has started or after set_num_threads call when using native parallel backend (function set_num_threads)\n"
     ]
    },
    {
     "name": "stdout",
     "output_type": "stream",
     "text": [
      "Epoch 2, Training Loss: 4.248346394825188, Validation Error: 84.92109634551495, Validation Top-3 Accuracy: 29.526578073089702, Training Error: 84.67150190922297\n"
     ]
    },
    {
     "name": "stderr",
     "output_type": "stream",
     "text": [
      "[W ParallelNative.cpp:230] Warning: Cannot set number of intraop threads after parallel work has started or after set_num_threads call when using native parallel backend (function set_num_threads)\n",
      "[W ParallelNative.cpp:230] Warning: Cannot set number of intraop threads after parallel work has started or after set_num_threads call when using native parallel backend (function set_num_threads)\n"
     ]
    },
    {
     "name": "stdout",
     "output_type": "stream",
     "text": [
      "Epoch 3, Batch: 1000| Training Loss: 4.192645314693451\n",
      "Epoch 3, Batch: 2000| Training Loss: 4.192729214787483\n",
      "Epoch 3, Batch: 3000| Training Loss: 4.185393471717834\n",
      "Epoch 3, Batch: 4000| Training Loss: 4.184386851966381\n",
      "Epoch 3, Batch: 5000| Training Loss: 4.1857132057189945\n",
      "Epoch 3, Batch: 6000| Training Loss: 4.187486834843954\n",
      "Epoch 3, Batch: 7000| Training Loss: 4.188149032626833\n",
      "Epoch 3, Batch: 8000| Training Loss: 4.188098440468312\n",
      "Epoch 3, Batch: 9000| Training Loss: 4.189644107050366\n",
      "Epoch 3, Batch: 10000| Training Loss: 4.190092603397369\n",
      "Epoch 3, Batch: 11000| Training Loss: 4.191334857767279\n",
      "Epoch 3, Batch: 12000| Training Loss: 4.191360808650653\n",
      "Epoch 3, Batch: 13000| Training Loss: 4.190780595485981\n",
      "Epoch 3, Batch: 14000| Training Loss: 4.189761320131166\n",
      "Epoch 3, Batch: 15000| Training Loss: 4.189811998049418\n",
      "Epoch 3, Batch: 16000| Training Loss: 4.189788661435246\n",
      "Epoch 3, Batch: 17000| Training Loss: 4.189392636369257\n",
      "Epoch 3, Batch: 18000| Training Loss: 4.189867688099543\n",
      "Epoch 3, Batch: 19000| Training Loss: 4.190678982897809\n",
      "Epoch 3, Batch: 20000| Training Loss: 4.191105725121498\n",
      "Epoch 3, Batch: 21000| Training Loss: 4.191465291522798\n",
      "Epoch 3, Batch: 22000| Training Loss: 4.1915297532189975\n",
      "Epoch 3, Batch: 23000| Training Loss: 4.190883280702259\n",
      "Epoch 3, Batch: 24000| Training Loss: 4.19093529188633\n",
      "Epoch 3, Batch: 25000| Training Loss: 4.191375016174317\n",
      "Epoch 3, Batch: 26000| Training Loss: 4.1920470029115675\n",
      "Epoch 3, Batch: 27000| Training Loss: 4.192262567113947\n",
      "Epoch 3, Batch: 28000| Training Loss: 4.192493736360754\n",
      "Epoch 3, Batch: 29000| Training Loss: 4.191879067749813\n",
      "Epoch 3, Batch: 30000| Training Loss: 4.192182738113403\n",
      "Epoch 3, Batch: 31000| Training Loss: 4.192514092053137\n",
      "Epoch 3, Batch: 32000| Training Loss: 4.192794376969338\n",
      "Epoch 3, Batch: 33000| Training Loss: 4.192631849744103\n",
      "Epoch 3, Batch: 34000| Training Loss: 4.192849299206453\n",
      "Epoch 3, Batch: 35000| Training Loss: 4.193017435802732\n",
      "Epoch 3, Batch: 36000| Training Loss: 4.193032289796405\n"
     ]
    },
    {
     "name": "stderr",
     "output_type": "stream",
     "text": [
      "[W ParallelNative.cpp:230] Warning: Cannot set number of intraop threads after parallel work has started or after set_num_threads call when using native parallel backend (function set_num_threads)\n",
      "[W ParallelNative.cpp:230] Warning: Cannot set number of intraop threads after parallel work has started or after set_num_threads call when using native parallel backend (function set_num_threads)\n"
     ]
    },
    {
     "name": "stdout",
     "output_type": "stream",
     "text": [
      "Epoch 3, Training Loss: 4.19308030196705, Validation Error: 84.74252491694352, Validation Top-3 Accuracy: 29.78405315614618, Training Error: 84.41895103407147\n"
     ]
    },
    {
     "name": "stderr",
     "output_type": "stream",
     "text": [
      "[W ParallelNative.cpp:230] Warning: Cannot set number of intraop threads after parallel work has started or after set_num_threads call when using native parallel backend (function set_num_threads)\n",
      "[W ParallelNative.cpp:230] Warning: Cannot set number of intraop threads after parallel work has started or after set_num_threads call when using native parallel backend (function set_num_threads)\n"
     ]
    },
    {
     "name": "stdout",
     "output_type": "stream",
     "text": [
      "Epoch 4, Batch: 1000| Training Loss: 4.127896209955216\n",
      "Epoch 4, Batch: 2000| Training Loss: 4.141476933360099\n",
      "Epoch 4, Batch: 3000| Training Loss: 4.150647231419881\n",
      "Epoch 4, Batch: 4000| Training Loss: 4.156712039709091\n",
      "Epoch 4, Batch: 5000| Training Loss: 4.156704153585434\n",
      "Epoch 4, Batch: 6000| Training Loss: 4.156173463185628\n",
      "Epoch 4, Batch: 7000| Training Loss: 4.155269379581724\n",
      "Epoch 4, Batch: 8000| Training Loss: 4.1569809782803055\n",
      "Epoch 4, Batch: 9000| Training Loss: 4.157571321911282\n",
      "Epoch 4, Batch: 10000| Training Loss: 4.157745860981941\n",
      "Epoch 4, Batch: 11000| Training Loss: 4.16089477148923\n",
      "Epoch 4, Batch: 12000| Training Loss: 4.161505227108797\n",
      "Epoch 4, Batch: 13000| Training Loss: 4.161279138051547\n",
      "Epoch 4, Batch: 14000| Training Loss: 4.1620354383502685\n",
      "Epoch 4, Batch: 15000| Training Loss: 4.163632479731242\n",
      "Epoch 4, Batch: 16000| Training Loss: 4.16384824039042\n",
      "Epoch 4, Batch: 17000| Training Loss: 4.164052678865545\n",
      "Epoch 4, Batch: 18000| Training Loss: 4.164137491928207\n",
      "Epoch 4, Batch: 19000| Training Loss: 4.1641162679822825\n",
      "Epoch 4, Batch: 20000| Training Loss: 4.1637821456313135\n",
      "Epoch 4, Batch: 21000| Training Loss: 4.164163398470198\n",
      "Epoch 4, Batch: 22000| Training Loss: 4.1647718382098455\n",
      "Epoch 4, Batch: 23000| Training Loss: 4.165466166185296\n",
      "Epoch 4, Batch: 24000| Training Loss: 4.165134054968754\n",
      "Epoch 4, Batch: 25000| Training Loss: 4.165507707509994\n",
      "Epoch 4, Batch: 26000| Training Loss: 4.165812112927437\n",
      "Epoch 4, Batch: 27000| Training Loss: 4.165229158666399\n",
      "Epoch 4, Batch: 28000| Training Loss: 4.165873722493648\n",
      "Epoch 4, Batch: 29000| Training Loss: 4.1660155427455905\n",
      "Epoch 4, Batch: 30000| Training Loss: 4.165930863881111\n",
      "Epoch 4, Batch: 31000| Training Loss: 4.165669715019964\n",
      "Epoch 4, Batch: 32000| Training Loss: 4.165790185198188\n",
      "Epoch 4, Batch: 33000| Training Loss: 4.165913908250404\n",
      "Epoch 4, Batch: 34000| Training Loss: 4.1657866357985665\n",
      "Epoch 4, Batch: 35000| Training Loss: 4.1660968880721505\n",
      "Epoch 4, Batch: 36000| Training Loss: 4.1665178120334945\n"
     ]
    },
    {
     "name": "stderr",
     "output_type": "stream",
     "text": [
      "[W ParallelNative.cpp:230] Warning: Cannot set number of intraop threads after parallel work has started or after set_num_threads call when using native parallel backend (function set_num_threads)\n",
      "[W ParallelNative.cpp:230] Warning: Cannot set number of intraop threads after parallel work has started or after set_num_threads call when using native parallel backend (function set_num_threads)\n"
     ]
    },
    {
     "name": "stdout",
     "output_type": "stream",
     "text": [
      "Epoch 4, Training Loss: 4.166706392078278, Validation Error: 84.88579734219269, Validation Top-3 Accuracy: 29.858803986710964, Training Error: 84.33157074314347\n"
     ]
    },
    {
     "name": "stderr",
     "output_type": "stream",
     "text": [
      "[W ParallelNative.cpp:230] Warning: Cannot set number of intraop threads after parallel work has started or after set_num_threads call when using native parallel backend (function set_num_threads)\n",
      "[W ParallelNative.cpp:230] Warning: Cannot set number of intraop threads after parallel work has started or after set_num_threads call when using native parallel backend (function set_num_threads)\n"
     ]
    },
    {
     "name": "stdout",
     "output_type": "stream",
     "text": [
      "Epoch 5, Batch: 1000| Training Loss: 4.13873836183548\n",
      "Epoch 5, Batch: 2000| Training Loss: 4.140764969825745\n",
      "Epoch 5, Batch: 3000| Training Loss: 4.14123325753212\n",
      "Epoch 5, Batch: 4000| Training Loss: 4.141025268137455\n",
      "Epoch 5, Batch: 5000| Training Loss: 4.142640737819671\n",
      "Epoch 5, Batch: 6000| Training Loss: 4.1431149960358935\n",
      "Epoch 5, Batch: 7000| Training Loss: 4.146169488702501\n",
      "Epoch 5, Batch: 8000| Training Loss: 4.14555288463831\n",
      "Epoch 5, Batch: 9000| Training Loss: 4.143532388369242\n",
      "Epoch 5, Batch: 10000| Training Loss: 4.143032902312279\n",
      "Epoch 5, Batch: 11000| Training Loss: 4.143337776119059\n",
      "Epoch 5, Batch: 12000| Training Loss: 4.144656288345655\n",
      "Epoch 5, Batch: 13000| Training Loss: 4.1451477982447695\n",
      "Epoch 5, Batch: 14000| Training Loss: 4.146118687953268\n",
      "Epoch 5, Batch: 15000| Training Loss: 4.148283382733663\n",
      "Epoch 5, Batch: 16000| Training Loss: 4.149324972257018\n",
      "Epoch 5, Batch: 17000| Training Loss: 4.149512633912703\n",
      "Epoch 5, Batch: 18000| Training Loss: 4.150048509664006\n",
      "Epoch 5, Batch: 19000| Training Loss: 4.15016607928276\n",
      "Epoch 5, Batch: 20000| Training Loss: 4.1504938204407695\n",
      "Epoch 5, Batch: 21000| Training Loss: 4.151577082475026\n",
      "Epoch 5, Batch: 22000| Training Loss: 4.151908913536506\n",
      "Epoch 5, Batch: 23000| Training Loss: 4.152355219364166\n",
      "Epoch 5, Batch: 24000| Training Loss: 4.1532042118906976\n",
      "Epoch 5, Batch: 25000| Training Loss: 4.154119656581878\n",
      "Epoch 5, Batch: 26000| Training Loss: 4.154358216964281\n",
      "Epoch 5, Batch: 27000| Training Loss: 4.154749657586769\n",
      "Epoch 5, Batch: 28000| Training Loss: 4.155669164981161\n",
      "Epoch 5, Batch: 29000| Training Loss: 4.156322838479075\n",
      "Epoch 5, Batch: 30000| Training Loss: 4.1567702394406\n",
      "Epoch 5, Batch: 31000| Training Loss: 4.157778742828677\n",
      "Epoch 5, Batch: 32000| Training Loss: 4.158568677440286\n",
      "Epoch 5, Batch: 33000| Training Loss: 4.158690622546456\n",
      "Epoch 5, Batch: 34000| Training Loss: 4.159355727511294\n",
      "Epoch 5, Batch: 35000| Training Loss: 4.159806046172551\n",
      "Epoch 5, Batch: 36000| Training Loss: 4.160160344700018\n"
     ]
    },
    {
     "name": "stderr",
     "output_type": "stream",
     "text": [
      "[W ParallelNative.cpp:230] Warning: Cannot set number of intraop threads after parallel work has started or after set_num_threads call when using native parallel backend (function set_num_threads)\n",
      "[W ParallelNative.cpp:230] Warning: Cannot set number of intraop threads after parallel work has started or after set_num_threads call when using native parallel backend (function set_num_threads)\n"
     ]
    },
    {
     "name": "stdout",
     "output_type": "stream",
     "text": [
      "Epoch 5, Training Loss: 4.160129104172866, Validation Error: 84.73629568106313, Validation Top-3 Accuracy: 29.364617940199334, Training Error: 84.37947791881639\n"
     ]
    },
    {
     "name": "stderr",
     "output_type": "stream",
     "text": [
      "[W ParallelNative.cpp:230] Warning: Cannot set number of intraop threads after parallel work has started or after set_num_threads call when using native parallel backend (function set_num_threads)\n",
      "[W ParallelNative.cpp:230] Warning: Cannot set number of intraop threads after parallel work has started or after set_num_threads call when using native parallel backend (function set_num_threads)\n"
     ]
    },
    {
     "name": "stdout",
     "output_type": "stream",
     "text": [
      "Epoch 6, Batch: 1000| Training Loss: 4.132289508342743\n",
      "Epoch 6, Batch: 2000| Training Loss: 4.12307117664814\n",
      "Epoch 6, Batch: 3000| Training Loss: 4.126389493942261\n",
      "Epoch 6, Batch: 4000| Training Loss: 4.126427725315094\n",
      "Epoch 6, Batch: 5000| Training Loss: 4.130082797193527\n",
      "Epoch 6, Batch: 6000| Training Loss: 4.134762712796529\n",
      "Epoch 6, Batch: 7000| Training Loss: 4.138287211179733\n",
      "Epoch 6, Batch: 8000| Training Loss: 4.140310086071492\n",
      "Epoch 6, Batch: 9000| Training Loss: 4.1411926798820495\n",
      "Epoch 6, Batch: 10000| Training Loss: 4.1425693047523495\n",
      "Epoch 6, Batch: 11000| Training Loss: 4.141535368420861\n",
      "Epoch 6, Batch: 12000| Training Loss: 4.14068912901481\n",
      "Epoch 6, Batch: 13000| Training Loss: 4.1416841488618115\n",
      "Epoch 6, Batch: 14000| Training Loss: 4.143414177264486\n",
      "Epoch 6, Batch: 15000| Training Loss: 4.143321399354934\n",
      "Epoch 6, Batch: 16000| Training Loss: 4.144625775128603\n",
      "Epoch 6, Batch: 17000| Training Loss: 4.144913285017013\n",
      "Epoch 6, Batch: 18000| Training Loss: 4.145470510972871\n",
      "Epoch 6, Batch: 19000| Training Loss: 4.145685878515244\n",
      "Epoch 6, Batch: 20000| Training Loss: 4.146216253948212\n",
      "Epoch 6, Batch: 21000| Training Loss: 4.146750042029789\n",
      "Epoch 6, Batch: 22000| Training Loss: 4.146990759286013\n",
      "Epoch 6, Batch: 23000| Training Loss: 4.147167991461961\n",
      "Epoch 6, Batch: 24000| Training Loss: 4.1476991073191165\n",
      "Epoch 6, Batch: 25000| Training Loss: 4.1479349889659884\n",
      "Epoch 6, Batch: 26000| Training Loss: 4.148184343191294\n",
      "Epoch 6, Batch: 27000| Training Loss: 4.1486171292022425\n",
      "Epoch 6, Batch: 28000| Training Loss: 4.148606654584408\n",
      "Epoch 6, Batch: 29000| Training Loss: 4.148564701318741\n",
      "Epoch 6, Batch: 30000| Training Loss: 4.1489167876640956\n",
      "Epoch 6, Batch: 31000| Training Loss: 4.149098292904515\n",
      "Epoch 6, Batch: 32000| Training Loss: 4.149551520913839\n",
      "Epoch 6, Batch: 33000| Training Loss: 4.150499217214007\n",
      "Epoch 6, Batch: 34000| Training Loss: 4.1511991649515485\n",
      "Epoch 6, Batch: 35000| Training Loss: 4.151035896771295\n",
      "Epoch 6, Batch: 36000| Training Loss: 4.151445551031165\n"
     ]
    },
    {
     "name": "stderr",
     "output_type": "stream",
     "text": [
      "[W ParallelNative.cpp:230] Warning: Cannot set number of intraop threads after parallel work has started or after set_num_threads call when using native parallel backend (function set_num_threads)\n",
      "[W ParallelNative.cpp:230] Warning: Cannot set number of intraop threads after parallel work has started or after set_num_threads call when using native parallel backend (function set_num_threads)\n"
     ]
    },
    {
     "name": "stdout",
     "output_type": "stream",
     "text": [
      "Epoch 6, Training Loss: 4.151989492895924, Validation Error: 84.7217607973422, Validation Top-3 Accuracy: 30.74127906976744, Training Error: 84.3385919914101\n"
     ]
    },
    {
     "name": "stderr",
     "output_type": "stream",
     "text": [
      "[W ParallelNative.cpp:230] Warning: Cannot set number of intraop threads after parallel work has started or after set_num_threads call when using native parallel backend (function set_num_threads)\n",
      "[W ParallelNative.cpp:230] Warning: Cannot set number of intraop threads after parallel work has started or after set_num_threads call when using native parallel backend (function set_num_threads)\n"
     ]
    },
    {
     "name": "stdout",
     "output_type": "stream",
     "text": [
      "Epoch 7, Batch: 1000| Training Loss: 4.0653575208187105\n",
      "Epoch 7, Batch: 2000| Training Loss: 4.0713218729496\n",
      "Epoch 7, Batch: 3000| Training Loss: 4.064889014085134\n",
      "Epoch 7, Batch: 4000| Training Loss: 4.062433782041073\n",
      "Epoch 7, Batch: 5000| Training Loss: 4.063486024188995\n",
      "Epoch 7, Batch: 6000| Training Loss: 4.063038270155589\n",
      "Epoch 7, Batch: 7000| Training Loss: 4.060364005190985\n",
      "Epoch 7, Batch: 8000| Training Loss: 4.059947255671024\n",
      "Epoch 7, Batch: 9000| Training Loss: 4.059505010181003\n",
      "Epoch 7, Batch: 10000| Training Loss: 4.059121199440956\n",
      "Epoch 7, Batch: 11000| Training Loss: 4.057849510604685\n",
      "Epoch 7, Batch: 12000| Training Loss: 4.057743451019128\n",
      "Epoch 7, Batch: 13000| Training Loss: 4.056141182532677\n",
      "Epoch 7, Batch: 14000| Training Loss: 4.056428356375013\n",
      "Epoch 7, Batch: 15000| Training Loss: 4.056434633493423\n",
      "Epoch 7, Batch: 16000| Training Loss: 4.05548011572659\n",
      "Epoch 7, Batch: 17000| Training Loss: 4.0551539984029885\n",
      "Epoch 7, Batch: 18000| Training Loss: 4.055124719222387\n",
      "Epoch 7, Batch: 19000| Training Loss: 4.054798069878628\n",
      "Epoch 7, Batch: 20000| Training Loss: 4.0544016852259634\n",
      "Epoch 7, Batch: 21000| Training Loss: 4.054022897550038\n",
      "Epoch 7, Batch: 22000| Training Loss: 4.053364098126238\n",
      "Epoch 7, Batch: 23000| Training Loss: 4.053313753200614\n",
      "Epoch 7, Batch: 24000| Training Loss: 4.052883419553439\n",
      "Epoch 7, Batch: 25000| Training Loss: 4.0531791643047335\n",
      "Epoch 7, Batch: 26000| Training Loss: 4.053140302447172\n",
      "Epoch 7, Batch: 27000| Training Loss: 4.05305563322703\n",
      "Epoch 7, Batch: 28000| Training Loss: 4.052904389875276\n",
      "Epoch 7, Batch: 29000| Training Loss: 4.0524001667910605\n",
      "Epoch 7, Batch: 30000| Training Loss: 4.052481777572631\n",
      "Epoch 7, Batch: 31000| Training Loss: 4.052602073154142\n",
      "Epoch 7, Batch: 32000| Training Loss: 4.052347947470844\n",
      "Epoch 7, Batch: 33000| Training Loss: 4.05230415799401\n",
      "Epoch 7, Batch: 34000| Training Loss: 4.052374363632763\n",
      "Epoch 7, Batch: 35000| Training Loss: 4.052384441573279\n",
      "Epoch 7, Batch: 36000| Training Loss: 4.052841264532672\n"
     ]
    },
    {
     "name": "stderr",
     "output_type": "stream",
     "text": [
      "[W ParallelNative.cpp:230] Warning: Cannot set number of intraop threads after parallel work has started or after set_num_threads call when using native parallel backend (function set_num_threads)\n",
      "[W ParallelNative.cpp:230] Warning: Cannot set number of intraop threads after parallel work has started or after set_num_threads call when using native parallel backend (function set_num_threads)\n"
     ]
    },
    {
     "name": "stdout",
     "output_type": "stream",
     "text": [
      "Epoch 7, Training Loss: 4.052746915698369, Validation Error: 83.73961794019934, Validation Top-3 Accuracy: 31.40988372093023, Training Error: 83.52669594184694\n"
     ]
    },
    {
     "data": {
      "image/png": "[encoded data removed]",
      "text/plain": [
       "<Figure size 1000x500 with 1 Axes>"
      ]
     },
     "metadata": {},
     "output_type": "display_data"
    },
    {
     "data": {
      "text/plain": [
       "<Figure size 640x480 with 0 Axes>"
      ]
     },
     "metadata": {},
     "output_type": "display_data"
    }
   ],
   "source": [
    "# Train the model\n",
    "train_error,train_loss_values, val_error, val_loss_value,swa_model = train_cnn(device, model, train_loader, val_loader, criterion, optimizer, NUM_EPOCHS, learn_decay)\n",
    "\n",
    "# Plot the training error\n",
    "plt.figure(figsize=(10, 5))\n",
    "plt.plot(val_error, label='Validation Loss')\n",
    "plt.xlabel('Epoch')\n",
    "plt.ylabel('Error')\n",
    "plt.title('Validation Error')\n",
    "plt.legend()\n",
    "plt.show()\n",
    "plt.savefig('validation_error_model_rnn.png')  # This will save the plot as an image"
   ]
  },
  {
   "cell_type": "markdown",
   "metadata": {},
   "source": [
    "Let's do it again but now with UCI notation data"
   ]
  },
  {
   "cell_type": "code",
   "execution_count": 12,
   "metadata": {},
   "outputs": [],
   "source": [
    "trainX, fens, trainY, vocab = df_to_data_board_only(grouped_df, sampling_rate=0.1, algebraic_notation = False)"
   ]
  },
  {
   "cell_type": "code",
   "execution_count": 266,
   "metadata": {},
   "outputs": [
    {
     "name": "stdout",
     "output_type": "stream",
     "text": [
      "672639\n"
     ]
    }
   ],
   "source": [
    "print(len(fens))"
   ]
  },
  {
   "cell_type": "code",
   "execution_count": 272,
   "metadata": {},
   "outputs": [
    {
     "name": "stdout",
     "output_type": "stream",
     "text": [
      "1907\n"
     ]
    }
   ],
   "source": [
    "print(len(vocab.id_to_move.keys()))"
   ]
  },
  {
   "cell_type": "code",
   "execution_count": 13,
   "metadata": {},
   "outputs": [
    {
     "name": "stdout",
     "output_type": "stream",
     "text": [
      "2512893\n",
      "2437506\n"
     ]
    }
   ],
   "source": [
    "dataset = CNNDataset(trainX, fens, trainY)\n",
    "# Calculate split sizes\n",
    "total_size = len(dataset)\n",
    "print(total_size)\n",
    "train_size = int(0.97 * total_size)\n",
    "val_size = int(total_size * 0.02)\n",
    "\n",
    "# Create subsets for training and validation\n",
    "train_dataset = Subset(dataset, range(0, train_size))\n",
    "val_dataset = Subset(dataset, range(train_size, train_size + val_size))\n",
    "print(train_size)"
   ]
  },
  {
   "cell_type": "code",
   "execution_count": 269,
   "metadata": {},
   "outputs": [],
   "source": [
    "batch_size = 64\n",
    "# Shuffling... (False gives us )\n",
    "train_loader = DataLoader(train_dataset, batch_size=batch_size, shuffle=True, num_workers=2, pin_memory=True)\n",
    "val_loader = DataLoader(val_dataset, batch_size=batch_size, shuffle=True, num_workers=2,pin_memory=True)\n"
   ]
  },
  {
   "cell_type": "code",
   "execution_count": 14,
   "metadata": {},
   "outputs": [
    {
     "name": "stdout",
     "output_type": "stream",
     "text": [
      "1839544\n"
     ]
    }
   ],
   "source": [
    "# Reload the data with particular batch size\n",
    "torch.multiprocessing.set_start_method('fork', force=True)\n",
    "batch_size = 64\n",
    "# Shuffling... (False gives us )\n",
    "train_loader = DataLoader(train_dataset, batch_size=batch_size, shuffle=True, num_workers=2, pin_memory=True)\n",
    "val_loader = DataLoader(val_dataset, batch_size=batch_size, shuffle=True, num_workers=2,pin_memory=True)\n",
    "\n",
    "# Initialize model, loss function, and optimizer\n",
    "NUM_EPOCHS = 7\n",
    "#d_out = len(vocab.id_to_move.keys())\n",
    "d_out = 1968\n",
    "model = SENetPure(d_out) \n",
    "model = model.to(device)\n",
    "criterion = nn.CrossEntropyLoss()\n",
    "lr = 2e-5\n",
    "weight_decay=0\n",
    "learn_decay = 0.1\n",
    "optimizer = optim.Adam(model.parameters(), lr=lr, weight_decay=weight_decay)\n",
    "\n",
    "def count_parameters(model):\n",
    "    return sum(p.numel() for p in model.parameters() if p.requires_grad)\n",
    "print(count_parameters(model))"
   ]
  },
  {
   "cell_type": "code",
   "execution_count": 15,
   "metadata": {},
   "outputs": [
    {
     "name": "stderr",
     "output_type": "stream",
     "text": [
      "[W ParallelNative.cpp:230] Warning: Cannot set number of intraop threads after parallel work has started or after set_num_threads call when using native parallel backend (function set_num_threads)\n",
      "[W ParallelNative.cpp:230] Warning: Cannot set number of intraop threads after parallel work has started or after set_num_threads call when using native parallel backend (function set_num_threads)\n"
     ]
    },
    {
     "name": "stdout",
     "output_type": "stream",
     "text": [
      "Epoch 1, Batch: 1000| Training Loss: 6.275036812782288\n",
      "Epoch 1, Batch: 2000| Training Loss: 5.988965579986572\n",
      "Epoch 1, Batch: 3000| Training Loss: 5.839550039132436\n",
      "Epoch 1, Batch: 4000| Training Loss: 5.738987903952599\n",
      "Epoch 1, Batch: 5000| Training Loss: 5.659568845558167\n",
      "Epoch 1, Batch: 6000| Training Loss: 5.590299972216288\n",
      "Epoch 1, Batch: 7000| Training Loss: 5.530588520595005\n",
      "Epoch 1, Batch: 8000| Training Loss: 5.478657355606556\n",
      "Epoch 1, Batch: 9000| Training Loss: 5.430611639552646\n",
      "Epoch 1, Batch: 10000| Training Loss: 5.3856294692993165\n",
      "Epoch 1, Batch: 11000| Training Loss: 5.342656953681599\n",
      "Epoch 1, Batch: 12000| Training Loss: 5.301076302468776\n",
      "Epoch 1, Batch: 13000| Training Loss: 5.261459130140452\n",
      "Epoch 1, Batch: 14000| Training Loss: 5.222181488360677\n",
      "Epoch 1, Batch: 15000| Training Loss: 5.185103046210607\n",
      "Epoch 1, Batch: 16000| Training Loss: 5.148670422166586\n",
      "Epoch 1, Batch: 17000| Training Loss: 5.112482665188172\n",
      "Epoch 1, Batch: 18000| Training Loss: 5.077357604821523\n",
      "Epoch 1, Batch: 19000| Training Loss: 5.042932795110501\n",
      "Epoch 1, Batch: 20000| Training Loss: 5.009157795524597\n",
      "Epoch 1, Batch: 21000| Training Loss: 4.975944999921889\n",
      "Epoch 1, Batch: 22000| Training Loss: 4.943719755541195\n",
      "Epoch 1, Batch: 23000| Training Loss: 4.912830478948096\n",
      "Epoch 1, Batch: 24000| Training Loss: 4.882649393628041\n",
      "Epoch 1, Batch: 25000| Training Loss: 4.8531848147296905\n",
      "Epoch 1, Batch: 26000| Training Loss: 4.825037309545737\n",
      "Epoch 1, Batch: 27000| Training Loss: 4.798080976521527\n",
      "Epoch 1, Batch: 28000| Training Loss: 4.771638266009944\n",
      "Epoch 1, Batch: 29000| Training Loss: 4.746020925299875\n",
      "Epoch 1, Batch: 30000| Training Loss: 4.721025919334093\n",
      "Epoch 1, Batch: 31000| Training Loss: 4.697315600533639\n",
      "Epoch 1, Batch: 32000| Training Loss: 4.674380201712251\n",
      "Epoch 1, Batch: 33000| Training Loss: 4.65226177480004\n",
      "Epoch 1, Batch: 34000| Training Loss: 4.630847770172007\n",
      "Epoch 1, Batch: 35000| Training Loss: 4.610734797777448\n",
      "Epoch 1, Batch: 36000| Training Loss: 4.590524420963393\n",
      "Epoch 1, Batch: 37000| Training Loss: 4.571383122946765\n",
      "Epoch 1, Batch: 38000| Training Loss: 4.5529185337706615\n"
     ]
    },
    {
     "name": "stderr",
     "output_type": "stream",
     "text": [
      "[W ParallelNative.cpp:230] Warning: Cannot set number of intraop threads after parallel work has started or after set_num_threads call when using native parallel backend (function set_num_threads)\n",
      "[W ParallelNative.cpp:230] Warning: Cannot set number of intraop threads after parallel work has started or after set_num_threads call when using native parallel backend (function set_num_threads)\n",
      "[W ParallelNative.cpp:230] Warning: Cannot set number of intraop threads after parallel work has started or after set_num_threads call when using native parallel backend (function set_num_threads)\n",
      "[W ParallelNative.cpp:230] Warning: Cannot set number of intraop threads after parallel work has started or after set_num_threads call when using native parallel backend (function set_num_threads)\n"
     ]
    },
    {
     "name": "stdout",
     "output_type": "stream",
     "text": [
      "Epoch 1, Training Loss: 4.5513237560869255, Validation Error: 84.19125693933184, Validation Top-3 Accuracy: 31.474222496427966, Training Error: 86.14284436633181\n"
     ]
    },
    {
     "name": "stderr",
     "output_type": "stream",
     "text": [
      "[W ParallelNative.cpp:230] Warning: Cannot set number of intraop threads after parallel work has started or after set_num_threads call when using native parallel backend (function set_num_threads)\n",
      "[W ParallelNative.cpp:230] Warning: Cannot set number of intraop threads after parallel work has started or after set_num_threads call when using native parallel backend (function set_num_threads)\n"
     ]
    },
    {
     "name": "stdout",
     "output_type": "stream",
     "text": [
      "Epoch 2, Batch: 1000| Training Loss: 3.806024845600128\n",
      "Epoch 2, Batch: 2000| Training Loss: 3.7974763095378874\n",
      "Epoch 2, Batch: 3000| Training Loss: 3.790282838424047\n",
      "Epoch 2, Batch: 4000| Training Loss: 3.7855704661011695\n",
      "Epoch 2, Batch: 5000| Training Loss: 3.7802773590087893\n",
      "Epoch 2, Batch: 6000| Training Loss: 3.7727118177811305\n",
      "Epoch 2, Batch: 7000| Training Loss: 3.767138929094587\n",
      "Epoch 2, Batch: 8000| Training Loss: 3.7604413770139216\n",
      "Epoch 2, Batch: 9000| Training Loss: 3.7548039840857186\n",
      "Epoch 2, Batch: 10000| Training Loss: 3.7496449693202973\n",
      "Epoch 2, Batch: 11000| Training Loss: 3.7437567483945324\n",
      "Epoch 2, Batch: 12000| Training Loss: 3.738505563477675\n",
      "Epoch 2, Batch: 13000| Training Loss: 3.734236863191311\n",
      "Epoch 2, Batch: 14000| Training Loss: 3.7299677956785473\n",
      "Epoch 2, Batch: 15000| Training Loss: 3.726015834267934\n",
      "Epoch 2, Batch: 16000| Training Loss: 3.723410372197628\n",
      "Epoch 2, Batch: 17000| Training Loss: 3.719703231264563\n",
      "Epoch 2, Batch: 18000| Training Loss: 3.7156161540349326\n",
      "Epoch 2, Batch: 19000| Training Loss: 3.712242214328364\n",
      "Epoch 2, Batch: 20000| Training Loss: 3.708929546356201\n",
      "Epoch 2, Batch: 21000| Training Loss: 3.7052335664885385\n",
      "Epoch 2, Batch: 22000| Training Loss: 3.7019133154804056\n",
      "Epoch 2, Batch: 23000| Training Loss: 3.6982765853094017\n",
      "Epoch 2, Batch: 24000| Training Loss: 3.6949112261931103\n",
      "Epoch 2, Batch: 25000| Training Loss: 3.6914750941181182\n",
      "Epoch 2, Batch: 26000| Training Loss: 3.688166288953561\n",
      "Epoch 2, Batch: 27000| Training Loss: 3.685061973033128\n",
      "Epoch 2, Batch: 28000| Training Loss: 3.681712329515389\n",
      "Epoch 2, Batch: 29000| Training Loss: 3.678765189285936\n",
      "Epoch 2, Batch: 30000| Training Loss: 3.675511498204867\n",
      "Epoch 2, Batch: 31000| Training Loss: 3.6717659900419175\n",
      "Epoch 2, Batch: 32000| Training Loss: 3.668668402284384\n",
      "Epoch 2, Batch: 33000| Training Loss: 3.6656103615688553\n",
      "Epoch 2, Batch: 34000| Training Loss: 3.6626710654427024\n",
      "Epoch 2, Batch: 35000| Training Loss: 3.659196133014134\n",
      "Epoch 2, Batch: 36000| Training Loss: 3.6561995365156066\n",
      "Epoch 2, Batch: 37000| Training Loss: 3.653081059513865\n",
      "Epoch 2, Batch: 38000| Training Loss: 3.6502016705713776\n"
     ]
    },
    {
     "name": "stderr",
     "output_type": "stream",
     "text": [
      "[W ParallelNative.cpp:230] Warning: Cannot set number of intraop threads after parallel work has started or after set_num_threads call when using native parallel backend (function set_num_threads)\n",
      "[W ParallelNative.cpp:230] Warning: Cannot set number of intraop threads after parallel work has started or after set_num_threads call when using native parallel backend (function set_num_threads)\n",
      "[W ParallelNative.cpp:230] Warning: Cannot set number of intraop threads after parallel work has started or after set_num_threads call when using native parallel backend (function set_num_threads)\n",
      "[W ParallelNative.cpp:230] Warning: Cannot set number of intraop threads after parallel work has started or after set_num_threads call when using native parallel backend (function set_num_threads)\n"
     ]
    },
    {
     "name": "stdout",
     "output_type": "stream",
     "text": [
      "Epoch 2, Training Loss: 3.649939461423196, Validation Error: 82.6153570646875, Validation Top-3 Accuracy: 34.39122908269377, Training Error: 83.01193925266236\n"
     ]
    },
    {
     "name": "stderr",
     "output_type": "stream",
     "text": [
      "[W ParallelNative.cpp:230] Warning: Cannot set number of intraop threads after parallel work has started or after set_num_threads call when using native parallel backend (function set_num_threads)\n",
      "[W ParallelNative.cpp:230] Warning: Cannot set number of intraop threads after parallel work has started or after set_num_threads call when using native parallel backend (function set_num_threads)\n"
     ]
    },
    {
     "name": "stdout",
     "output_type": "stream",
     "text": [
      "Epoch 3, Batch: 1000| Training Loss: 3.483020756006241\n",
      "Epoch 3, Batch: 2000| Training Loss: 3.479381079912186\n",
      "Epoch 3, Batch: 3000| Training Loss: 3.4820828687349956\n",
      "Epoch 3, Batch: 4000| Training Loss: 3.483744958162308\n",
      "Epoch 3, Batch: 5000| Training Loss: 3.4802700422763824\n",
      "Epoch 3, Batch: 6000| Training Loss: 3.4806341499884925\n",
      "Epoch 3, Batch: 7000| Training Loss: 3.4796304031780787\n",
      "Epoch 3, Batch: 8000| Training Loss: 3.4787274623811246\n",
      "Epoch 3, Batch: 9000| Training Loss: 3.476125892003377\n",
      "Epoch 3, Batch: 10000| Training Loss: 3.475601124191284\n",
      "Epoch 3, Batch: 11000| Training Loss: 3.4740573950464073\n",
      "Epoch 3, Batch: 12000| Training Loss: 3.4737265084783235\n",
      "Epoch 3, Batch: 13000| Training Loss: 3.4717889229884515\n",
      "Epoch 3, Batch: 14000| Training Loss: 3.471052893093654\n",
      "Epoch 3, Batch: 15000| Training Loss: 3.470204947121938\n",
      "Epoch 3, Batch: 16000| Training Loss: 3.468310795292258\n",
      "Epoch 3, Batch: 17000| Training Loss: 3.467836736468708\n",
      "Epoch 3, Batch: 18000| Training Loss: 3.4665221223168903\n",
      "Epoch 3, Batch: 19000| Training Loss: 3.4654846200692027\n",
      "Epoch 3, Batch: 20000| Training Loss: 3.4641620609045027\n",
      "Epoch 3, Batch: 21000| Training Loss: 3.4633761822269076\n",
      "Epoch 3, Batch: 22000| Training Loss: 3.4616994663151828\n",
      "Epoch 3, Batch: 23000| Training Loss: 3.4604176080123237\n",
      "Epoch 3, Batch: 24000| Training Loss: 3.458957477668921\n",
      "Epoch 3, Batch: 25000| Training Loss: 3.4578958224010465\n",
      "Epoch 3, Batch: 26000| Training Loss: 3.4565864339149917\n",
      "Epoch 3, Batch: 27000| Training Loss: 3.455302135158468\n",
      "Epoch 3, Batch: 28000| Training Loss: 3.454162687131337\n",
      "Epoch 3, Batch: 29000| Training Loss: 3.4528371110209104\n",
      "Epoch 3, Batch: 30000| Training Loss: 3.4513661039908725\n",
      "Epoch 3, Batch: 31000| Training Loss: 3.4504208499693103\n",
      "Epoch 3, Batch: 32000| Training Loss: 3.449549433298409\n",
      "Epoch 3, Batch: 33000| Training Loss: 3.44846628575614\n",
      "Epoch 3, Batch: 34000| Training Loss: 3.4474494063082863\n",
      "Epoch 3, Batch: 35000| Training Loss: 3.446441164139339\n",
      "Epoch 3, Batch: 36000| Training Loss: 3.4454736756020123\n",
      "Epoch 3, Batch: 37000| Training Loss: 3.444157453652975\n",
      "Epoch 3, Batch: 38000| Training Loss: 3.443225233435631\n"
     ]
    },
    {
     "name": "stderr",
     "output_type": "stream",
     "text": [
      "[W ParallelNative.cpp:230] Warning: Cannot set number of intraop threads after parallel work has started or after set_num_threads call when using native parallel backend (function set_num_threads)\n",
      "[W ParallelNative.cpp:230] Warning: Cannot set number of intraop threads after parallel work has started or after set_num_threads call when using native parallel backend (function set_num_threads)\n",
      "[W ParallelNative.cpp:230] Warning: Cannot set number of intraop threads after parallel work has started or after set_num_threads call when using native parallel backend (function set_num_threads)\n",
      "[W ParallelNative.cpp:230] Warning: Cannot set number of intraop threads after parallel work has started or after set_num_threads call when using native parallel backend (function set_num_threads)\n"
     ]
    },
    {
     "name": "stdout",
     "output_type": "stream",
     "text": [
      "Epoch 3, Training Loss: 3.4431631164401546, Validation Error: 81.6304196430348, Validation Top-3 Accuracy: 36.2456971168492, Training Error: 81.50478398822403\n"
     ]
    },
    {
     "name": "stderr",
     "output_type": "stream",
     "text": [
      "[W ParallelNative.cpp:230] Warning: Cannot set number of intraop threads after parallel work has started or after set_num_threads call when using native parallel backend (function set_num_threads)\n",
      "[W ParallelNative.cpp:230] Warning: Cannot set number of intraop threads after parallel work has started or after set_num_threads call when using native parallel backend (function set_num_threads)\n"
     ]
    },
    {
     "name": "stdout",
     "output_type": "stream",
     "text": [
      "Epoch 4, Batch: 1000| Training Loss: 3.339806299686432\n",
      "Epoch 4, Batch: 2000| Training Loss: 3.338694095849991\n",
      "Epoch 4, Batch: 3000| Training Loss: 3.341699094295502\n",
      "Epoch 4, Batch: 4000| Training Loss: 3.340814384698868\n",
      "Epoch 4, Batch: 5000| Training Loss: 3.341226714849472\n",
      "Epoch 4, Batch: 6000| Training Loss: 3.3434454770088196\n",
      "Epoch 4, Batch: 7000| Training Loss: 3.34455114872115\n",
      "Epoch 4, Batch: 8000| Training Loss: 3.3452849054038523\n",
      "Epoch 4, Batch: 9000| Training Loss: 3.3455745278729334\n",
      "Epoch 4, Batch: 10000| Training Loss: 3.3457052090168\n",
      "Epoch 4, Batch: 11000| Training Loss: 3.345064857829701\n",
      "Epoch 4, Batch: 12000| Training Loss: 3.3450398774345715\n",
      "Epoch 4, Batch: 13000| Training Loss: 3.3453560741314523\n",
      "Epoch 4, Batch: 14000| Training Loss: 3.3450122690882003\n",
      "Epoch 4, Batch: 15000| Training Loss: 3.344306777381897\n",
      "Epoch 4, Batch: 16000| Training Loss: 3.3436787827908994\n",
      "Epoch 4, Batch: 17000| Training Loss: 3.3432919257388396\n",
      "Epoch 4, Batch: 18000| Training Loss: 3.342787779794799\n",
      "Epoch 4, Batch: 19000| Training Loss: 3.342102652888549\n",
      "Epoch 4, Batch: 20000| Training Loss: 3.341913122844696\n",
      "Epoch 4, Batch: 21000| Training Loss: 3.3412841694468542\n",
      "Epoch 4, Batch: 22000| Training Loss: 3.3405070312239906\n",
      "Epoch 4, Batch: 23000| Training Loss: 3.340153695386389\n",
      "Epoch 4, Batch: 24000| Training Loss: 3.3400194152196248\n",
      "Epoch 4, Batch: 25000| Training Loss: 3.3389758448410034\n",
      "Epoch 4, Batch: 26000| Training Loss: 3.338779268741608\n",
      "Epoch 4, Batch: 27000| Training Loss: 3.3381854248929907\n",
      "Epoch 4, Batch: 28000| Training Loss: 3.337157660186291\n",
      "Epoch 4, Batch: 29000| Training Loss: 3.3365312268898406\n",
      "Epoch 4, Batch: 30000| Training Loss: 3.336121342690786\n",
      "Epoch 4, Batch: 31000| Training Loss: 3.335797090584232\n",
      "Epoch 4, Batch: 32000| Training Loss: 3.3349633972421286\n",
      "Epoch 4, Batch: 33000| Training Loss: 3.3346737771034243\n",
      "Epoch 4, Batch: 34000| Training Loss: 3.3343391336693484\n",
      "Epoch 4, Batch: 35000| Training Loss: 3.334017280571801\n",
      "Epoch 4, Batch: 36000| Training Loss: 3.333297317041291\n",
      "Epoch 4, Batch: 37000| Training Loss: 3.332741138761108\n",
      "Epoch 4, Batch: 38000| Training Loss: 3.33215351528243\n"
     ]
    },
    {
     "name": "stderr",
     "output_type": "stream",
     "text": [
      "[W ParallelNative.cpp:230] Warning: Cannot set number of intraop threads after parallel work has started or after set_num_threads call when using native parallel backend (function set_num_threads)\n",
      "[W ParallelNative.cpp:230] Warning: Cannot set number of intraop threads after parallel work has started or after set_num_threads call when using native parallel backend (function set_num_threads)\n",
      "[W ParallelNative.cpp:230] Warning: Cannot set number of intraop threads after parallel work has started or after set_num_threads call when using native parallel backend (function set_num_threads)\n",
      "[W ParallelNative.cpp:230] Warning: Cannot set number of intraop threads after parallel work has started or after set_num_threads call when using native parallel backend (function set_num_threads)\n"
     ]
    },
    {
     "name": "stdout",
     "output_type": "stream",
     "text": [
      "Epoch 4, Training Loss: 3.3321550422571504, Validation Error: 81.17874126987286, Validation Top-3 Accuracy: 37.08936068702238, Training Error: 80.43368918886765\n"
     ]
    },
    {
     "name": "stderr",
     "output_type": "stream",
     "text": [
      "[W ParallelNative.cpp:230] Warning: Cannot set number of intraop threads after parallel work has started or after set_num_threads call when using native parallel backend (function set_num_threads)\n",
      "[W ParallelNative.cpp:230] Warning: Cannot set number of intraop threads after parallel work has started or after set_num_threads call when using native parallel backend (function set_num_threads)\n"
     ]
    },
    {
     "name": "stdout",
     "output_type": "stream",
     "text": [
      "Epoch 5, Batch: 1000| Training Loss: 3.245949835062027\n",
      "Epoch 5, Batch: 2000| Training Loss: 3.249369867682457\n",
      "Epoch 5, Batch: 3000| Training Loss: 3.2492972424825033\n",
      "Epoch 5, Batch: 4000| Training Loss: 3.2508434231877326\n",
      "Epoch 5, Batch: 5000| Training Loss: 3.2528699383735655\n",
      "Epoch 5, Batch: 6000| Training Loss: 3.2555687199433643\n",
      "Epoch 5, Batch: 7000| Training Loss: 3.257446357079915\n",
      "Epoch 5, Batch: 8000| Training Loss: 3.257052214026451\n",
      "Epoch 5, Batch: 9000| Training Loss: 3.255994214428796\n",
      "Epoch 5, Batch: 10000| Training Loss: 3.256655662846565\n",
      "Epoch 5, Batch: 11000| Training Loss: 3.256622040206736\n",
      "Epoch 5, Batch: 12000| Training Loss: 3.2563561497926714\n",
      "Epoch 5, Batch: 13000| Training Loss: 3.2566864491792824\n",
      "Epoch 5, Batch: 14000| Training Loss: 3.2568439649002894\n",
      "Epoch 5, Batch: 15000| Training Loss: 3.2567312603155774\n",
      "Epoch 5, Batch: 16000| Training Loss: 3.2563820182979106\n",
      "Epoch 5, Batch: 17000| Training Loss: 3.2565070103336784\n",
      "Epoch 5, Batch: 18000| Training Loss: 3.2572296083370844\n",
      "Epoch 5, Batch: 19000| Training Loss: 3.257623732955832\n",
      "Epoch 5, Batch: 20000| Training Loss: 3.257592967236042\n",
      "Epoch 5, Batch: 21000| Training Loss: 3.258153870593934\n",
      "Epoch 5, Batch: 22000| Training Loss: 3.2581606015075337\n",
      "Epoch 5, Batch: 23000| Training Loss: 3.258258367103079\n",
      "Epoch 5, Batch: 24000| Training Loss: 3.2584709488848844\n",
      "Epoch 5, Batch: 25000| Training Loss: 3.2582806373119353\n",
      "Epoch 5, Batch: 26000| Training Loss: 3.2585696185643855\n",
      "Epoch 5, Batch: 27000| Training Loss: 3.2585913926142234\n",
      "Epoch 5, Batch: 28000| Training Loss: 3.2590675662670816\n",
      "Epoch 5, Batch: 29000| Training Loss: 3.2588779564643726\n",
      "Epoch 5, Batch: 30000| Training Loss: 3.2586568000634513\n",
      "Epoch 5, Batch: 31000| Training Loss: 3.258440213895613\n",
      "Epoch 5, Batch: 32000| Training Loss: 3.2582041462734344\n",
      "Epoch 5, Batch: 33000| Training Loss: 3.2580383386973177\n",
      "Epoch 5, Batch: 34000| Training Loss: 3.2578982919244206\n",
      "Epoch 5, Batch: 35000| Training Loss: 3.257422453049251\n",
      "Epoch 5, Batch: 36000| Training Loss: 3.2572379297746554\n",
      "Epoch 5, Batch: 37000| Training Loss: 3.2572335548272005\n",
      "Epoch 5, Batch: 38000| Training Loss: 3.2569303182802702\n"
     ]
    },
    {
     "name": "stderr",
     "output_type": "stream",
     "text": [
      "[W ParallelNative.cpp:230] Warning: Cannot set number of intraop threads after parallel work has started or after set_num_threads call when using native parallel backend (function set_num_threads)\n",
      "[W ParallelNative.cpp:230] Warning: Cannot set number of intraop threads after parallel work has started or after set_num_threads call when using native parallel backend (function set_num_threads)\n",
      "[W ParallelNative.cpp:230] Warning: Cannot set number of intraop threads after parallel work has started or after set_num_threads call when using native parallel backend (function set_num_threads)\n",
      "[W ParallelNative.cpp:230] Warning: Cannot set number of intraop threads after parallel work has started or after set_num_threads call when using native parallel backend (function set_num_threads)\n"
     ]
    },
    {
     "name": "stdout",
     "output_type": "stream",
     "text": [
      "Epoch 5, Training Loss: 3.2568635338730605, Validation Error: 80.92604015361044, Validation Top-3 Accuracy: 37.79374017555724, Training Error: 79.64185524056145\n"
     ]
    },
    {
     "name": "stderr",
     "output_type": "stream",
     "text": [
      "[W ParallelNative.cpp:230] Warning: Cannot set number of intraop threads after parallel work has started or after set_num_threads call when using native parallel backend (function set_num_threads)\n",
      "[W ParallelNative.cpp:230] Warning: Cannot set number of intraop threads after parallel work has started or after set_num_threads call when using native parallel backend (function set_num_threads)\n"
     ]
    },
    {
     "name": "stdout",
     "output_type": "stream",
     "text": [
      "Epoch 6, Batch: 1000| Training Loss: 3.1994851686954497\n",
      "Epoch 6, Batch: 2000| Training Loss: 3.191711835026741\n",
      "Epoch 6, Batch: 3000| Training Loss: 3.192624636332194\n",
      "Epoch 6, Batch: 4000| Training Loss: 3.189165085494518\n",
      "Epoch 6, Batch: 5000| Training Loss: 3.193168361902237\n",
      "Epoch 6, Batch: 6000| Training Loss: 3.1972622527281445\n",
      "Epoch 6, Batch: 7000| Training Loss: 3.196317677225385\n",
      "Epoch 6, Batch: 8000| Training Loss: 3.1978618890047072\n",
      "Epoch 6, Batch: 9000| Training Loss: 3.19870164598359\n",
      "Epoch 6, Batch: 10000| Training Loss: 3.2001349709510802\n",
      "Epoch 6, Batch: 11000| Training Loss: 3.200426701979204\n",
      "Epoch 6, Batch: 12000| Training Loss: 3.1995938737392424\n",
      "Epoch 6, Batch: 13000| Training Loss: 3.2009890369268565\n",
      "Epoch 6, Batch: 14000| Training Loss: 3.200186214549201\n",
      "Epoch 6, Batch: 15000| Training Loss: 3.2000090947469078\n",
      "Epoch 6, Batch: 16000| Training Loss: 3.1998954787552356\n",
      "Epoch 6, Batch: 17000| Training Loss: 3.19951368504412\n",
      "Epoch 6, Batch: 18000| Training Loss: 3.199279159439935\n",
      "Epoch 6, Batch: 19000| Training Loss: 3.199444318143945\n",
      "Epoch 6, Batch: 20000| Training Loss: 3.1990352085471154\n",
      "Epoch 6, Batch: 21000| Training Loss: 3.198855376833961\n",
      "Epoch 6, Batch: 22000| Training Loss: 3.198911265210672\n",
      "Epoch 6, Batch: 23000| Training Loss: 3.1990441123713618\n",
      "Epoch 6, Batch: 24000| Training Loss: 3.1987194241583348\n",
      "Epoch 6, Batch: 25000| Training Loss: 3.198620375776291\n",
      "Epoch 6, Batch: 26000| Training Loss: 3.1989586401444217\n",
      "Epoch 6, Batch: 27000| Training Loss: 3.1994125893380905\n",
      "Epoch 6, Batch: 28000| Training Loss: 3.1995684747440474\n",
      "Epoch 6, Batch: 29000| Training Loss: 3.1998624261165487\n",
      "Epoch 6, Batch: 30000| Training Loss: 3.200486643656095\n",
      "Epoch 6, Batch: 31000| Training Loss: 3.1999244766927535\n",
      "Epoch 6, Batch: 32000| Training Loss: 3.199824708029628\n",
      "Epoch 6, Batch: 33000| Training Loss: 3.1996812601811957\n",
      "Epoch 6, Batch: 34000| Training Loss: 3.19972366548987\n",
      "Epoch 6, Batch: 35000| Training Loss: 3.19979399130685\n",
      "Epoch 6, Batch: 36000| Training Loss: 3.199913663605849\n",
      "Epoch 6, Batch: 37000| Training Loss: 3.1998628560207987\n",
      "Epoch 6, Batch: 38000| Training Loss: 3.199972847442878\n"
     ]
    },
    {
     "name": "stderr",
     "output_type": "stream",
     "text": [
      "[W ParallelNative.cpp:230] Warning: Cannot set number of intraop threads after parallel work has started or after set_num_threads call when using native parallel backend (function set_num_threads)\n",
      "[W ParallelNative.cpp:230] Warning: Cannot set number of intraop threads after parallel work has started or after set_num_threads call when using native parallel backend (function set_num_threads)\n",
      "[W ParallelNative.cpp:230] Warning: Cannot set number of intraop threads after parallel work has started or after set_num_threads call when using native parallel backend (function set_num_threads)\n",
      "[W ParallelNative.cpp:230] Warning: Cannot set number of intraop threads after parallel work has started or after set_num_threads call when using native parallel backend (function set_num_threads)\n"
     ]
    },
    {
     "name": "stdout",
     "output_type": "stream",
     "text": [
      "Epoch 6, Training Loss: 3.2001007882940344, Validation Error: 80.16594703225421, Validation Top-3 Accuracy: 38.60556738382595, Training Error: 78.95816461579992\n"
     ]
    },
    {
     "name": "stderr",
     "output_type": "stream",
     "text": [
      "[W ParallelNative.cpp:230] Warning: Cannot set number of intraop threads after parallel work has started or after set_num_threads call when using native parallel backend (function set_num_threads)\n",
      "[W ParallelNative.cpp:230] Warning: Cannot set number of intraop threads after parallel work has started or after set_num_threads call when using native parallel backend (function set_num_threads)\n"
     ]
    },
    {
     "name": "stdout",
     "output_type": "stream",
     "text": [
      "Epoch 7, Batch: 1000| Training Loss: 3.113136159181595\n",
      "Epoch 7, Batch: 2000| Training Loss: 3.111195019602776\n",
      "Epoch 7, Batch: 3000| Training Loss: 3.11060387468338\n",
      "Epoch 7, Batch: 4000| Training Loss: 3.1085283906459806\n",
      "Epoch 7, Batch: 5000| Training Loss: 3.1077675044536592\n",
      "Epoch 7, Batch: 6000| Training Loss: 3.106524353504181\n",
      "Epoch 7, Batch: 7000| Training Loss: 3.1069643381323133\n",
      "Epoch 7, Batch: 8000| Training Loss: 3.105923375815153\n",
      "Epoch 7, Batch: 9000| Training Loss: 3.107252013656828\n",
      "Epoch 7, Batch: 10000| Training Loss: 3.1071287211179732\n",
      "Epoch 7, Batch: 11000| Training Loss: 3.107652862743898\n",
      "Epoch 7, Batch: 12000| Training Loss: 3.1071572810411454\n",
      "Epoch 7, Batch: 13000| Training Loss: 3.107028820477999\n",
      "Epoch 7, Batch: 14000| Training Loss: 3.106717122231211\n",
      "Epoch 7, Batch: 15000| Training Loss: 3.1065824249108633\n",
      "Epoch 7, Batch: 16000| Training Loss: 3.1056585669219494\n",
      "Epoch 7, Batch: 17000| Training Loss: 3.105325102217057\n",
      "Epoch 7, Batch: 18000| Training Loss: 3.105295468820466\n",
      "Epoch 7, Batch: 19000| Training Loss: 3.1046898284209403\n",
      "Epoch 7, Batch: 20000| Training Loss: 3.104482819247246\n",
      "Epoch 7, Batch: 21000| Training Loss: 3.104955105565843\n",
      "Epoch 7, Batch: 22000| Training Loss: 3.105169897469607\n",
      "Epoch 7, Batch: 23000| Training Loss: 3.1050085526030995\n",
      "Epoch 7, Batch: 24000| Training Loss: 3.104632436503967\n",
      "Epoch 7, Batch: 25000| Training Loss: 3.1042459632778168\n",
      "Epoch 7, Batch: 26000| Training Loss: 3.1040889287453433\n",
      "Epoch 7, Batch: 27000| Training Loss: 3.103783416333022\n",
      "Epoch 7, Batch: 28000| Training Loss: 3.104200559931142\n",
      "Epoch 7, Batch: 29000| Training Loss: 3.103951054219542\n",
      "Epoch 7, Batch: 30000| Training Loss: 3.103556819399198\n",
      "Epoch 7, Batch: 31000| Training Loss: 3.1034326633484133\n",
      "Epoch 7, Batch: 32000| Training Loss: 3.1034538018628957\n",
      "Epoch 7, Batch: 33000| Training Loss: 3.1036039543585345\n",
      "Epoch 7, Batch: 34000| Training Loss: 3.1033725175717297\n",
      "Epoch 7, Batch: 35000| Training Loss: 3.103713618843896\n",
      "Epoch 7, Batch: 36000| Training Loss: 3.1037149466143714\n",
      "Epoch 7, Batch: 37000| Training Loss: 3.1036883351094016\n",
      "Epoch 7, Batch: 38000| Training Loss: 3.103577944165782\n"
     ]
    },
    {
     "name": "stderr",
     "output_type": "stream",
     "text": [
      "[W ParallelNative.cpp:230] Warning: Cannot set number of intraop threads after parallel work has started or after set_num_threads call when using native parallel backend (function set_num_threads)\n",
      "[W ParallelNative.cpp:230] Warning: Cannot set number of intraop threads after parallel work has started or after set_num_threads call when using native parallel backend (function set_num_threads)\n",
      "[W ParallelNative.cpp:230] Warning: Cannot set number of intraop threads after parallel work has started or after set_num_threads call when using native parallel backend (function set_num_threads)\n",
      "[W ParallelNative.cpp:230] Warning: Cannot set number of intraop threads after parallel work has started or after set_num_threads call when using native parallel backend (function set_num_threads)\n"
     ]
    },
    {
     "name": "stdout",
     "output_type": "stream",
     "text": [
      "Epoch 7, Training Loss: 3.1036568449184996, Validation Error: 79.71824820423026, Validation Top-3 Accuracy: 39.39351732168181, Training Error: 77.41572738692746\n"
     ]
    }
   ],
   "source": [
    "# Train the model\n",
    "train_error,train_loss_values, val_error, val_loss_value,swa_model = train_cnn(device, model, train_loader, val_loader, criterion, optimizer, NUM_EPOCHS, learn_decay)"
   ]
  },
  {
   "cell_type": "markdown",
   "metadata": {},
   "source": [
    "## Experiment 8 (Maia)"
   ]
  },
  {
   "cell_type": "code",
   "execution_count": 26,
   "metadata": {},
   "outputs": [
    {
     "name": "stdout",
     "output_type": "stream",
     "text": [
      "2067129\n"
     ]
    }
   ],
   "source": [
    "# Reload the data with particular batch size\n",
    "torch.multiprocessing.set_start_method('fork', force=True)\n",
    "batch_size = 64\n",
    "# Shuffling... (False gives us )\n",
    "train_loader = DataLoader(train_dataset, batch_size=batch_size, shuffle=True, num_workers=2, pin_memory=True)\n",
    "val_loader = DataLoader(val_dataset, batch_size=batch_size, shuffle=True, num_workers=2,pin_memory=True)\n",
    "\n",
    "# Initialize model, loss function, and optimizer\n",
    "NUM_EPOCHS = 7\n",
    "d_out = len(vocab.id_to_move.keys())\n",
    "# d_out = 1968\n",
    "model = SENetPureTwo(d_out) \n",
    "model = model.to(device)\n",
    "criterion = nn.CrossEntropyLoss()\n",
    "lr = 2e-4\n",
    "weight_decay=0\n",
    "learn_decay = 0.1\n",
    "optimizer = optim.Adam(model.parameters(), lr=lr, weight_decay=weight_decay)\n",
    "\n",
    "def count_parameters(model):\n",
    "    return sum(p.numel() for p in model.parameters() if p.requires_grad)\n",
    "print(count_parameters(model))"
   ]
  },
  {
   "cell_type": "code",
   "execution_count": 27,
   "metadata": {},
   "outputs": [
    {
     "name": "stderr",
     "output_type": "stream",
     "text": [
      "[W ParallelNative.cpp:230] Warning: Cannot set number of intraop threads after parallel work has started or after set_num_threads call when using native parallel backend (function set_num_threads)\n",
      "[W ParallelNative.cpp:230] Warning: Cannot set number of intraop threads after parallel work has started or after set_num_threads call when using native parallel backend (function set_num_threads)\n"
     ]
    },
    {
     "name": "stdout",
     "output_type": "stream",
     "text": [
      "Epoch 1, Batch: 1000| Training Loss: 5.632173923492432\n",
      "Epoch 1, Batch: 2000| Training Loss: 5.304362399935722\n",
      "Epoch 1, Batch: 3000| Training Loss: 5.0780320460796355\n",
      "Epoch 1, Batch: 4000| Training Loss: 4.8961014534235\n",
      "Epoch 1, Batch: 5000| Training Loss: 4.751180138683319\n",
      "Epoch 1, Batch: 6000| Training Loss: 4.632896472573281\n",
      "Epoch 1, Batch: 7000| Training Loss: 4.536292978525162\n",
      "Epoch 1, Batch: 8000| Training Loss: 4.4515211680829525\n",
      "Epoch 1, Batch: 9000| Training Loss: 4.382238358815511\n",
      "Epoch 1, Batch: 10000| Training Loss: 4.3222277558803555\n",
      "Epoch 1, Batch: 11000| Training Loss: 4.269128141338175\n",
      "Epoch 1, Batch: 12000| Training Loss: 4.222524809459845\n",
      "Epoch 1, Batch: 13000| Training Loss: 4.181758822844579\n",
      "Epoch 1, Batch: 14000| Training Loss: 4.144321282114301\n",
      "Epoch 1, Batch: 15000| Training Loss: 4.109957762384415\n",
      "Epoch 1, Batch: 16000| Training Loss: 4.079317539870739\n",
      "Epoch 1, Batch: 17000| Training Loss: 4.050705397661995\n",
      "Epoch 1, Batch: 18000| Training Loss: 4.025270220253202\n",
      "Epoch 1, Batch: 19000| Training Loss: 4.001334524932661\n",
      "Epoch 1, Batch: 20000| Training Loss: 3.980036864364147\n",
      "Epoch 1, Batch: 21000| Training Loss: 3.9593628381547474\n",
      "Epoch 1, Batch: 22000| Training Loss: 3.9404034870104354\n",
      "Epoch 1, Batch: 23000| Training Loss: 3.922602337743925\n",
      "Epoch 1, Batch: 24000| Training Loss: 3.9056783096094927\n",
      "Epoch 1, Batch: 25000| Training Loss: 3.8897596087646487\n",
      "Epoch 1, Batch: 26000| Training Loss: 3.8749400734076134\n",
      "Epoch 1, Batch: 27000| Training Loss: 3.861286593666783\n",
      "Epoch 1, Batch: 28000| Training Loss: 3.847903079143592\n",
      "Epoch 1, Batch: 29000| Training Loss: 3.835387160884923\n",
      "Epoch 1, Batch: 30000| Training Loss: 3.8233162902911504\n",
      "Epoch 1, Batch: 31000| Training Loss: 3.8117066628702223\n",
      "Epoch 1, Batch: 32000| Training Loss: 3.8008187147304415\n",
      "Epoch 1, Batch: 33000| Training Loss: 3.7908222209468034\n",
      "Epoch 1, Batch: 34000| Training Loss: 3.7809809106658485\n",
      "Epoch 1, Batch: 35000| Training Loss: 3.771615432419096\n",
      "Epoch 1, Batch: 36000| Training Loss: 3.7624782247278423\n",
      "Epoch 1, Batch: 37000| Training Loss: 3.753785941968093\n",
      "Epoch 1, Batch: 38000| Training Loss: 3.745243113160133\n"
     ]
    },
    {
     "name": "stderr",
     "output_type": "stream",
     "text": [
      "[W ParallelNative.cpp:230] Warning: Cannot set number of intraop threads after parallel work has started or after set_num_threads call when using native parallel backend (function set_num_threads)\n",
      "[W ParallelNative.cpp:230] Warning: Cannot set number of intraop threads after parallel work has started or after set_num_threads call when using native parallel backend (function set_num_threads)\n",
      "[W ParallelNative.cpp:230] Warning: Cannot set number of intraop threads after parallel work has started or after set_num_threads call when using native parallel backend (function set_num_threads)\n",
      "[W ParallelNative.cpp:230] Warning: Cannot set number of intraop threads after parallel work has started or after set_num_threads call when using native parallel backend (function set_num_threads)\n"
     ]
    },
    {
     "name": "stdout",
     "output_type": "stream",
     "text": [
      "Epoch 1, Training Loss: 3.7445472687788786, Validation Error: 81.95276279921205, Validation Top-3 Accuracy: 35.72039715901987, Training Error: 84.0887776276243\n"
     ]
    },
    {
     "name": "stderr",
     "output_type": "stream",
     "text": [
      "[W ParallelNative.cpp:230] Warning: Cannot set number of intraop threads after parallel work has started or after set_num_threads call when using native parallel backend (function set_num_threads)\n",
      "[W ParallelNative.cpp:230] Warning: Cannot set number of intraop threads after parallel work has started or after set_num_threads call when using native parallel backend (function set_num_threads)\n"
     ]
    },
    {
     "name": "stdout",
     "output_type": "stream",
     "text": [
      "Epoch 2, Batch: 1000| Training Loss: 3.311079566478729\n",
      "Epoch 2, Batch: 2000| Training Loss: 3.308705744743347\n",
      "Epoch 2, Batch: 3000| Training Loss: 3.3126397426128387\n",
      "Epoch 2, Batch: 4000| Training Loss: 3.3193241879940034\n",
      "Epoch 2, Batch: 5000| Training Loss: 3.320709149646759\n",
      "Epoch 2, Batch: 6000| Training Loss: 3.323797614534696\n",
      "Epoch 2, Batch: 7000| Training Loss: 3.3234757459504265\n",
      "Epoch 2, Batch: 8000| Training Loss: 3.3237445389330387\n",
      "Epoch 2, Batch: 9000| Training Loss: 3.3251262792746226\n",
      "Epoch 2, Batch: 10000| Training Loss: 3.325780798983574\n",
      "Epoch 2, Batch: 11000| Training Loss: 3.325849204865369\n",
      "Epoch 2, Batch: 12000| Training Loss: 3.3256952469944956\n",
      "Epoch 2, Batch: 13000| Training Loss: 3.325955964436898\n",
      "Epoch 2, Batch: 14000| Training Loss: 3.3260587069136758\n",
      "Epoch 2, Batch: 15000| Training Loss: 3.326122652769089\n",
      "Epoch 2, Batch: 16000| Training Loss: 3.3259350570589303\n",
      "Epoch 2, Batch: 17000| Training Loss: 3.3263163222425125\n",
      "Epoch 2, Batch: 18000| Training Loss: 3.326181480990516\n",
      "Epoch 2, Batch: 19000| Training Loss: 3.3257261750572606\n",
      "Epoch 2, Batch: 20000| Training Loss: 3.325081496977806\n",
      "Epoch 2, Batch: 21000| Training Loss: 3.325071003947939\n",
      "Epoch 2, Batch: 22000| Training Loss: 3.32463100113652\n",
      "Epoch 2, Batch: 23000| Training Loss: 3.3240294886050017\n",
      "Epoch 2, Batch: 24000| Training Loss: 3.3232954968810082\n",
      "Epoch 2, Batch: 25000| Training Loss: 3.3225117728519438\n",
      "Epoch 2, Batch: 26000| Training Loss: 3.32244820190393\n",
      "Epoch 2, Batch: 27000| Training Loss: 3.3222408459628068\n",
      "Epoch 2, Batch: 28000| Training Loss: 3.322127612744059\n",
      "Epoch 2, Batch: 29000| Training Loss: 3.3216131381988525\n",
      "Epoch 2, Batch: 30000| Training Loss: 3.320704584956169\n",
      "Epoch 2, Batch: 31000| Training Loss: 3.3203197990771263\n",
      "Epoch 2, Batch: 32000| Training Loss: 3.319870475292206\n",
      "Epoch 2, Batch: 33000| Training Loss: 3.319484190875834\n",
      "Epoch 2, Batch: 34000| Training Loss: 3.3190281703963\n",
      "Epoch 2, Batch: 35000| Training Loss: 3.318442253964288\n",
      "Epoch 2, Batch: 36000| Training Loss: 3.3180308566292127\n",
      "Epoch 2, Batch: 37000| Training Loss: 3.3172648860055047\n",
      "Epoch 2, Batch: 38000| Training Loss: 3.3165315893010088\n"
     ]
    },
    {
     "name": "stderr",
     "output_type": "stream",
     "text": [
      "[W ParallelNative.cpp:230] Warning: Cannot set number of intraop threads after parallel work has started or after set_num_threads call when using native parallel backend (function set_num_threads)\n",
      "[W ParallelNative.cpp:230] Warning: Cannot set number of intraop threads after parallel work has started or after set_num_threads call when using native parallel backend (function set_num_threads)\n",
      "[W ParallelNative.cpp:230] Warning: Cannot set number of intraop threads after parallel work has started or after set_num_threads call when using native parallel backend (function set_num_threads)\n",
      "[W ParallelNative.cpp:230] Warning: Cannot set number of intraop threads after parallel work has started or after set_num_threads call when using native parallel backend (function set_num_threads)\n"
     ]
    },
    {
     "name": "stdout",
     "output_type": "stream",
     "text": [
      "Epoch 2, Training Loss: 3.316535945700733, Validation Error: 81.39164693475536, Validation Top-3 Accuracy: 37.43956065839467, Training Error: 80.94589305626324\n"
     ]
    },
    {
     "name": "stderr",
     "output_type": "stream",
     "text": [
      "[W ParallelNative.cpp:230] Warning: Cannot set number of intraop threads after parallel work has started or after set_num_threads call when using native parallel backend (function set_num_threads)\n",
      "[W ParallelNative.cpp:230] Warning: Cannot set number of intraop threads after parallel work has started or after set_num_threads call when using native parallel backend (function set_num_threads)\n"
     ]
    },
    {
     "name": "stdout",
     "output_type": "stream",
     "text": [
      "Epoch 3, Batch: 1000| Training Loss: 3.1554559905529023\n",
      "Epoch 3, Batch: 2000| Training Loss: 3.1567423239946364\n",
      "Epoch 3, Batch: 3000| Training Loss: 3.162191621462504\n",
      "Epoch 3, Batch: 4000| Training Loss: 3.164720669388771\n",
      "Epoch 3, Batch: 5000| Training Loss: 3.1696864457130434\n",
      "Epoch 3, Batch: 6000| Training Loss: 3.1734610800345737\n",
      "Epoch 3, Batch: 7000| Training Loss: 3.1770261662687576\n",
      "Epoch 3, Batch: 8000| Training Loss: 3.1804357745349408\n",
      "Epoch 3, Batch: 9000| Training Loss: 3.1833237080044214\n",
      "Epoch 3, Batch: 10000| Training Loss: 3.185220776247978\n",
      "Epoch 3, Batch: 11000| Training Loss: 3.187228634335778\n",
      "Epoch 3, Batch: 12000| Training Loss: 3.1904780414501825\n",
      "Epoch 3, Batch: 13000| Training Loss: 3.191556286426691\n",
      "Epoch 3, Batch: 14000| Training Loss: 3.1931597088575363\n",
      "Epoch 3, Batch: 15000| Training Loss: 3.1944192732016243\n",
      "Epoch 3, Batch: 16000| Training Loss: 3.196080017760396\n",
      "Epoch 3, Batch: 17000| Training Loss: 3.197354181163451\n",
      "Epoch 3, Batch: 18000| Training Loss: 3.198592542979452\n",
      "Epoch 3, Batch: 19000| Training Loss: 3.200184848308563\n",
      "Epoch 3, Batch: 20000| Training Loss: 3.201153087449074\n",
      "Epoch 3, Batch: 21000| Training Loss: 3.2015452571028753\n",
      "Epoch 3, Batch: 22000| Training Loss: 3.202470509572463\n",
      "Epoch 3, Batch: 23000| Training Loss: 3.2032585034266763\n",
      "Epoch 3, Batch: 24000| Training Loss: 3.2044698645174505\n",
      "Epoch 3, Batch: 25000| Training Loss: 3.205295697336197\n",
      "Epoch 3, Batch: 26000| Training Loss: 3.2061323211009687\n",
      "Epoch 3, Batch: 27000| Training Loss: 3.2067174921212374\n",
      "Epoch 3, Batch: 28000| Training Loss: 3.2072209855828966\n",
      "Epoch 3, Batch: 29000| Training Loss: 3.2076332942452925\n",
      "Epoch 3, Batch: 30000| Training Loss: 3.208388670245806\n",
      "Epoch 3, Batch: 31000| Training Loss: 3.2088675068655323\n",
      "Epoch 3, Batch: 32000| Training Loss: 3.2090096646249293\n",
      "Epoch 3, Batch: 33000| Training Loss: 3.2092989497834985\n",
      "Epoch 3, Batch: 34000| Training Loss: 3.209767141608631\n",
      "Epoch 3, Batch: 35000| Training Loss: 3.210341570854187\n",
      "Epoch 3, Batch: 36000| Training Loss: 3.2107518196172182\n",
      "Epoch 3, Batch: 37000| Training Loss: 3.210991596569886\n",
      "Epoch 3, Batch: 38000| Training Loss: 3.2112557751755966\n"
     ]
    },
    {
     "name": "stderr",
     "output_type": "stream",
     "text": [
      "[W ParallelNative.cpp:230] Warning: Cannot set number of intraop threads after parallel work has started or after set_num_threads call when using native parallel backend (function set_num_threads)\n",
      "[W ParallelNative.cpp:230] Warning: Cannot set number of intraop threads after parallel work has started or after set_num_threads call when using native parallel backend (function set_num_threads)\n",
      "[W ParallelNative.cpp:230] Warning: Cannot set number of intraop threads after parallel work has started or after set_num_threads call when using native parallel backend (function set_num_threads)\n",
      "[W ParallelNative.cpp:230] Warning: Cannot set number of intraop threads after parallel work has started or after set_num_threads call when using native parallel backend (function set_num_threads)\n"
     ]
    },
    {
     "name": "stdout",
     "output_type": "stream",
     "text": [
      "Epoch 3, Training Loss: 3.211188332915015, Validation Error: 80.39875042282667, Validation Top-3 Accuracy: 38.55582306945281, Training Error: 79.61227582619284\n"
     ]
    },
    {
     "name": "stderr",
     "output_type": "stream",
     "text": [
      "[W ParallelNative.cpp:230] Warning: Cannot set number of intraop threads after parallel work has started or after set_num_threads call when using native parallel backend (function set_num_threads)\n",
      "[W ParallelNative.cpp:230] Warning: Cannot set number of intraop threads after parallel work has started or after set_num_threads call when using native parallel backend (function set_num_threads)\n"
     ]
    },
    {
     "name": "stdout",
     "output_type": "stream",
     "text": [
      "Epoch 4, Batch: 1000| Training Loss: 3.076399718761444\n",
      "Epoch 4, Batch: 2000| Training Loss: 3.084722713112831\n",
      "Epoch 4, Batch: 3000| Training Loss: 3.0901474703947702\n",
      "Epoch 4, Batch: 4000| Training Loss: 3.089195749819279\n",
      "Epoch 4, Batch: 5000| Training Loss: 3.0943989936351777\n",
      "Epoch 4, Batch: 6000| Training Loss: 3.097493115703265\n",
      "Epoch 4, Batch: 7000| Training Loss: 3.100024134840284\n",
      "Epoch 4, Batch: 8000| Training Loss: 3.1023512228131294\n",
      "Epoch 4, Batch: 9000| Training Loss: 3.1063817288080853\n",
      "Epoch 4, Batch: 10000| Training Loss: 3.1097058917284013\n",
      "Epoch 4, Batch: 11000| Training Loss: 3.11293731340495\n",
      "Epoch 4, Batch: 12000| Training Loss: 3.1147653460105262\n",
      "Epoch 4, Batch: 13000| Training Loss: 3.1176898381159854\n",
      "Epoch 4, Batch: 14000| Training Loss: 3.1199330524887356\n",
      "Epoch 4, Batch: 15000| Training Loss: 3.1219671852588653\n",
      "Epoch 4, Batch: 16000| Training Loss: 3.1231362732201813\n",
      "Epoch 4, Batch: 17000| Training Loss: 3.1245552475312177\n",
      "Epoch 4, Batch: 18000| Training Loss: 3.1265640711387\n",
      "Epoch 4, Batch: 19000| Training Loss: 3.1281450360699705\n",
      "Epoch 4, Batch: 20000| Training Loss: 3.129583406889439\n",
      "Epoch 4, Batch: 21000| Training Loss: 3.1311068965707505\n",
      "Epoch 4, Batch: 22000| Training Loss: 3.131957909085534\n",
      "Epoch 4, Batch: 23000| Training Loss: 3.1329337624052296\n",
      "Epoch 4, Batch: 24000| Training Loss: 3.134002820809682\n",
      "Epoch 4, Batch: 25000| Training Loss: 3.134984641170502\n",
      "Epoch 4, Batch: 26000| Training Loss: 3.136369298980786\n",
      "Epoch 4, Batch: 27000| Training Loss: 3.1371963478989073\n",
      "Epoch 4, Batch: 28000| Training Loss: 3.13864126934324\n",
      "Epoch 4, Batch: 29000| Training Loss: 3.1398819488163654\n",
      "Epoch 4, Batch: 30000| Training Loss: 3.1406287444988887\n",
      "Epoch 4, Batch: 31000| Training Loss: 3.141483089400876\n",
      "Epoch 4, Batch: 32000| Training Loss: 3.142385251611471\n",
      "Epoch 4, Batch: 33000| Training Loss: 3.1432467132192667\n",
      "Epoch 4, Batch: 34000| Training Loss: 3.14417498764571\n",
      "Epoch 4, Batch: 35000| Training Loss: 3.144514761754445\n",
      "Epoch 4, Batch: 36000| Training Loss: 3.145334175010522\n",
      "Epoch 4, Batch: 37000| Training Loss: 3.145767661681046\n",
      "Epoch 4, Batch: 38000| Training Loss: 3.1468588623184908\n"
     ]
    },
    {
     "name": "stderr",
     "output_type": "stream",
     "text": [
      "[W ParallelNative.cpp:230] Warning: Cannot set number of intraop threads after parallel work has started or after set_num_threads call when using native parallel backend (function set_num_threads)\n",
      "[W ParallelNative.cpp:230] Warning: Cannot set number of intraop threads after parallel work has started or after set_num_threads call when using native parallel backend (function set_num_threads)\n",
      "[W ParallelNative.cpp:230] Warning: Cannot set number of intraop threads after parallel work has started or after set_num_threads call when using native parallel backend (function set_num_threads)\n",
      "[W ParallelNative.cpp:230] Warning: Cannot set number of intraop threads after parallel work has started or after set_num_threads call when using native parallel backend (function set_num_threads)\n"
     ]
    },
    {
     "name": "stdout",
     "output_type": "stream",
     "text": [
      "Epoch 4, Training Loss: 3.1469404730908366, Validation Error: 80.07839703921842, Validation Top-3 Accuracy: 39.32586505392087, Training Error: 78.6566679220482\n"
     ]
    },
    {
     "name": "stderr",
     "output_type": "stream",
     "text": [
      "[W ParallelNative.cpp:230] Warning: Cannot set number of intraop threads after parallel work has started or after set_num_threads call when using native parallel backend (function set_num_threads)\n",
      "[W ParallelNative.cpp:230] Warning: Cannot set number of intraop threads after parallel work has started or after set_num_threads call when using native parallel backend (function set_num_threads)\n"
     ]
    },
    {
     "name": "stdout",
     "output_type": "stream",
     "text": [
      "Epoch 5, Batch: 1000| Training Loss: 3.0159484169483184\n",
      "Epoch 5, Batch: 2000| Training Loss: 3.027075222373009\n",
      "Epoch 5, Batch: 3000| Training Loss: 3.033591967980067\n",
      "Epoch 5, Batch: 4000| Training Loss: 3.0371464560627937\n",
      "Epoch 5, Batch: 5000| Training Loss: 3.03973934173584\n",
      "Epoch 5, Batch: 6000| Training Loss: 3.0438799277941384\n",
      "Epoch 5, Batch: 7000| Training Loss: 3.048190145117896\n",
      "Epoch 5, Batch: 8000| Training Loss: 3.0512652243971825\n",
      "Epoch 5, Batch: 9000| Training Loss: 3.055267674922943\n",
      "Epoch 5, Batch: 10000| Training Loss: 3.0578478005886076\n",
      "Epoch 5, Batch: 11000| Training Loss: 3.0610275450619784\n",
      "Epoch 5, Batch: 12000| Training Loss: 3.0630279133518536\n",
      "Epoch 5, Batch: 13000| Training Loss: 3.065774474840898\n",
      "Epoch 5, Batch: 14000| Training Loss: 3.0682506324734007\n",
      "Epoch 5, Batch: 15000| Training Loss: 3.0705499544938406\n",
      "Epoch 5, Batch: 16000| Training Loss: 3.0726347746402025\n",
      "Epoch 5, Batch: 17000| Training Loss: 3.074117581549813\n",
      "Epoch 5, Batch: 18000| Training Loss: 3.0756676023801166\n",
      "Epoch 5, Batch: 19000| Training Loss: 3.078010659669575\n",
      "Epoch 5, Batch: 20000| Training Loss: 3.080052584886551\n",
      "Epoch 5, Batch: 21000| Training Loss: 3.081715645358676\n",
      "Epoch 5, Batch: 22000| Training Loss: 3.0831326841874556\n",
      "Epoch 5, Batch: 23000| Training Loss: 3.0845348736306897\n",
      "Epoch 5, Batch: 24000| Training Loss: 3.086299927701553\n",
      "Epoch 5, Batch: 25000| Training Loss: 3.0875044808101655\n",
      "Epoch 5, Batch: 26000| Training Loss: 3.0884506557996456\n",
      "Epoch 5, Batch: 27000| Training Loss: 3.089969925438916\n",
      "Epoch 5, Batch: 28000| Training Loss: 3.0908430074453355\n",
      "Epoch 5, Batch: 29000| Training Loss: 3.0921734262745955\n",
      "Epoch 5, Batch: 30000| Training Loss: 3.093400743929545\n",
      "Epoch 5, Batch: 31000| Training Loss: 3.0946436012483414\n",
      "Epoch 5, Batch: 32000| Training Loss: 3.0956612149849536\n",
      "Epoch 5, Batch: 33000| Training Loss: 3.096624061230457\n",
      "Epoch 5, Batch: 34000| Training Loss: 3.0973955656079686\n",
      "Epoch 5, Batch: 35000| Training Loss: 3.0982364451408384\n",
      "Epoch 5, Batch: 36000| Training Loss: 3.0992471777995427\n",
      "Epoch 5, Batch: 37000| Training Loss: 3.1002727947621733\n",
      "Epoch 5, Batch: 38000| Training Loss: 3.1010823120129736\n"
     ]
    },
    {
     "name": "stderr",
     "output_type": "stream",
     "text": [
      "[W ParallelNative.cpp:230] Warning: Cannot set number of intraop threads after parallel work has started or after set_num_threads call when using native parallel backend (function set_num_threads)\n",
      "[W ParallelNative.cpp:230] Warning: Cannot set number of intraop threads after parallel work has started or after set_num_threads call when using native parallel backend (function set_num_threads)\n",
      "[W ParallelNative.cpp:230] Warning: Cannot set number of intraop threads after parallel work has started or after set_num_threads call when using native parallel backend (function set_num_threads)\n",
      "[W ParallelNative.cpp:230] Warning: Cannot set number of intraop threads after parallel work has started or after set_num_threads call when using native parallel backend (function set_num_threads)\n"
     ]
    },
    {
     "name": "stdout",
     "output_type": "stream",
     "text": [
      "Epoch 5, Training Loss: 3.1010511627963973, Validation Error: 79.92518455140578, Validation Top-3 Accuracy: 39.586525260577865, Training Error: 77.94786966678237\n"
     ]
    },
    {
     "name": "stderr",
     "output_type": "stream",
     "text": [
      "[W ParallelNative.cpp:230] Warning: Cannot set number of intraop threads after parallel work has started or after set_num_threads call when using native parallel backend (function set_num_threads)\n",
      "[W ParallelNative.cpp:230] Warning: Cannot set number of intraop threads after parallel work has started or after set_num_threads call when using native parallel backend (function set_num_threads)\n"
     ]
    },
    {
     "name": "stdout",
     "output_type": "stream",
     "text": [
      "Epoch 6, Batch: 1000| Training Loss: 2.99412038397789\n",
      "Epoch 6, Batch: 2000| Training Loss: 2.9992516251802446\n",
      "Epoch 6, Batch: 3000| Training Loss: 3.004370890458425\n",
      "Epoch 6, Batch: 4000| Training Loss: 3.0044668096899985\n",
      "Epoch 6, Batch: 5000| Training Loss: 3.0064751319885255\n",
      "Epoch 6, Batch: 6000| Training Loss: 3.0107396861314775\n",
      "Epoch 6, Batch: 7000| Training Loss: 3.0142452695029123\n",
      "Epoch 6, Batch: 8000| Training Loss: 3.0173111201524736\n",
      "Epoch 6, Batch: 9000| Training Loss: 3.0198581261899737\n",
      "Epoch 6, Batch: 10000| Training Loss: 3.0218584830760955\n",
      "Epoch 6, Batch: 11000| Training Loss: 3.023717131311243\n",
      "Epoch 6, Batch: 12000| Training Loss: 3.0264927560091017\n",
      "Epoch 6, Batch: 13000| Training Loss: 3.0287092918982874\n",
      "Epoch 6, Batch: 14000| Training Loss: 3.0314194697311945\n",
      "Epoch 6, Batch: 15000| Training Loss: 3.034365389728546\n",
      "Epoch 6, Batch: 16000| Training Loss: 3.0367048753499986\n",
      "Epoch 6, Batch: 17000| Training Loss: 3.0378566485853757\n",
      "Epoch 6, Batch: 18000| Training Loss: 3.0403702528476715\n",
      "Epoch 6, Batch: 19000| Training Loss: 3.0415747323412643\n",
      "Epoch 6, Batch: 20000| Training Loss: 3.0437728206038477\n",
      "Epoch 6, Batch: 21000| Training Loss: 3.045369599240167\n",
      "Epoch 6, Batch: 22000| Training Loss: 3.047408880916509\n",
      "Epoch 6, Batch: 23000| Training Loss: 3.0490395212069803\n",
      "Epoch 6, Batch: 24000| Training Loss: 3.050634701669216\n",
      "Epoch 6, Batch: 25000| Training Loss: 3.052185059919357\n",
      "Epoch 6, Batch: 26000| Training Loss: 3.0538382358551024\n",
      "Epoch 6, Batch: 27000| Training Loss: 3.055357417874866\n",
      "Epoch 6, Batch: 28000| Training Loss: 3.056689908172403\n",
      "Epoch 6, Batch: 29000| Training Loss: 3.0576910527656818\n",
      "Epoch 6, Batch: 30000| Training Loss: 3.058752266184489\n",
      "Epoch 6, Batch: 31000| Training Loss: 3.0597205722947276\n",
      "Epoch 6, Batch: 32000| Training Loss: 3.060393350020051\n",
      "Epoch 6, Batch: 33000| Training Loss: 3.060994486014048\n",
      "Epoch 6, Batch: 34000| Training Loss: 3.061731911757413\n",
      "Epoch 6, Batch: 35000| Training Loss: 3.0631927550928935\n",
      "Epoch 6, Batch: 36000| Training Loss: 3.064251641008589\n",
      "Epoch 6, Batch: 37000| Training Loss: 3.06538509553832\n",
      "Epoch 6, Batch: 38000| Training Loss: 3.0663781161433774\n"
     ]
    },
    {
     "name": "stderr",
     "output_type": "stream",
     "text": [
      "[W ParallelNative.cpp:230] Warning: Cannot set number of intraop threads after parallel work has started or after set_num_threads call when using native parallel backend (function set_num_threads)\n",
      "[W ParallelNative.cpp:230] Warning: Cannot set number of intraop threads after parallel work has started or after set_num_threads call when using native parallel backend (function set_num_threads)\n",
      "[W ParallelNative.cpp:230] Warning: Cannot set number of intraop threads after parallel work has started or after set_num_threads call when using native parallel backend (function set_num_threads)\n",
      "[W ParallelNative.cpp:230] Warning: Cannot set number of intraop threads after parallel work has started or after set_num_threads call when using native parallel backend (function set_num_threads)\n"
     ]
    },
    {
     "name": "stdout",
     "output_type": "stream",
     "text": [
      "Epoch 6, Training Loss: 3.066571149070612, Validation Error: 80.31915952006686, Validation Top-3 Accuracy: 39.61836162132599, Training Error: 77.41687610204858\n"
     ]
    },
    {
     "name": "stderr",
     "output_type": "stream",
     "text": [
      "[W ParallelNative.cpp:230] Warning: Cannot set number of intraop threads after parallel work has started or after set_num_threads call when using native parallel backend (function set_num_threads)\n",
      "[W ParallelNative.cpp:230] Warning: Cannot set number of intraop threads after parallel work has started or after set_num_threads call when using native parallel backend (function set_num_threads)\n"
     ]
    },
    {
     "name": "stdout",
     "output_type": "stream",
     "text": [
      "Epoch 7, Batch: 1000| Training Loss: 2.9196835033893587\n",
      "Epoch 7, Batch: 2000| Training Loss: 2.906811663508415\n",
      "Epoch 7, Batch: 3000| Training Loss: 2.905865847905477\n",
      "Epoch 7, Batch: 4000| Training Loss: 2.9009796204566958\n",
      "Epoch 7, Batch: 5000| Training Loss: 2.89981932387352\n",
      "Epoch 7, Batch: 6000| Training Loss: 2.895495566368103\n",
      "Epoch 7, Batch: 7000| Training Loss: 2.892478662797383\n",
      "Epoch 7, Batch: 8000| Training Loss: 2.8929807284176348\n",
      "Epoch 7, Batch: 9000| Training Loss: 2.892282477007972\n",
      "Epoch 7, Batch: 10000| Training Loss: 2.8904454323530198\n",
      "Epoch 7, Batch: 11000| Training Loss: 2.888223343827508\n",
      "Epoch 7, Batch: 12000| Training Loss: 2.8869439931114513\n",
      "Epoch 7, Batch: 13000| Training Loss: 2.8862086730920353\n",
      "Epoch 7, Batch: 14000| Training Loss: 2.8857592496531352\n",
      "Epoch 7, Batch: 15000| Training Loss: 2.8842791162014008\n",
      "Epoch 7, Batch: 16000| Training Loss: 2.882801405236125\n",
      "Epoch 7, Batch: 17000| Training Loss: 2.88147182135021\n",
      "Epoch 7, Batch: 18000| Training Loss: 2.881113961140315\n",
      "Epoch 7, Batch: 19000| Training Loss: 2.880550937439266\n",
      "Epoch 7, Batch: 20000| Training Loss: 2.8798584176659583\n",
      "Epoch 7, Batch: 21000| Training Loss: 2.8793556251752945\n",
      "Epoch 7, Batch: 22000| Training Loss: 2.878820410219106\n",
      "Epoch 7, Batch: 23000| Training Loss: 2.878966325573299\n",
      "Epoch 7, Batch: 24000| Training Loss: 2.878039845595757\n",
      "Epoch 7, Batch: 25000| Training Loss: 2.8775188383960724\n",
      "Epoch 7, Batch: 26000| Training Loss: 2.8774564911860687\n",
      "Epoch 7, Batch: 27000| Training Loss: 2.876753087193878\n",
      "Epoch 7, Batch: 28000| Training Loss: 2.876536832843508\n",
      "Epoch 7, Batch: 29000| Training Loss: 2.876052477639297\n",
      "Epoch 7, Batch: 30000| Training Loss: 2.875358192404111\n",
      "Epoch 7, Batch: 31000| Training Loss: 2.875268627658967\n",
      "Epoch 7, Batch: 32000| Training Loss: 2.875172006741166\n",
      "Epoch 7, Batch: 33000| Training Loss: 2.8750272122513163\n",
      "Epoch 7, Batch: 34000| Training Loss: 2.8748352019366097\n",
      "Epoch 7, Batch: 35000| Training Loss: 2.8746308911664147\n",
      "Epoch 7, Batch: 36000| Training Loss: 2.874518189178573\n",
      "Epoch 7, Batch: 37000| Training Loss: 2.8742391948120014\n",
      "Epoch 7, Batch: 38000| Training Loss: 2.8740944637060166\n"
     ]
    },
    {
     "name": "stderr",
     "output_type": "stream",
     "text": [
      "[W ParallelNative.cpp:230] Warning: Cannot set number of intraop threads after parallel work has started or after set_num_threads call when using native parallel backend (function set_num_threads)\n",
      "[W ParallelNative.cpp:230] Warning: Cannot set number of intraop threads after parallel work has started or after set_num_threads call when using native parallel backend (function set_num_threads)\n",
      "[W ParallelNative.cpp:230] Warning: Cannot set number of intraop threads after parallel work has started or after set_num_threads call when using native parallel backend (function set_num_threads)\n",
      "[W ParallelNative.cpp:230] Warning: Cannot set number of intraop threads after parallel work has started or after set_num_threads call when using native parallel backend (function set_num_threads)\n"
     ]
    },
    {
     "name": "stdout",
     "output_type": "stream",
     "text": [
      "Epoch 7, Training Loss: 2.8740742531960044, Validation Error: 78.70545396661161, Validation Top-3 Accuracy: 41.41910579715629, Training Error: 73.97192047937523\n"
     ]
    },
    {
     "data": {
      "image/png": "[encoded data removed]",
      "text/plain": [
       "<Figure size 1000x500 with 1 Axes>"
      ]
     },
     "metadata": {},
     "output_type": "display_data"
    },
    {
     "data": {
      "text/plain": [
       "<Figure size 640x480 with 0 Axes>"
      ]
     },
     "metadata": {},
     "output_type": "display_data"
    }
   ],
   "source": [
    "# Train the model\n",
    "train_error,train_loss_values, val_error, val_loss_value,swa_model = train_cnn(device, model, train_loader, val_loader, criterion, optimizer, NUM_EPOCHS, learn_decay)\n",
    "\n",
    "# Plot the training error\n",
    "plt.figure(figsize=(10, 5))\n",
    "plt.plot(val_error, label='Validation Loss')\n",
    "plt.xlabel('Epoch')\n",
    "plt.ylabel('Error')\n",
    "plt.title('Validation Error')\n",
    "plt.legend()\n",
    "plt.show()\n",
    "plt.savefig('validation_error_model_rnn.png')  # This will save the plot as an image"
   ]
  },
  {
   "cell_type": "code",
   "execution_count": 28,
   "metadata": {},
   "outputs": [
    {
     "name": "stdout",
     "output_type": "stream",
     "text": [
      "1945\n"
     ]
    }
   ],
   "source": [
    "print(len(vocab.id_to_move.keys()))\n",
    "with open('./../data/black-data/combined/vocab.pkl', 'rb') as inp:\n",
    "    vocab = pickle.load(inp)\n",
    "d_out = len(vocab.id_to_move.keys())"
   ]
  },
  {
   "cell_type": "code",
   "execution_count": 29,
   "metadata": {},
   "outputs": [],
   "source": [
    "trainX, fens, trainY, vocab = df_to_data_board_only(grouped_df, sampling_rate=0.1)"
   ]
  },
  {
   "cell_type": "code",
   "execution_count": 30,
   "metadata": {},
   "outputs": [
    {
     "name": "stdout",
     "output_type": "stream",
     "text": [
      "2406275\n",
      "2334086\n"
     ]
    }
   ],
   "source": [
    "dataset = CNNDataset(trainX, fens, trainY)\n",
    "# Calculate split sizes\n",
    "total_size = len(dataset)\n",
    "print(total_size)\n",
    "train_size = int(0.97 * total_size)\n",
    "val_size = int(total_size * 0.02)\n",
    "\n",
    "# Create subsets for training and validation\n",
    "train_dataset = Subset(dataset, range(0, train_size))\n",
    "val_dataset = Subset(dataset, range(train_size, train_size + val_size))\n",
    "print(train_size)"
   ]
  },
  {
   "cell_type": "code",
   "execution_count": 31,
   "metadata": {},
   "outputs": [
    {
     "name": "stdout",
     "output_type": "stream",
     "text": [
      "3654361\n"
     ]
    }
   ],
   "source": [
    "# Reload the data with particular batch size\n",
    "torch.multiprocessing.set_start_method('fork', force=True)\n",
    "batch_size = 64\n",
    "# Shuffling... (False gives us )\n",
    "train_loader = DataLoader(train_dataset, batch_size=batch_size, shuffle=True, num_workers=2, pin_memory=True)\n",
    "val_loader = DataLoader(val_dataset, batch_size=batch_size, shuffle=True, num_workers=2,pin_memory=True)\n",
    "\n",
    "# Initialize model, loss function, and optimizer\n",
    "NUM_EPOCHS = 7\n",
    "d_out = len(vocab.id_to_move.keys())\n",
    "# d_out = 1968\n",
    "model = SENetPureTwo(d_out) \n",
    "model = model.to(device)\n",
    "criterion = nn.CrossEntropyLoss()\n",
    "lr = 2e-4\n",
    "weight_decay=0\n",
    "learn_decay = 0.1\n",
    "optimizer = optim.Adam(model.parameters(), lr=lr, weight_decay=weight_decay)\n",
    "\n",
    "def count_parameters(model):\n",
    "    return sum(p.numel() for p in model.parameters() if p.requires_grad)\n",
    "print(count_parameters(model))"
   ]
  },
  {
   "cell_type": "code",
   "execution_count": 32,
   "metadata": {},
   "outputs": [
    {
     "name": "stderr",
     "output_type": "stream",
     "text": [
      "[W ParallelNative.cpp:230] Warning: Cannot set number of intraop threads after parallel work has started or after set_num_threads call when using native parallel backend (function set_num_threads)\n",
      "[W ParallelNative.cpp:230] Warning: Cannot set number of intraop threads after parallel work has started or after set_num_threads call when using native parallel backend (function set_num_threads)\n"
     ]
    },
    {
     "name": "stdout",
     "output_type": "stream",
     "text": [
      "Epoch 1, Batch: 1000| Training Loss: 5.5290270557403565\n",
      "Epoch 1, Batch: 2000| Training Loss: 5.220679564714432\n",
      "Epoch 1, Batch: 3000| Training Loss: 5.033342866182327\n",
      "Epoch 1, Batch: 4000| Training Loss: 4.8898372128009795\n",
      "Epoch 1, Batch: 5000| Training Loss: 4.781971333885193\n",
      "Epoch 1, Batch: 6000| Training Loss: 4.69168147623539\n",
      "Epoch 1, Batch: 7000| Training Loss: 4.616482387134007\n",
      "Epoch 1, Batch: 8000| Training Loss: 4.550278512120247\n",
      "Epoch 1, Batch: 9000| Training Loss: 4.4936928283903335\n",
      "Epoch 1, Batch: 10000| Training Loss: 4.443979948568344\n",
      "Epoch 1, Batch: 11000| Training Loss: 4.400525238102133\n",
      "Epoch 1, Batch: 12000| Training Loss: 4.359773325900237\n",
      "Epoch 1, Batch: 13000| Training Loss: 4.324207045610135\n",
      "Epoch 1, Batch: 14000| Training Loss: 4.290731612256595\n",
      "Epoch 1, Batch: 15000| Training Loss: 4.260138187630972\n",
      "Epoch 1, Batch: 16000| Training Loss: 4.232142147690058\n",
      "Epoch 1, Batch: 17000| Training Loss: 4.205757090806961\n",
      "Epoch 1, Batch: 18000| Training Loss: 4.181324415299628\n",
      "Epoch 1, Batch: 19000| Training Loss: 4.158295224616402\n",
      "Epoch 1, Batch: 20000| Training Loss: 4.137439479732514\n",
      "Epoch 1, Batch: 21000| Training Loss: 4.116544298421769\n",
      "Epoch 1, Batch: 22000| Training Loss: 4.097805615847761\n",
      "Epoch 1, Batch: 23000| Training Loss: 4.080030472724334\n",
      "Epoch 1, Batch: 24000| Training Loss: 4.062883243521054\n",
      "Epoch 1, Batch: 25000| Training Loss: 4.047053446369171\n",
      "Epoch 1, Batch: 26000| Training Loss: 4.031596315484781\n",
      "Epoch 1, Batch: 27000| Training Loss: 4.01650850948581\n",
      "Epoch 1, Batch: 28000| Training Loss: 4.00286856587444\n",
      "Epoch 1, Batch: 29000| Training Loss: 3.989705694856315\n",
      "Epoch 1, Batch: 30000| Training Loss: 3.976755340584119\n",
      "Epoch 1, Batch: 31000| Training Loss: 3.9645389890516958\n",
      "Epoch 1, Batch: 32000| Training Loss: 3.9527987764030694\n",
      "Epoch 1, Batch: 33000| Training Loss: 3.941162900353923\n",
      "Epoch 1, Batch: 34000| Training Loss: 3.930456117475734\n",
      "Epoch 1, Batch: 35000| Training Loss: 3.9197632682868413\n",
      "Epoch 1, Batch: 36000| Training Loss: 3.9098318904572062\n"
     ]
    },
    {
     "name": "stderr",
     "output_type": "stream",
     "text": [
      "[W ParallelNative.cpp:230] Warning: Cannot set number of intraop threads after parallel work has started or after set_num_threads call when using native parallel backend (function set_num_threads)\n",
      "[W ParallelNative.cpp:230] Warning: Cannot set number of intraop threads after parallel work has started or after set_num_threads call when using native parallel backend (function set_num_threads)\n",
      "[W ParallelNative.cpp:230] Warning: Cannot set number of intraop threads after parallel work has started or after set_num_threads call when using native parallel backend (function set_num_threads)\n",
      "[W ParallelNative.cpp:230] Warning: Cannot set number of intraop threads after parallel work has started or after set_num_threads call when using native parallel backend (function set_num_threads)\n"
     ]
    },
    {
     "name": "stdout",
     "output_type": "stream",
     "text": [
      "Epoch 1, Training Loss: 3.9053569051440222, Validation Error: 81.85142857142857, Validation Top-3 Accuracy: 36.61506493345484, Training Error: 83.34251608552556\n"
     ]
    },
    {
     "name": "stderr",
     "output_type": "stream",
     "text": [
      "[W ParallelNative.cpp:230] Warning: Cannot set number of intraop threads after parallel work has started or after set_num_threads call when using native parallel backend (function set_num_threads)\n",
      "[W ParallelNative.cpp:230] Warning: Cannot set number of intraop threads after parallel work has started or after set_num_threads call when using native parallel backend (function set_num_threads)\n"
     ]
    },
    {
     "name": "stdout",
     "output_type": "stream",
     "text": [
      "Epoch 2, Batch: 1000| Training Loss: 3.420838310480118\n",
      "Epoch 2, Batch: 2000| Training Loss: 3.433400873541832\n",
      "Epoch 2, Batch: 3000| Training Loss: 3.432443264166514\n",
      "Epoch 2, Batch: 4000| Training Loss: 3.4356163133382798\n",
      "Epoch 2, Batch: 5000| Training Loss: 3.4348457611083982\n",
      "Epoch 2, Batch: 6000| Training Loss: 3.435855492313703\n",
      "Epoch 2, Batch: 7000| Training Loss: 3.4333099090031216\n",
      "Epoch 2, Batch: 8000| Training Loss: 3.4320980955958365\n",
      "Epoch 2, Batch: 9000| Training Loss: 3.432362147887548\n",
      "Epoch 2, Batch: 10000| Training Loss: 3.4315402300834656\n",
      "Epoch 2, Batch: 11000| Training Loss: 3.431036540226503\n",
      "Epoch 2, Batch: 12000| Training Loss: 3.4311908906698227\n",
      "Epoch 2, Batch: 13000| Training Loss: 3.4307166952903456\n",
      "Epoch 2, Batch: 14000| Training Loss: 3.4294894237177713\n",
      "Epoch 2, Batch: 15000| Training Loss: 3.4287972235520683\n",
      "Epoch 2, Batch: 16000| Training Loss: 3.4288481353670357\n",
      "Epoch 2, Batch: 17000| Training Loss: 3.4277510635151582\n",
      "Epoch 2, Batch: 18000| Training Loss: 3.4274765559302436\n",
      "Epoch 2, Batch: 19000| Training Loss: 3.4268773801828685\n",
      "Epoch 2, Batch: 20000| Training Loss: 3.425721020436287\n",
      "Epoch 2, Batch: 21000| Training Loss: 3.424600028469449\n",
      "Epoch 2, Batch: 22000| Training Loss: 3.423560062603517\n",
      "Epoch 2, Batch: 23000| Training Loss: 3.4229291210796524\n",
      "Epoch 2, Batch: 24000| Training Loss: 3.422234802385171\n",
      "Epoch 2, Batch: 25000| Training Loss: 3.421621896944046\n",
      "Epoch 2, Batch: 26000| Training Loss: 3.420864132358478\n",
      "Epoch 2, Batch: 27000| Training Loss: 3.4197510391606225\n",
      "Epoch 2, Batch: 28000| Training Loss: 3.4186349984237125\n",
      "Epoch 2, Batch: 29000| Training Loss: 3.4172608329509866\n",
      "Epoch 2, Batch: 30000| Training Loss: 3.416379942202568\n",
      "Epoch 2, Batch: 31000| Training Loss: 3.415514261676419\n",
      "Epoch 2, Batch: 32000| Training Loss: 3.414159673407674\n",
      "Epoch 2, Batch: 33000| Training Loss: 3.413048056118416\n",
      "Epoch 2, Batch: 34000| Training Loss: 3.4119602919466354\n",
      "Epoch 2, Batch: 35000| Training Loss: 3.411238129690715\n",
      "Epoch 2, Batch: 36000| Training Loss: 3.409754400981797\n"
     ]
    },
    {
     "name": "stderr",
     "output_type": "stream",
     "text": [
      "[W ParallelNative.cpp:230] Warning: Cannot set number of intraop threads after parallel work has started or after set_num_threads call when using native parallel backend (function set_num_threads)\n",
      "[W ParallelNative.cpp:230] Warning: Cannot set number of intraop threads after parallel work has started or after set_num_threads call when using native parallel backend (function set_num_threads)\n",
      "[W ParallelNative.cpp:230] Warning: Cannot set number of intraop threads after parallel work has started or after set_num_threads call when using native parallel backend (function set_num_threads)\n",
      "[W ParallelNative.cpp:230] Warning: Cannot set number of intraop threads after parallel work has started or after set_num_threads call when using native parallel backend (function set_num_threads)\n"
     ]
    },
    {
     "name": "stdout",
     "output_type": "stream",
     "text": [
      "Epoch 2, Training Loss: 3.4092409501773004, Validation Error: 80.70233766233767, Validation Top-3 Accuracy: 38.50389610240986, Training Error: 80.34871037313964\n"
     ]
    },
    {
     "name": "stderr",
     "output_type": "stream",
     "text": [
      "[W ParallelNative.cpp:230] Warning: Cannot set number of intraop threads after parallel work has started or after set_num_threads call when using native parallel backend (function set_num_threads)\n",
      "[W ParallelNative.cpp:230] Warning: Cannot set number of intraop threads after parallel work has started or after set_num_threads call when using native parallel backend (function set_num_threads)\n"
     ]
    },
    {
     "name": "stdout",
     "output_type": "stream",
     "text": [
      "Epoch 3, Batch: 1000| Training Loss: 3.227658168554306\n",
      "Epoch 3, Batch: 2000| Training Loss: 3.2309345381259917\n",
      "Epoch 3, Batch: 3000| Training Loss: 3.2376847995917\n",
      "Epoch 3, Batch: 4000| Training Loss: 3.244999201476574\n",
      "Epoch 3, Batch: 5000| Training Loss: 3.248563122034073\n",
      "Epoch 3, Batch: 6000| Training Loss: 3.2517297820647557\n",
      "Epoch 3, Batch: 7000| Training Loss: 3.2527504854883467\n",
      "Epoch 3, Batch: 8000| Training Loss: 3.255065151512623\n",
      "Epoch 3, Batch: 9000| Training Loss: 3.2589248927434284\n",
      "Epoch 3, Batch: 10000| Training Loss: 3.2612422589302064\n",
      "Epoch 3, Batch: 11000| Training Loss: 3.26223184446855\n",
      "Epoch 3, Batch: 12000| Training Loss: 3.2639833030502\n",
      "Epoch 3, Batch: 13000| Training Loss: 3.265611607624934\n",
      "Epoch 3, Batch: 14000| Training Loss: 3.266418368305479\n",
      "Epoch 3, Batch: 15000| Training Loss: 3.2669404061635334\n",
      "Epoch 3, Batch: 16000| Training Loss: 3.267370863184333\n",
      "Epoch 3, Batch: 17000| Training Loss: 3.268077677039539\n",
      "Epoch 3, Batch: 18000| Training Loss: 3.2689531131452982\n",
      "Epoch 3, Batch: 19000| Training Loss: 3.269665710336284\n",
      "Epoch 3, Batch: 20000| Training Loss: 3.2698522897362707\n",
      "Epoch 3, Batch: 21000| Training Loss: 3.2697488799095153\n",
      "Epoch 3, Batch: 22000| Training Loss: 3.27028873426264\n",
      "Epoch 3, Batch: 23000| Training Loss: 3.2712861466926078\n",
      "Epoch 3, Batch: 24000| Training Loss: 3.270993853588899\n",
      "Epoch 3, Batch: 25000| Training Loss: 3.2716430073642733\n",
      "Epoch 3, Batch: 26000| Training Loss: 3.272564121081279\n",
      "Epoch 3, Batch: 27000| Training Loss: 3.273113452355067\n",
      "Epoch 3, Batch: 28000| Training Loss: 3.2734608603801045\n",
      "Epoch 3, Batch: 29000| Training Loss: 3.2737905478477476\n",
      "Epoch 3, Batch: 30000| Training Loss: 3.2740717667182286\n",
      "Epoch 3, Batch: 31000| Training Loss: 3.2743705352044876\n",
      "Epoch 3, Batch: 32000| Training Loss: 3.2742602517604826\n",
      "Epoch 3, Batch: 33000| Training Loss: 3.2745380067969814\n",
      "Epoch 3, Batch: 34000| Training Loss: 3.274822744285359\n",
      "Epoch 3, Batch: 35000| Training Loss: 3.275032234580176\n",
      "Epoch 3, Batch: 36000| Training Loss: 3.275261835243967\n"
     ]
    },
    {
     "name": "stderr",
     "output_type": "stream",
     "text": [
      "[W ParallelNative.cpp:230] Warning: Cannot set number of intraop threads after parallel work has started or after set_num_threads call when using native parallel backend (function set_num_threads)\n",
      "[W ParallelNative.cpp:230] Warning: Cannot set number of intraop threads after parallel work has started or after set_num_threads call when using native parallel backend (function set_num_threads)\n",
      "[W ParallelNative.cpp:230] Warning: Cannot set number of intraop threads after parallel work has started or after set_num_threads call when using native parallel backend (function set_num_threads)\n",
      "[W ParallelNative.cpp:230] Warning: Cannot set number of intraop threads after parallel work has started or after set_num_threads call when using native parallel backend (function set_num_threads)\n"
     ]
    },
    {
     "name": "stdout",
     "output_type": "stream",
     "text": [
      "Epoch 3, Training Loss: 3.275461035619911, Validation Error: 80.04779220779221, Validation Top-3 Accuracy: 39.59480519461941, Training Error: 79.07686349174794\n"
     ]
    },
    {
     "name": "stderr",
     "output_type": "stream",
     "text": [
      "[W ParallelNative.cpp:230] Warning: Cannot set number of intraop threads after parallel work has started or after set_num_threads call when using native parallel backend (function set_num_threads)\n",
      "[W ParallelNative.cpp:230] Warning: Cannot set number of intraop threads after parallel work has started or after set_num_threads call when using native parallel backend (function set_num_threads)\n"
     ]
    },
    {
     "name": "stdout",
     "output_type": "stream",
     "text": [
      "Epoch 4, Batch: 1000| Training Loss: 3.1275642855167387\n",
      "Epoch 4, Batch: 2000| Training Loss: 3.1352768476009367\n",
      "Epoch 4, Batch: 3000| Training Loss: 3.14095091176033\n",
      "Epoch 4, Batch: 4000| Training Loss: 3.1457719839215277\n",
      "Epoch 4, Batch: 5000| Training Loss: 3.1495740499973297\n",
      "Epoch 4, Batch: 6000| Training Loss: 3.153436341166496\n",
      "Epoch 4, Batch: 7000| Training Loss: 3.157489444255829\n",
      "Epoch 4, Batch: 8000| Training Loss: 3.1608248347640036\n",
      "Epoch 4, Batch: 9000| Training Loss: 3.1631620056099363\n",
      "Epoch 4, Batch: 10000| Training Loss: 3.165449320554733\n",
      "Epoch 4, Batch: 11000| Training Loss: 3.1686732187054374\n",
      "Epoch 4, Batch: 12000| Training Loss: 3.171657845556736\n",
      "Epoch 4, Batch: 13000| Training Loss: 3.1736889138771938\n",
      "Epoch 4, Batch: 14000| Training Loss: 3.1762169059514997\n",
      "Epoch 4, Batch: 15000| Training Loss: 3.1777444392681122\n",
      "Epoch 4, Batch: 16000| Training Loss: 3.1793622472435237\n",
      "Epoch 4, Batch: 17000| Training Loss: 3.1808447642326354\n",
      "Epoch 4, Batch: 18000| Training Loss: 3.182609058856964\n",
      "Epoch 4, Batch: 19000| Training Loss: 3.183538122766896\n",
      "Epoch 4, Batch: 20000| Training Loss: 3.1849242529034614\n",
      "Epoch 4, Batch: 21000| Training Loss: 3.1861336556162154\n",
      "Epoch 4, Batch: 22000| Training Loss: 3.1874860210743816\n",
      "Epoch 4, Batch: 23000| Training Loss: 3.1885390000965286\n",
      "Epoch 4, Batch: 24000| Training Loss: 3.189629880050818\n",
      "Epoch 4, Batch: 25000| Training Loss: 3.1903524187755585\n",
      "Epoch 4, Batch: 26000| Training Loss: 3.191369015620305\n",
      "Epoch 4, Batch: 27000| Training Loss: 3.1922461287975312\n",
      "Epoch 4, Batch: 28000| Training Loss: 3.1931796883259502\n",
      "Epoch 4, Batch: 29000| Training Loss: 3.1943284534585885\n",
      "Epoch 4, Batch: 30000| Training Loss: 3.195172887857755\n",
      "Epoch 4, Batch: 31000| Training Loss: 3.195878413638761\n",
      "Epoch 4, Batch: 32000| Training Loss: 3.1965565446838737\n",
      "Epoch 4, Batch: 33000| Training Loss: 3.19696785438422\n",
      "Epoch 4, Batch: 34000| Training Loss: 3.1978485967902577\n",
      "Epoch 4, Batch: 35000| Training Loss: 3.1985001588072097\n",
      "Epoch 4, Batch: 36000| Training Loss: 3.1994083654284475\n"
     ]
    },
    {
     "name": "stderr",
     "output_type": "stream",
     "text": [
      "[W ParallelNative.cpp:230] Warning: Cannot set number of intraop threads after parallel work has started or after set_num_threads call when using native parallel backend (function set_num_threads)\n",
      "[W ParallelNative.cpp:230] Warning: Cannot set number of intraop threads after parallel work has started or after set_num_threads call when using native parallel backend (function set_num_threads)\n",
      "[W ParallelNative.cpp:230] Warning: Cannot set number of intraop threads after parallel work has started or after set_num_threads call when using native parallel backend (function set_num_threads)\n",
      "[W ParallelNative.cpp:230] Warning: Cannot set number of intraop threads after parallel work has started or after set_num_threads call when using native parallel backend (function set_num_threads)\n"
     ]
    },
    {
     "name": "stdout",
     "output_type": "stream",
     "text": [
      "Epoch 4, Training Loss: 3.199736881418226, Validation Error: 79.79220779220779, Validation Top-3 Accuracy: 40.11012987124455, Training Error: 78.28756095533755\n"
     ]
    },
    {
     "name": "stderr",
     "output_type": "stream",
     "text": [
      "[W ParallelNative.cpp:230] Warning: Cannot set number of intraop threads after parallel work has started or after set_num_threads call when using native parallel backend (function set_num_threads)\n",
      "[W ParallelNative.cpp:230] Warning: Cannot set number of intraop threads after parallel work has started or after set_num_threads call when using native parallel backend (function set_num_threads)\n"
     ]
    },
    {
     "name": "stdout",
     "output_type": "stream",
     "text": [
      "Epoch 5, Batch: 1000| Training Loss: 3.0727802460193634\n",
      "Epoch 5, Batch: 2000| Training Loss: 3.0799006949663164\n",
      "Epoch 5, Batch: 3000| Training Loss: 3.0834671568075818\n",
      "Epoch 5, Batch: 4000| Training Loss: 3.0865166056752207\n",
      "Epoch 5, Batch: 5000| Training Loss: 3.0911088716983794\n",
      "Epoch 5, Batch: 6000| Training Loss: 3.0955620866219205\n",
      "Epoch 5, Batch: 7000| Training Loss: 3.099758564710617\n",
      "Epoch 5, Batch: 8000| Training Loss: 3.103121007412672\n",
      "Epoch 5, Batch: 9000| Training Loss: 3.1042915614710913\n",
      "Epoch 5, Batch: 10000| Training Loss: 3.107267178964615\n",
      "Epoch 5, Batch: 11000| Training Loss: 3.1102389970909465\n",
      "Epoch 5, Batch: 12000| Training Loss: 3.114286122262478\n",
      "Epoch 5, Batch: 13000| Training Loss: 3.1155548671392292\n",
      "Epoch 5, Batch: 14000| Training Loss: 3.1183894027641843\n",
      "Epoch 5, Batch: 15000| Training Loss: 3.120067032734553\n",
      "Epoch 5, Batch: 16000| Training Loss: 3.1213087514042854\n",
      "Epoch 5, Batch: 17000| Training Loss: 3.123496336039375\n",
      "Epoch 5, Batch: 18000| Training Loss: 3.1247631862958274\n",
      "Epoch 5, Batch: 19000| Training Loss: 3.1259165910796116\n",
      "Epoch 5, Batch: 20000| Training Loss: 3.1277496509552\n",
      "Epoch 5, Batch: 21000| Training Loss: 3.1298728025867826\n",
      "Epoch 5, Batch: 22000| Training Loss: 3.1315503305413506\n",
      "Epoch 5, Batch: 23000| Training Loss: 3.133281475543976\n",
      "Epoch 5, Batch: 24000| Training Loss: 3.13432459756732\n",
      "Epoch 5, Batch: 25000| Training Loss: 3.135902511501312\n",
      "Epoch 5, Batch: 26000| Training Loss: 3.1370000458313867\n",
      "Epoch 5, Batch: 27000| Training Loss: 3.1379478332025035\n",
      "Epoch 5, Batch: 28000| Training Loss: 3.1388190387317114\n",
      "Epoch 5, Batch: 29000| Training Loss: 3.1399792866624634\n",
      "Epoch 5, Batch: 30000| Training Loss: 3.140987132692337\n",
      "Epoch 5, Batch: 31000| Training Loss: 3.142205559345984\n",
      "Epoch 5, Batch: 32000| Training Loss: 3.142857828259468\n",
      "Epoch 5, Batch: 33000| Training Loss: 3.143582790931066\n",
      "Epoch 5, Batch: 34000| Training Loss: 3.1447346290420084\n",
      "Epoch 5, Batch: 35000| Training Loss: 3.1457923463003974\n",
      "Epoch 5, Batch: 36000| Training Loss: 3.1464638515379693\n"
     ]
    },
    {
     "name": "stderr",
     "output_type": "stream",
     "text": [
      "[W ParallelNative.cpp:230] Warning: Cannot set number of intraop threads after parallel work has started or after set_num_threads call when using native parallel backend (function set_num_threads)\n",
      "[W ParallelNative.cpp:230] Warning: Cannot set number of intraop threads after parallel work has started or after set_num_threads call when using native parallel backend (function set_num_threads)\n",
      "[W ParallelNative.cpp:230] Warning: Cannot set number of intraop threads after parallel work has started or after set_num_threads call when using native parallel backend (function set_num_threads)\n",
      "[W ParallelNative.cpp:230] Warning: Cannot set number of intraop threads after parallel work has started or after set_num_threads call when using native parallel backend (function set_num_threads)\n"
     ]
    },
    {
     "name": "stdout",
     "output_type": "stream",
     "text": [
      "Epoch 5, Training Loss: 3.146948368567455, Validation Error: 79.54285714285714, Validation Top-3 Accuracy: 40.463376621890376, Training Error: 77.69469505408112\n"
     ]
    },
    {
     "name": "stderr",
     "output_type": "stream",
     "text": [
      "[W ParallelNative.cpp:230] Warning: Cannot set number of intraop threads after parallel work has started or after set_num_threads call when using native parallel backend (function set_num_threads)\n",
      "[W ParallelNative.cpp:230] Warning: Cannot set number of intraop threads after parallel work has started or after set_num_threads call when using native parallel backend (function set_num_threads)\n"
     ]
    },
    {
     "name": "stdout",
     "output_type": "stream",
     "text": [
      "Epoch 6, Batch: 1000| Training Loss: 3.0358334312438964\n",
      "Epoch 6, Batch: 2000| Training Loss: 3.035530222415924\n",
      "Epoch 6, Batch: 3000| Training Loss: 3.038970247666041\n",
      "Epoch 6, Batch: 4000| Training Loss: 3.045049847364426\n",
      "Epoch 6, Batch: 5000| Training Loss: 3.0500077941417696\n",
      "Epoch 6, Batch: 6000| Training Loss: 3.051757353226344\n",
      "Epoch 6, Batch: 7000| Training Loss: 3.054580493586404\n",
      "Epoch 6, Batch: 8000| Training Loss: 3.058530845314264\n",
      "Epoch 6, Batch: 9000| Training Loss: 3.06152774254481\n",
      "Epoch 6, Batch: 10000| Training Loss: 3.0643029411554337\n",
      "Epoch 6, Batch: 11000| Training Loss: 3.0668944185863842\n",
      "Epoch 6, Batch: 12000| Training Loss: 3.0708838884035745\n",
      "Epoch 6, Batch: 13000| Training Loss: 3.0734696209063896\n",
      "Epoch 6, Batch: 14000| Training Loss: 3.0749110302073617\n",
      "Epoch 6, Batch: 15000| Training Loss: 3.077346720568339\n",
      "Epoch 6, Batch: 16000| Training Loss: 3.0791002058833836\n",
      "Epoch 6, Batch: 17000| Training Loss: 3.080920875815784\n",
      "Epoch 6, Batch: 18000| Training Loss: 3.082397032989396\n",
      "Epoch 6, Batch: 19000| Training Loss: 3.0840426152254405\n",
      "Epoch 6, Batch: 20000| Training Loss: 3.08541684923172\n",
      "Epoch 6, Batch: 21000| Training Loss: 3.086995666719618\n",
      "Epoch 6, Batch: 22000| Training Loss: 3.088933432806622\n",
      "Epoch 6, Batch: 23000| Training Loss: 3.090527815155361\n",
      "Epoch 6, Batch: 24000| Training Loss: 3.0921008013089497\n",
      "Epoch 6, Batch: 25000| Training Loss: 3.093523636751175\n",
      "Epoch 6, Batch: 26000| Training Loss: 3.095034524908433\n",
      "Epoch 6, Batch: 27000| Training Loss: 3.096253646462052\n",
      "Epoch 6, Batch: 28000| Training Loss: 3.097663959937436\n",
      "Epoch 6, Batch: 29000| Training Loss: 3.0988334991109783\n",
      "Epoch 6, Batch: 30000| Training Loss: 3.100193896357218\n",
      "Epoch 6, Batch: 31000| Training Loss: 3.1013679822106517\n",
      "Epoch 6, Batch: 32000| Training Loss: 3.1026728618368504\n",
      "Epoch 6, Batch: 33000| Training Loss: 3.1033122203783554\n",
      "Epoch 6, Batch: 34000| Training Loss: 3.1048399774256876\n",
      "Epoch 6, Batch: 35000| Training Loss: 3.106445497792108\n",
      "Epoch 6, Batch: 36000| Training Loss: 3.107494417442216\n"
     ]
    },
    {
     "name": "stderr",
     "output_type": "stream",
     "text": [
      "[W ParallelNative.cpp:230] Warning: Cannot set number of intraop threads after parallel work has started or after set_num_threads call when using native parallel backend (function set_num_threads)\n",
      "[W ParallelNative.cpp:230] Warning: Cannot set number of intraop threads after parallel work has started or after set_num_threads call when using native parallel backend (function set_num_threads)\n",
      "[W ParallelNative.cpp:230] Warning: Cannot set number of intraop threads after parallel work has started or after set_num_threads call when using native parallel backend (function set_num_threads)\n",
      "[W ParallelNative.cpp:230] Warning: Cannot set number of intraop threads after parallel work has started or after set_num_threads call when using native parallel backend (function set_num_threads)\n"
     ]
    },
    {
     "name": "stdout",
     "output_type": "stream",
     "text": [
      "Epoch 6, Training Loss: 3.1080618253161743, Validation Error: 79.6612987012987, Validation Top-3 Accuracy: 40.63168831280299, Training Error: 77.18944374800243\n"
     ]
    },
    {
     "name": "stderr",
     "output_type": "stream",
     "text": [
      "[W ParallelNative.cpp:230] Warning: Cannot set number of intraop threads after parallel work has started or after set_num_threads call when using native parallel backend (function set_num_threads)\n",
      "[W ParallelNative.cpp:230] Warning: Cannot set number of intraop threads after parallel work has started or after set_num_threads call when using native parallel backend (function set_num_threads)\n"
     ]
    },
    {
     "name": "stdout",
     "output_type": "stream",
     "text": [
      "Epoch 7, Batch: 1000| Training Loss: 2.9559480128288267\n",
      "Epoch 7, Batch: 2000| Training Loss: 2.9413072642087936\n",
      "Epoch 7, Batch: 3000| Training Loss: 2.938076000213623\n",
      "Epoch 7, Batch: 4000| Training Loss: 2.9345139358639716\n",
      "Epoch 7, Batch: 5000| Training Loss: 2.930731166505814\n",
      "Epoch 7, Batch: 6000| Training Loss: 2.9267629514932634\n",
      "Epoch 7, Batch: 7000| Training Loss: 2.9243276908057076\n",
      "Epoch 7, Batch: 8000| Training Loss: 2.920861402183771\n",
      "Epoch 7, Batch: 9000| Training Loss: 2.919472523662779\n",
      "Epoch 7, Batch: 10000| Training Loss: 2.917035240459442\n",
      "Epoch 7, Batch: 11000| Training Loss: 2.9151360793763943\n",
      "Epoch 7, Batch: 12000| Training Loss: 2.914812221487363\n",
      "Epoch 7, Batch: 13000| Training Loss: 2.9127258004592016\n",
      "Epoch 7, Batch: 14000| Training Loss: 2.9120375816481454\n",
      "Epoch 7, Batch: 15000| Training Loss: 2.910842071056366\n",
      "Epoch 7, Batch: 16000| Training Loss: 2.910037860661745\n",
      "Epoch 7, Batch: 17000| Training Loss: 2.9091245511419634\n",
      "Epoch 7, Batch: 18000| Training Loss: 2.9077120025290384\n",
      "Epoch 7, Batch: 19000| Training Loss: 2.906833435171529\n",
      "Epoch 7, Batch: 20000| Training Loss: 2.906571406197548\n",
      "Epoch 7, Batch: 21000| Training Loss: 2.906287530944461\n",
      "Epoch 7, Batch: 22000| Training Loss: 2.9056809444535863\n",
      "Epoch 7, Batch: 23000| Training Loss: 2.9048334308188895\n",
      "Epoch 7, Batch: 24000| Training Loss: 2.903861617585023\n",
      "Epoch 7, Batch: 25000| Training Loss: 2.9035449446201325\n",
      "Epoch 7, Batch: 26000| Training Loss: 2.903149135708809\n",
      "Epoch 7, Batch: 27000| Training Loss: 2.902663287727921\n",
      "Epoch 7, Batch: 28000| Training Loss: 2.9028256533316203\n",
      "Epoch 7, Batch: 29000| Training Loss: 2.9022665561560927\n",
      "Epoch 7, Batch: 30000| Training Loss: 2.9018531606038414\n",
      "Epoch 7, Batch: 31000| Training Loss: 2.9013245195650286\n",
      "Epoch 7, Batch: 32000| Training Loss: 2.900814342364669\n",
      "Epoch 7, Batch: 33000| Training Loss: 2.9004919060504797\n",
      "Epoch 7, Batch: 34000| Training Loss: 2.900224942326546\n",
      "Epoch 7, Batch: 35000| Training Loss: 2.8999349027361188\n",
      "Epoch 7, Batch: 36000| Training Loss: 2.89960519668791\n"
     ]
    },
    {
     "name": "stderr",
     "output_type": "stream",
     "text": [
      "[W ParallelNative.cpp:230] Warning: Cannot set number of intraop threads after parallel work has started or after set_num_threads call when using native parallel backend (function set_num_threads)\n",
      "[W ParallelNative.cpp:230] Warning: Cannot set number of intraop threads after parallel work has started or after set_num_threads call when using native parallel backend (function set_num_threads)\n",
      "[W ParallelNative.cpp:230] Warning: Cannot set number of intraop threads after parallel work has started or after set_num_threads call when using native parallel backend (function set_num_threads)\n",
      "[W ParallelNative.cpp:230] Warning: Cannot set number of intraop threads after parallel work has started or after set_num_threads call when using native parallel backend (function set_num_threads)\n"
     ]
    },
    {
     "name": "stdout",
     "output_type": "stream",
     "text": [
      "Epoch 7, Training Loss: 2.8994543303265616, Validation Error: 78.4187012987013, Validation Top-3 Accuracy: 42.43324675448529, Training Error: 74.09217141099343\n"
     ]
    },
    {
     "data": {
      "image/png": "[encoded data removed]",
      "text/plain": [
       "<Figure size 1000x500 with 1 Axes>"
      ]
     },
     "metadata": {},
     "output_type": "display_data"
    },
    {
     "data": {
      "text/plain": [
       "<Figure size 640x480 with 0 Axes>"
      ]
     },
     "metadata": {},
     "output_type": "display_data"
    }
   ],
   "source": [
    "# Train the model\n",
    "train_error,train_loss_values, val_error, val_loss_value,swa_model = train_cnn(device, model, train_loader, val_loader, criterion, optimizer, NUM_EPOCHS, learn_decay)\n",
    "\n",
    "# Plot the training error\n",
    "plt.figure(figsize=(10, 5))\n",
    "plt.plot(val_error, label='Validation Loss')\n",
    "plt.xlabel('Epoch')\n",
    "plt.ylabel('Error')\n",
    "plt.title('Validation Error')\n",
    "plt.legend()\n",
    "plt.show()\n",
    "plt.savefig('validation_error_model_rnn.png')  # This will save the plot as an image"
   ]
  }
 ],
 "metadata": {
  "kernelspec": {
   "display_name": ".venv",
   "language": "python",
   "name": "python3"
  },
  "language_info": {
   "codemirror_mode": {
    "name": "ipython",
    "version": 3
   },
   "file_extension": ".py",
   "mimetype": "text/x-python",
   "name": "python",
   "nbconvert_exporter": "python",
   "pygments_lexer": "ipython3",
   "version": "3.9.6"
  }
 },
 "nbformat": 4,
 "nbformat_minor": 2
}
