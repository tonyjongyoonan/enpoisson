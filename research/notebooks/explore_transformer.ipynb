{
 "cells": [
  {
   "cell_type": "markdown",
   "metadata": {},
   "source": [
    "# Experimenting with transformers\n",
    "Transformers remain as a promising replacement of RNNs due to their parallelizability. However, RNNs are unique in their hidden state which tends to be uniquely useful for games. \n",
    "\n"
   ]
  },
  {
   "cell_type": "code",
   "execution_count": 19,
   "metadata": {},
   "outputs": [],
   "source": [
    "import pickle\n",
    "import torch\n",
    "import pandas as pd\n",
    "import importlib\n",
    "import numpy as np\n",
    "import utils\n",
    "import models\n",
    "\n",
    "importlib.reload(utils)\n",
    "from utils import *\n",
    "importlib.reload(models)\n",
    "from models import *\n",
    "\n",
    "import matplotlib.pyplot as plt\n",
    "from torch.utils.data import DataLoader, Subset\n",
    "import torch.optim as optim\n",
    "from torch.optim.swa_utils import AveragedModel\n",
    "\n",
    "# device = torch.device(\"cuda\" if torch.cuda.is_available() else \"cpu\")\n",
    "device = torch.device(\"cpu\")"
   ]
  },
  {
   "cell_type": "code",
   "execution_count": null,
   "metadata": {},
   "outputs": [],
   "source": [
    "grouped_df = pd.read_csv('../data/haha-longer-longer-001.csv')"
   ]
  },
  {
   "cell_type": "code",
   "execution_count": 20,
   "metadata": {},
   "outputs": [],
   "source": [
    "# Function to load a memmap file\n",
    "def load_memmap(filename, dtype, shape):\n",
    "    # Load the memmap file with read-only mode\n",
    "    return np.memmap(filename, dtype=dtype, mode='r', shape=shape)"
   ]
  },
  {
   "cell_type": "code",
   "execution_count": 21,
   "metadata": {},
   "outputs": [],
   "source": [
    "# For trainX\n",
    "dtype_trainX = np.int32  # or the correct dtype for your data\n",
    "shape_trainX = (2161482, 750)  # replace with the correct shape\n",
    "trainX = load_memmap('./../data/transformer/jan/trainX.memmap', dtype_trainX, shape_trainX)\n",
    "\n",
    "# For trainY\n",
    "dtype_trainY = np.int32 # or the correct dtype for your data\n",
    "shape_trainY = (2161482, 7)  # replace with the correct shape\n",
    "trainY = load_memmap('./../data/transformer/jan/trainY.memmap', dtype_trainY, shape_trainY)\n",
    "\n",
    "with open('./../data/transformer/jan/vocab.pkl', 'rb') as inp:\n",
    "    vocab = pickle.load(inp)"
   ]
  },
  {
   "cell_type": "code",
   "execution_count": 4,
   "metadata": {},
   "outputs": [
    {
     "name": "stdout",
     "output_type": "stream",
     "text": [
      "[[1 0 2 0]]\n"
     ]
    }
   ],
   "source": [
    "print(trainX[:1,:4])  "
   ]
  },
  {
   "cell_type": "code",
   "execution_count": 6,
   "metadata": {},
   "outputs": [],
   "source": [
    "\n",
    "class TransformerDataset(Dataset):\n",
    "    def __init__(self, sequences, labels):\n",
    "        self.sequences, self.labels = sequences, labels\n",
    "        \n",
    "    def __len__(self):\n",
    "        return len(self.sequences)\n",
    "\n",
    "    def __getitem__(self, idx):\n",
    "        return torch.tensor(self.sequences[idx], dtype=torch.long), torch.tensor(self.labels[idx], dtype=torch.long)"
   ]
  },
  {
   "cell_type": "code",
   "execution_count": 7,
   "metadata": {},
   "outputs": [
    {
     "name": "stdout",
     "output_type": "stream",
     "text": [
      "2118252\n"
     ]
    }
   ],
   "source": [
    "dataset = TransformerDataset(trainX, trainY)\n",
    "total_size = len(dataset)\n",
    "# We're scaling the model size so let's bring in more data as well\n",
    "train_size = int(0.98 * total_size)\n",
    "val_size = int(total_size * 0.02)\n",
    "\n",
    "# Create subsets for training and validation\n",
    "train_dataset = Subset(dataset, range(0, train_size))\n",
    "val_dataset = Subset(dataset, range(train_size, train_size + val_size))\n",
    "print(train_size)\n",
    "# Reload the data with particular batch size\n",
    "batch_size = 8\n",
    "train_loader = DataLoader(train_dataset, batch_size=batch_size, shuffle=False)\n",
    "val_loader = DataLoader(val_dataset, batch_size=batch_size, shuffle=False)\n"
   ]
  },
  {
   "cell_type": "code",
   "execution_count": 18,
   "metadata": {},
   "outputs": [],
   "source": [
    "class PositionalEncoding(nn.Module):\n",
    "\n",
    "    def __init__(self, d_model, dropout=0.1, max_len=5000):\n",
    "        super(PositionalEncoding, self).__init__()\n",
    "        self.dropout = nn.Dropout(p=dropout)\n",
    "\n",
    "        pe = torch.zeros(max_len, d_model)\n",
    "        position = torch.arange(0, max_len, dtype=torch.float).unsqueeze(1)\n",
    "        div_term = torch.exp(torch.arange(0, d_model, 2).float() * (-math.log(10000.0) / d_model))\n",
    "        pe[:, 0::2] = torch.sin(position * div_term)\n",
    "        pe[:, 1::2] = torch.cos(position * div_term)\n",
    "        pe = pe.unsqueeze(0).transpose(0, 1)\n",
    "        self.register_buffer('pe', pe)\n",
    "\n",
    "    def forward(self, x):\n",
    "        x = x + self.pe[:x.size(0), :]\n",
    "        return self.dropout(x)\n",
    "    \n",
    "\n",
    "class ChessTransformer(nn.Module):\n",
    "    def __init__(self, vocab, d_model, nhead, num_layers, max_seq_length=750, dropout=0.1):\n",
    "        super(ChessTransformer, self).__init__()\n",
    "        self.vocab = vocab\n",
    "        self.vocab_size = len(vocab.id_to_word.keys())\n",
    "        self.embedding = nn.Embedding(self.vocab_size, d_model)\n",
    "        self.pos_encoder = PositionalEncoding(d_model, dropout, max_seq_length)\n",
    "        self.transformer = nn.Transformer(d_model=d_model, nhead=nhead,\n",
    "                                          num_encoder_layers=num_layers,\n",
    "                                          num_decoder_layers=num_layers,\n",
    "                                          batch_first=True)\n",
    "        self.fc = nn.Linear(d_model, self.vocab_size)\n",
    "        self.max_seq_length = max_seq_length\n",
    "\n",
    "    def forward(self, src, tgt):\n",
    "        # Create source padding mask\n",
    "        print(src.shape)\n",
    "        src_padding_mask = self.create_padding_mask(src).to(src.device)\n",
    "        tgt_padding_mask = self.create_padding_mask(tgt).to(tgt.device)\n",
    "        # Embedding and Positional Encoding for src\n",
    "\n",
    "        src_emb = self.embedding(src)  # [batch_size, seq_len] -> [batch_size, seq_len, d_model]\n",
    "        src_emb = self.pos_encoder(src_emb)\n",
    "        print(src_emb.shape)\n",
    "        # Assuming tgt is provided correctly and also needs embedding & positional encoding\n",
    "        tgt_emb = self.embedding(tgt)\n",
    "        tgt_emb = self.pos_encoder(tgt_emb)\n",
    "\n",
    "        # Transformer\n",
    "        output = self.transformer(src_emb, tgt_emb, src_key_padding_mask=src_padding_mask, tgt_padding_mask=tgt_padding_mask)\n",
    "        print(output.shape)\n",
    "        # Linear layer to predict vocab\n",
    "        output = self.fc(output)\n",
    "        print(output.shape)\n",
    "        return output\n",
    "    \n",
    "    def create_padding_mask(self, src):\n",
    "        PAD_IDX = 0\n",
    "        src_padding_mask = (src == PAD_IDX)\n",
    "        return src_padding_mask\n",
    "    \n",
    "    def generate_sequence(self, src, src_length, start_symbol_id, sep_token_id, max_length=100):\n",
    "        \"\"\"\n",
    "        Generate a sequence autoregressively using the trained transformer model.\n",
    "\n",
    "        Args:\n",
    "        - src (Tensor): The input source sequence tensor.\n",
    "        - src_length (Tensor): The length of the source sequence.\n",
    "        - start_symbol_id (int): The ID of the start symbol to begin generation.\n",
    "        - sep_token_id (int): The ID of the SEP token for sequence termination.\n",
    "        - max_length (int): Maximum length of the generated sequence to prevent infinite loops.\n",
    "\n",
    "        Returns:\n",
    "        - The generated sequence tensor.\n",
    "        \"\"\"\n",
    "        self.eval()  # Ensure the model is in eval mode\n",
    "\n",
    "        # Initialize the target sequence with the start symbol\n",
    "        tgt = torch.tensor([start_symbol_id], dtype=torch.long).to(src.device)\n",
    "        \n",
    "        for _ in range(max_length):\n",
    "            # Assuming src_length is a tensor with the length of src. Adjust as needed.\n",
    "\n",
    "            # Perform a forward pass to get logits for the next token\n",
    "            logits = self.forward(src, src_length, tgt, src)\n",
    "            # Get the last token logits and apply softmax to get probabilities\n",
    "            probs = torch.softmax(logits[:, -1, :], dim=-1)\n",
    "            # get most likely token from probs\n",
    "            next_token = torch.max(probs, 1)\n",
    "            \n",
    "            # Append the predicted token to the target sequence\n",
    "            tgt = torch.cat((tgt, next_token), dim=1)\n",
    "            \n",
    "            # Check if the <SEP> token is generated\n",
    "            if next_token.item() == sep_token_id:\n",
    "                break\n",
    "\n",
    "        return tgt\n"
   ]
  },
  {
   "cell_type": "markdown",
   "metadata": {},
   "source": [
    "Functions for training"
   ]
  },
  {
   "cell_type": "code",
   "execution_count": 15,
   "metadata": {},
   "outputs": [],
   "source": [
    "# Function to calculate top-3 accuracy\n",
    "def top_3_accuracy(y_true, y_pred):\n",
    "    top3 = torch.topk(y_pred, 3, dim=1).indices\n",
    "    correct = top3.eq(y_true.view(-1, 1).expand_as(top3))\n",
    "    return correct.any(dim=1).float().mean().item()\n",
    "\n",
    "def train_transformer(device, model, train_loader, val_loader, criterion, optimizer, num_epochs, learn_decay):\n",
    "    train_loss_values = []\n",
    "    train_error = []\n",
    "    val_loss_values = []\n",
    "    val_error = []\n",
    "    val_3_accuracy = []\n",
    "    for epoch in range(num_epochs):\n",
    "        train_correct = 0\n",
    "        train_total = 0\n",
    "        training_loss = 0.0\n",
    "        # Training\n",
    "        model.train()\n",
    "        count = 0\n",
    "        for sequences, labels in train_loader:\n",
    "            count += 1\n",
    "            sequences, lengths, labels = sequences.to(device, non_blocking=True), labels.to(device, non_blocking=True)\n",
    "            # Forward Pass\n",
    "            logits = model(sequences, labels)\n",
    "            print(logits)\n",
    "            loss = criterion(logits.view(-1, model.vocab_size), labels.contiguous().view(-1))\n",
    "            # Backpropogate & Optimize\n",
    "            optimizer.zero_grad()\n",
    "            loss.backward()\n",
    "            # Clip it\n",
    "            torch.nn.utils.clip_grad_norm_(model.parameters(), 0.5)\n",
    "            optimizer.step()\n",
    "            # For logging purposes\n",
    "            training_loss += loss.item()\n",
    "            # _, predicted = torch.max(output.data, 1)\n",
    "            # train_total += labels.size(0)\n",
    "            # train_correct += (predicted == labels).sum().item()\n",
    "            # Get the predicted class indices for each position in each sequence\n",
    "            _, predicted = torch.max(logits.data, dim=2)  # Shape: (batch_size, seq_length)\n",
    "            correct_predictions = predicted == labels  # Shape: (batch_size, seq_length)\n",
    "            correct_sequences = correct_predictions.all(dim=1)  # Shape: (batch_size)\n",
    "            train_correct += correct_sequences.sum().item()\n",
    "            train_total += labels.size(0) \n",
    "            break\n",
    "            if count % 1000 == 0:\n",
    "                print(f'Epoch {epoch+1}, Batch: {count}| Training Loss: {training_loss/count}')\n",
    "        # Validation\n",
    "        model.eval()\n",
    "        val_correct = 0\n",
    "        val_total = 0\n",
    "        validation_loss = 0.0\n",
    "        # if val_loader is not None:\n",
    "        #     with torch.no_grad():\n",
    "        #         val_correct = 0\n",
    "        #         val_total = 0\n",
    "        #         val_top3_correct = 0\n",
    "        #         validation_loss = 0\n",
    "\n",
    "        #         for sequences, lengths, labels in val_loader:\n",
    "        #             sequences, lengths, labels = sequences.to(device), lengths.to(device), labels.to(device)\n",
    "        #             outputs = model.generate(sequences, lengths)\n",
    "        #             _, predicted = torch.max(outputs.data, 1)\n",
    "        #             val_total += labels.size(0)\n",
    "        #             val_correct += (predicted == labels).sum().item()\n",
    "        #             val_top3_correct += top_3_accuracy(labels, outputs) * labels.size(0)\n",
    "        #             loss = criterion(outputs, labels)\n",
    "        #             validation_loss += loss.item()\n",
    "\n",
    "        #         val_loss_values.append(validation_loss / len(val_loader))\n",
    "        #         val_accuracy = 100 * val_correct / val_total\n",
    "        #         val_top3_accuracy = 100 * val_top3_correct / val_total\n",
    "        #         val_error.append(100 - val_accuracy)\n",
    "        #         val_3_accuracy.append(val_top3_accuracy)\n",
    "        # Log Model Performance  \n",
    "        train_loss_values.append(training_loss)\n",
    "        train_error.append(100-100*train_correct/train_total)\n",
    "        print(f'Epoch {epoch+1}, Training Loss: {training_loss/len(train_loader)}, Validation Error: {val_error[-1]}, Validation Top-3 Accuracy: {val_3_accuracy[-1]}, Training Error: {train_error[-1]}')\n",
    "        for op_params in optimizer.param_groups:\n",
    "            op_params['lr'] = op_params['lr'] * learn_decay\n",
    "    return train_error,train_loss_values, val_error, val_loss_values"
   ]
  },
  {
   "cell_type": "markdown",
   "metadata": {},
   "source": [
    "# Experiments\n",
    "\n",
    "Experiment 1"
   ]
  },
  {
   "cell_type": "code",
   "execution_count": 19,
   "metadata": {},
   "outputs": [
    {
     "name": "stdout",
     "output_type": "stream",
     "text": [
      "5811244\n"
     ]
    }
   ],
   "source": [
    "# Reload the data with particular batch size\n",
    "torch.multiprocessing.set_start_method('fork', force=True)\n",
    "batch_size = 1\n",
    "train_loader = DataLoader(train_dataset, batch_size=batch_size, shuffle=True, num_workers=4, pin_memory=True)\n",
    "val_loader = DataLoader(val_dataset, batch_size=batch_size, shuffle=True, num_workers=4,pin_memory=True)\n",
    "\n",
    "# Initialize model, loss function, and optimizer\n",
    "d_model = 256\n",
    "NUM_EPOCHS = 5\n",
    "vocab_size = len(vocab.id_to_word.keys())\n",
    "nhead = 8\n",
    "num_layers = 2\n",
    "model = ChessTransformer(vocab, d_model, nhead, num_layers = num_layers)\n",
    "model = model.to(device)\n",
    "# This ignores loss on pad tokens from the label's perspective\n",
    "criterion = nn.CrossEntropyLoss(ignore_index=vocab.get_id('<PAD>'))  # Assuming you have a PAD token\n",
    "lr = 2e-3\n",
    "weight_decay=1e-7\n",
    "learn_decay = 0.65 # This causes the LR to be 2e-5 by epoch 10\n",
    "optimizer = optim.Adam(model.parameters(), lr=lr, weight_decay=weight_decay)\n",
    "\n",
    "def count_parameters(model):\n",
    "    return sum(p.numel() for p in model.parameters() if p.requires_grad)\n",
    "print(count_parameters(model))"
   ]
  },
  {
   "cell_type": "code",
   "execution_count": 20,
   "metadata": {},
   "outputs": [
    {
     "name": "stdout",
     "output_type": "stream",
     "text": [
      "torch.Size([1, 750])\n",
      "torch.Size([1, 750, 256])\n",
      "torch.Size([1, 7, 256])\n",
      "torch.Size([1, 7, 44])\n",
      "tensor([[[ 0.4648,  0.2252, -0.7298, -0.1633,  0.1543,  0.7997,  0.7714,\n",
      "          -0.3767, -0.0298, -0.1123,  0.3134, -0.0044,  0.8669,  0.6347,\n",
      "          -0.2052,  0.3185, -1.3403,  0.0363, -0.2123,  0.6981,  0.7101,\n",
      "           0.1066,  1.0624, -1.5129, -0.2120,  0.1658,  0.4270, -0.1416,\n",
      "           0.2197, -0.2524,  0.2754,  0.1417,  0.6042, -0.4900,  0.1448,\n",
      "          -0.7046, -0.7374,  0.0967, -0.7628,  0.1386,  0.0323, -0.9926,\n",
      "          -0.0522,  0.8933],\n",
      "         [-0.3992, -0.0509, -0.0180,  0.1279,  0.3200,  0.0432,  0.5092,\n",
      "           0.0205,  0.1142, -0.1747,  0.2441, -0.0703, -0.2902,  0.7650,\n",
      "          -0.1831, -0.4725, -1.2954, -0.6571, -1.0736,  0.2546,  0.3756,\n",
      "           0.2168,  0.9371, -0.7129,  0.6834, -0.1957,  0.1172, -0.2603,\n",
      "           0.0576,  0.3933,  0.1552, -0.0979,  1.2780, -0.7649,  0.0508,\n",
      "          -0.7701, -0.4351, -0.1240, -0.7158,  0.5540, -0.1512, -0.8305,\n",
      "          -0.2640,  0.9626],\n",
      "         [ 0.1863,  0.2432, -0.2752,  0.0895,  0.2752,  0.1176,  0.2087,\n",
      "          -0.4160, -0.3387,  0.2458,  0.3870, -0.2686,  0.4319,  0.2414,\n",
      "          -0.4135, -0.1955, -0.4558, -0.6785, -0.4870,  0.1691,  0.0932,\n",
      "          -0.6495,  0.8495, -0.7141,  0.1877, -0.6343,  0.0803,  0.0591,\n",
      "          -0.0965, -0.3672, -0.1527,  0.0520,  0.1951, -1.0202, -0.4516,\n",
      "          -0.7492,  0.4307, -0.2962, -0.2037,  0.2471, -0.8213, -1.2533,\n",
      "          -0.3900,  1.2624],\n",
      "         [-0.1006, -0.1421,  0.0341,  0.2444,  0.2680,  0.5861,  0.4273,\n",
      "          -0.3683,  0.5992, -0.3240,  0.2621,  0.6452, -0.6059,  0.4106,\n",
      "           0.6854, -0.9803, -1.1371, -0.1021, -1.5207,  0.2027,  0.5857,\n",
      "          -0.0045,  1.0953, -1.0223,  0.6318,  0.0085,  0.4251, -0.0706,\n",
      "           0.2946,  0.4665,  0.2393,  0.0150,  1.2905, -0.7208,  0.0074,\n",
      "          -0.9747, -0.1526, -0.1162, -0.8221,  0.8387, -0.0695, -1.1034,\n",
      "           0.1505,  1.1473],\n",
      "         [ 0.4344, -0.4949,  0.4220,  0.4255,  0.0231,  0.2355,  0.9145,\n",
      "          -0.3652, -0.3336, -0.4710,  0.6187, -0.5954,  0.2269,  0.2974,\n",
      "          -0.1968, -0.1195, -0.8464, -0.4366, -0.8014,  0.5381,  0.0054,\n",
      "          -0.4372,  1.1811, -0.6216, -0.2029, -0.0985,  1.0580,  0.0456,\n",
      "           0.1876, -0.0995, -0.4719,  0.1840,  0.9907, -0.2907, -0.5261,\n",
      "          -0.6461, -0.5484, -0.1157, -0.6453,  1.0108, -0.8187, -1.4249,\n",
      "           0.0605,  1.1907],\n",
      "         [ 0.6232,  0.3923,  0.3494,  0.3231,  0.3016,  0.7852,  0.0957,\n",
      "          -0.3648, -0.4591, -0.6431,  0.4352, -0.1922,  0.0725,  0.7127,\n",
      "           0.3473, -0.7606, -1.0392, -0.1928, -1.4070,  0.6290,  0.3017,\n",
      "           0.1921,  1.2168, -0.8687,  0.7804, -0.6908,  0.7134,  0.0700,\n",
      "          -0.5400,  0.3638,  0.2790,  0.0805,  0.9576, -0.8315,  0.4735,\n",
      "          -0.6917,  0.0702, -0.4929, -0.4981,  1.0587, -0.2978, -0.6331,\n",
      "           0.3704,  0.7309],\n",
      "         [ 0.3268,  0.0769,  0.0347,  0.1416,  0.4020,  0.6311,  0.4056,\n",
      "          -0.5004,  0.3908, -0.3629,  0.0947, -0.4002, -0.2786,  0.1614,\n",
      "           0.2114, -0.3728, -1.0059, -0.3491, -0.8522,  0.2651,  0.3182,\n",
      "          -0.1955,  0.9051, -1.1156,  0.4541, -0.5696,  0.3886, -0.5038,\n",
      "           0.0291,  0.5676, -0.2603, -0.2516,  1.4564, -0.7387,  0.0255,\n",
      "          -1.1723,  0.0280, -0.2988, -0.9257,  0.6992,  0.1231, -1.1554,\n",
      "           0.0086,  1.1477]]], grad_fn=<ViewBackward0>)\n"
     ]
    },
    {
     "data": {
      "image/png": "[encoded data removed]",
      "text/plain": [
       "<Figure size 1000x500 with 1 Axes>"
      ]
     },
     "metadata": {},
     "output_type": "display_data"
    },
    {
     "data": {
      "text/plain": [
       "<Figure size 640x480 with 0 Axes>"
      ]
     },
     "metadata": {},
     "output_type": "display_data"
    }
   ],
   "source": [
    "# Train the model\n",
    "train_error,train_loss_values, val_error, val_loss_value = train_transformer(device, model, train_loader, val_loader, criterion, optimizer, NUM_EPOCHS, learn_decay)\n",
    "\n",
    "# Plot the training error\n",
    "plt.figure(figsize=(10, 5))\n",
    "plt.plot(val_error, label='Validation Loss')\n",
    "plt.xlabel('Epoch')\n",
    "plt.ylabel('Error')\n",
    "plt.title('Validation Error')\n",
    "plt.legend()\n",
    "plt.show()\n",
    "plt.savefig('transformer-4-04.png')  # This will save the plot as an image"
   ]
  }
 ],
 "metadata": {
  "kernelspec": {
   "display_name": ".venv",
   "language": "python",
   "name": "python3"
  },
  "language_info": {
   "codemirror_mode": {
    "name": "ipython",
    "version": 3
   },
   "file_extension": ".py",
   "mimetype": "text/x-python",
   "name": "python",
   "nbconvert_exporter": "python",
   "pygments_lexer": "ipython3",
   "version": "3.10.14"
  }
 },
 "nbformat": 4,
 "nbformat_minor": 2
}
